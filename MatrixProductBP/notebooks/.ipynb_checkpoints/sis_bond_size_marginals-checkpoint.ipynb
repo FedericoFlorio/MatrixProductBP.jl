{
 "cells": [
  {
   "cell_type": "markdown",
   "metadata": {},
   "source": [
    "Compare BP marginals with montecarlo on a tree"
   ]
  },
  {
   "cell_type": "code",
   "execution_count": 1,
   "metadata": {},
   "outputs": [
    {
     "name": "stderr",
     "output_type": "stream",
     "text": [
      "\u001b[32m\u001b[1m  Activating\u001b[22m\u001b[39m project at `~/MPdBP/MatrixProductBP`\n"
     ]
    }
   ],
   "source": [
    "import Pkg; Pkg.activate(\"..\")"
   ]
  },
  {
   "cell_type": "code",
   "execution_count": 2,
   "metadata": {},
   "outputs": [
    {
     "name": "stderr",
     "output_type": "stream",
     "text": [
      "┌ Info: Precompiling MatrixProductBP [3d39929c-b583-45fa-b331-3f50b693a38a]\n",
      "└ @ Base loading.jl:1662\n"
     ]
    }
   ],
   "source": [
    "using MatrixProductBP, MatrixProductBP.Models\n",
    "using Graphs, Plots, Printf, IndexedGraphs, Statistics\n",
    "using Base.Threads\n",
    "import ProgressMeter; ProgressMeter.ijulia_behavior(:clear);"
   ]
  },
  {
   "cell_type": "code",
   "execution_count": 3,
   "metadata": {},
   "outputs": [],
   "source": [
    "T = 5\n",
    "N = 15\n",
    "k = 4\n",
    "gg = random_regular_graph(N, k)\n",
    "t = SimpleGraph(prim_mst(gg))\n",
    "g = IndexedGraph(t)\n",
    "@assert !is_cyclic(g)\n",
    "@assert is_connected(g)\n",
    "λ = 0.2\n",
    "κ = 0.1\n",
    "γ = 3/N\n",
    "nobs = N÷2;"
   ]
  },
  {
   "cell_type": "code",
   "execution_count": 4,
   "metadata": {},
   "outputs": [
    {
     "data": {
      "text/plain": [
       "kl_marginals_bp_bondsize (generic function with 1 method)"
      ]
     },
     "execution_count": 4,
     "metadata": {},
     "output_type": "execute_result"
    }
   ],
   "source": [
    "function kl_marginals_bp_bondsize(T::Integer, N::Integer, k::Integer, λ::Real, κ::Real, γ::Real, \n",
    "        nobs::Integer, bonddims::AbstractVector{Int}; \n",
    "        ns_mc = 5*10^6, require_convergence=true, maxiter=100, tol=1e-3, kw...)\n",
    "    \n",
    "    b_bp = [Vector{Vector{Float64}}[] for _ in bonddims]\n",
    "    \n",
    "    gg = random_regular_graph(N, k)\n",
    "    t = SimpleGraph(prim_mst(gg))\n",
    "    g = IndexedGraph(t)\n",
    "    @assert !is_cyclic(g)\n",
    "    \n",
    "    sis = SIS(g, λ, κ, T; γ)\n",
    "    bp = mpbp(deepcopy(sis), d=1)\n",
    "    cb = CB_BP(bp)\n",
    "    x = draw_node_observations!(bp, nobs; last_time=true, softinf=1e2)\n",
    "    sms = sample(bp, ns_mc)\n",
    "    b_mc_ = marginals(sms)\n",
    "    b_mc = [[getproperty.(p, :val) for p in bi] for bi in b_mc_]\n",
    "    \n",
    "    for j in eachindex(bonddims)\n",
    "        svd_trunc = TruncBond(bonddims[j])\n",
    "        reset_messages!(bp)\n",
    "        cb = CB_BP(bp; showprogress=false)\n",
    "        iters, ε = iterate!(bp; maxiter, svd_trunc, cb, tol)\n",
    "        if require_convergence\n",
    "            iters == maxiter && error(\"BP did not converge\")\n",
    "        end\n",
    "        b_bp[j] = beliefs(bp)\n",
    "    end\n",
    "    kls = [kl_marginals(b, b_mc) for b in b_bp]\n",
    "end"
   ]
  },
  {
   "cell_type": "code",
   "execution_count": 5,
   "metadata": {},
   "outputs": [],
   "source": [
    "bonddims = [2, 3, 6];"
   ]
  },
  {
   "cell_type": "code",
   "execution_count": 6,
   "metadata": {},
   "outputs": [],
   "source": [
    "kls_bp = Vector{Vector{Float64}}[];"
   ]
  },
  {
   "cell_type": "code",
   "execution_count": null,
   "metadata": {
    "scrolled": true
   },
   "outputs": [
    {
     "name": "stderr",
     "output_type": "stream",
     "text": [
      "\u001b[32mSoftMargin sampling  97%|███████████████████████████████ |  ETA: 0:00:04\u001b[39m\u001b[32mSoftMargin sampling  92%|█████████████████████████████▍  |  ETA: 0:00:11\u001b[39m\u001b[32mSoftMargin sampling   8%|██▍                             |  ETA: 0:02:03\u001b[39m\u001b[32mSoftMargin sampling   7%|██▍                             |  ETA: 0:02:08\u001b[39m\u0000\u0000\u0000\u0000\u0000\u0000\u0000\u0000\u0000\u0000\u0000\u0000\u0000\u0000\u0000\u0000\u0000\u0000\u0000\u0000\u0000\u0000\u0000\u0000\u0000\u0000\u0000\u0000\u0000\u0000\u0000\u0000\u0000\u0000\u0000\u0000\u0000\u0000\u0000\u0000\u0000\u0000\u0000\u0000\u0000\u0000\u0000\u0000\u0000\u0000\u0000\u0000\u0000\u0000\u0000\u0000\u0000\u0000\u0000\u0000\u0000\u0000\u0000\u0000\u0000\u0000\u0000\u0000\u0000\u0000\u0000\u0000\u0000\u0000\u0000\u0000\u0000\u0000\u0000\u0000\u0000\u0000\u0000\u0000\u0000\u0000\u0000\u0000\u0000\u0000\u0000\u0000\u0000\u0000\u0000\u0000\u0000\u0000\u0000\u0000\u0000\u0000\u0000\u0000\u0000\u0000\u0000\u0000\u0000\u0000\u0000\u0000\u0000\u0000\u0000\u0000\u0000\u0000\u0000\u0000\u0000\u0000\u0000\u0000\u0000\u0000\u0000\u0000\u0000\u0000\u0000\u0000\u0000\u0000\u0000\u0000\u0000\u0000\u0000\u0000\u0000\u0000\u0000\u0000\u0000\u0000\u0000\u0000\u0000\u0000\u0000\u0000\u0000\u0000\u0000\u0000\u0000\u0000\u0000\u0000\u0000\u0000\u0000\u0000\u0000\u0000\u0000\u0000\u0000\u0000\u0000\u0000\u0000\u0000\u0000\u0000\u0000\u0000\u0000\u0000\u0000\u0000\u0000\u0000\u0000\u0000\u0000\u0000\u0000\u0000\u0000\u0000\u0000\u0000\u0000\u0000\u0000\u0000\u0000\u0000\u0000\u0000\u0000\u0000\u0000\u0000\u0000\u0000\u0000\u0000\u0000\u0000\u0000\u0000\u0000\u0000\u0000\u0000\u0000\u0000\u0000\u0000\u0000\u0000\u0000\u001b[32mSoftMargin sampling  48%|███████████████▌                |  ETA: 0:01:08\u001b[39m\u001b[32mSoftMargin sampling  49%|███████████████▋                |  ETA: 0:01:07\u001b[39m\u001b[32mSoftMargin sampling  58%|██████████████████▊             |  ETA: 0:01:13\u001b[39m\u001b[32mSoftMargin sampling  59%|██████████████████▉             |  ETA: 0:01:10\u001b[39m\u001b[32mSoftMargin sampling  66%|█████████████████████▏          |  ETA: 0:00:55\u001b[39m\u001b[32mSoftMargin sampling  66%|█████████████████████▏          |  ETA: 0:00:54\u001b[39m\u001b[32mSoftMargin sampling  67%|█████████████████████▌          |  ETA: 0:00:52\u001b[39m\u001b[32mSoftMargin sampling  67%|█████████████████████▌          |  ETA: 0:00:52\u001b[39m\u001b[32mSoftMargin sampling  68%|█████████████████████▊          |  ETA: 0:00:50\u001b[39m\u001b[32mSoftMargin sampling  69%|██████████████████████          |  ETA: 0:00:49\u001b[39m\u001b[32mSoftMargin sampling  68%|█████████████████████▊          |  ETA: 0:00:51\u001b[39m\u001b[32mSoftMargin sampling  67%|█████████████████████▍          |  ETA: 0:00:54\u001b[39m\n",
      "\u001b[32mSoftMargin sampling 100%|████████████████████████████████| Time: 0:02:03\u001b[39m\n",
      "\u001b[32mSoftMargin sampling 100%|████████████████████████████████| Time: 0:02:05\u001b[39m\n",
      "\u001b[32mSoftMargin sampling 100%|████████████████████████████████| Time: 0:02:05\u001b[39m\n",
      "\u001b[32mSoftMargin sampling 100%|████████████████████████████████| Time: 0:02:05\u001b[39m\n",
      "\u001b[32mSoftMargin sampling 100%|████████████████████████████████| Time: 0:02:06\u001b[39m\n",
      "\u001b[32mSoftMargin sampling 100%|████████████████████████████████| Time: 0:02:06\u001b[39m\n",
      "\u001b[32mSoftMargin sampling 100%|████████████████████████████████| Time: 0:02:06\u001b[39m\n",
      "\u001b[32mSoftMargin sampling 100%|████████████████████████████████| Time: 0:02:28\u001b[39m\u001b[32mSoftMargin sampling  89%|████████████████████████████▋   |  ETA: 0:00:17\u001b[39m\u001b[32mSoftMargin sampling  39%|████████████▍                   |  ETA: 0:02:24\u001b[39m\u001b[32mSoftMargin sampling  39%|████████████▌                   |  ETA: 0:02:22\u001b[39m\u001b[32mSoftMargin sampling  37%|███████████▉                    |  ETA: 0:02:34\u001b[39m\u001b[32mSoftMargin sampling  41%|█████████████                   |  ETA: 0:02:14\u001b[39m\u001b[32mSoftMargin sampling  38%|████████████                    |  ETA: 0:02:32\u001b[39m\u001b[32mSoftMargin sampling  38%|████████████▏                   |  ETA: 0:02:29\u001b[39m\u001b[32mSoftMargin sampling  69%|██████████████████████          |  ETA: 0:00:59\u001b[39m\u001b[32mSoftMargin sampling  71%|██████████████████████▋         |  ETA: 0:00:55\u001b[39m\n",
      "\u001b[32mSoftMargin sampling 100%|████████████████████████████████| Time: 0:02:29\u001b[39m\n",
      "\u001b[32mSoftMargin sampling 100%|████████████████████████████████| Time: 0:02:29\u001b[39m\n",
      "\u001b[32mSoftMargin sampling 100%|████████████████████████████████| Time: 0:02:29\u001b[39m\n",
      "\u001b[32mSoftMargin sampling 100%|████████████████████████████████| Time: 0:02:29\u001b[39m\n",
      "\u001b[32mSoftMargin sampling 100%|████████████████████████████████| Time: 0:02:30\u001b[39m\n",
      "\u001b[32mSoftMargin sampling 100%|████████████████████████████████| Time: 0:02:30\u001b[39m\n",
      "\u001b[32mSoftMargin sampling 100%|████████████████████████████████| Time: 0:02:30\u001b[39m\n",
      "\u001b[32mSoftMargin sampling  77%|████████████████████████▋       |  ETA: 0:00:31\u001b[39m\u001b[32mSoftMargin sampling  76%|████████████████████████▎       |  ETA: 0:00:33\u001b[39m\u0000\u0000\u0000\u0000\u0000\u0000\u0000\u0000\u0000\u0000\u0000\u0000\u0000\u0000n sampling   1%|▎                               |  ETA: 0:01:31\u001b[39m\u001b[32mSoftMargin sampling   7%|██▎                             |  ETA: 0:00:55\u001b[39m\u001b[32mSoftMargin sampling   8%|██▌                             |  ETA: 0:00:56\u001b[39m\u001b[32mSoftMargin sampling   2%|▋                               |  ETA: 0:01:02\u001b[39m\u001b[32mSoftMargin sampling   4%|█▏                              |  ETA: 0:01:14\u001b[39m\u001b[32mSoftMargin sampling   4%|█▎                              |  ETA: 0:01:09\u001b[39m\u0000\u0000\u0000\u0000\u0000\u0000\u0000\u0000\u0000\u0000\u0000\u0000\u0000\u0000\u0000\u0000\u0000\u0000\u0000\u0000\u0000\u0000\u0000\u0000\u0000\u0000\u0000\u0000\u0000\u0000\u0000\u0000\u0000\u0000\u0000\u0000\u0000\u0000\u0000\u0000\u0000\u0000\u0000\u0000\u0000\u0000\u0000\u0000\u0000\u0000\u0000\u0000\u0000\u0000\u0000\u0000\u0000\u0000\u0000\u0000\u0000\u0000\u0000\u0000\u0000\u0000\u0000\u0000\u0000\u0000\u0000\u0000\u0000\u0000\u0000\u0000\u0000\u0000\u0000\u0000\u0000\u0000\u0000\u0000\u0000\u0000\u0000\u0000\u0000\u0000\u0000\u0000\u0000\u0000\u0000\u0000\u0000\u0000\u0000\u0000\u0000\u0000\u0000\u0000\u0000\u0000\u0000\u0000\u0000\u0000\u0000\u0000\u0000\u0000\u0000\u0000\u0000\u0000\u0000\u0000\u0000\u0000\u0000\u0000\u0000\u0000\u0000\u0000\u0000\u0000\u0000\u0000\u0000\u0000\u0000\u0000\u0000\u0000\u0000\u0000\u0000\u0000\u0000\u0000\u0000\u0000\u0000\u0000\u0000\u0000\u0000\u0000\u0000\u0000\u0000\u0000\u0000\u0000\u0000\u0000\u0000\u0000\u0000\u0000\u0000\u0000\u0000\u0000\u0000\u0000\u0000\u0000\u0000\u0000\u0000\u0000\u0000\u0000\u001b[32mSoftMargin sampling  24%|███████▋                        |  ETA: 0:00:42\u001b[39m\u001b[32mSoftMargin sampling  43%|█████████████▉                  |  ETA: 0:01:34\u001b[39m\u001b[32mSoftMargin sampling  36%|███████████▋                    |  ETA: 0:02:00\u001b[39m\u001b[32mSoftMargin sampling  39%|████████████▋                   |  ETA: 0:01:47\u001b[39m\u001b[32mSoftMargin sampling  46%|██████████████▋                 |  ETA: 0:01:26\u001b[39m\u001b[32mSoftMargin sampling  42%|█████████████▎                  |  ETA: 0:01:40\u001b[39m\u001b[32mSoftMargin sampling  53%|█████████████████               |  ETA: 0:01:11\u001b[39m\u001b[32mSoftMargin sampling  64%|████████████████████▋           |  ETA: 0:00:51\u001b[39m\u001b[32mSoftMargin sampling  60%|███████████████████▎            |  ETA: 0:00:59\u001b[39m\u001b[32mSoftMargin sampling  61%|███████████████████▌            |  ETA: 0:00:58\u001b[39m\u001b[32mSoftMargin sampling  57%|██████████████████▎             |  ETA: 0:01:07\u001b[39m\u001b[32mSoftMargin sampling  64%|████████████████████▍           |  ETA: 0:00:52\u001b[39m\u001b[32mSoftMargin sampling  65%|████████████████████▉           |  ETA: 0:00:50\u001b[39m\u001b[32mSoftMargin sampling  61%|███████████████████▌            |  ETA: 0:01:00\u001b[39m\u001b[32mSoftMargin sampling  70%|██████████████████████▌         |  ETA: 0:00:41\u001b[39m\u001b[32mSoftMargin sampling  66%|█████████████████████▎          |  ETA: 0:00:48\u001b[39m\u001b[32mSoftMargin sampling  67%|█████████████████████▍          |  ETA: 0:00:48\u001b[39m\u001b[32mSoftMargin sampling  71%|██████████████████████▊         |  ETA: 0:00:41\u001b[39m\r"
     ]
    }
   ],
   "source": [
    "ninstances = 20\n",
    "kls_bp_ = [[zeros(T+1) for _ in bonddims] for _ in 1:ninstances]\n",
    "@threads for n in 1:ninstances\n",
    "#     println(\"### instance $n of $ninstances\")\n",
    "    kls_bp_[n] = kl_marginals_bp_bondsize(T, N, k, λ, κ, γ, nobs, bonddims, ns_mc=10^6)\n",
    "end\n",
    "append!(kls_bp, kls_bp_);"
   ]
  },
  {
   "cell_type": "code",
   "execution_count": null,
   "metadata": {},
   "outputs": [],
   "source": [
    "kls_bp_avg = map(eachindex(bonddims)) do i\n",
    "    mean([a[i] for a in kls_bp])\n",
    "end\n",
    "kls_bp_std = map(eachindex(bonddims)) do i\n",
    "    std([a[i] for a in kls_bp]) ./ sqrt(length(kls_bp))\n",
    "end; "
   ]
  },
  {
   "cell_type": "code",
   "execution_count": null,
   "metadata": {},
   "outputs": [],
   "source": [
    "println(\"SIS with: P(S→I)=λ=$λ, P(I→S)=κ=$κ. P(zero patient)=γ=$γ\")\n",
    "println(\"Random regular N=$N, k=$k. T=$T, $nobs random observations from the prior at final time\")\n",
    "println(\"Average over \", length(kls_bp), \" random instances.\")\n",
    "using ColorSchemes\n",
    "cg = cgrad(:matter, length(bonddims), categorical=true) |> reverse\n",
    "pl = plot(xlabel=\"time\", ylabel=\"KL\", xticks=0:T, legend=:bottomright)\n",
    "for i in eachindex(bonddims)\n",
    "    plot!(pl, 0:T, kls_bp_avg[i], ribbon=kls_bp_std[i], c=cg[i],\n",
    "        label=\"matrix size = $(bonddims[i])\", m=:o)\n",
    "end\n",
    "plot(pl, title=\"KL between BP and true (montecarlo) marginals\", titlefontsize=10, \n",
    "    legend=:outertopright, size=(800,400), margin=5Plots.mm)"
   ]
  },
  {
   "cell_type": "code",
   "execution_count": null,
   "metadata": {},
   "outputs": [],
   "source": []
  }
 ],
 "metadata": {
  "kernelspec": {
   "display_name": "Julia 1.8.0",
   "language": "julia",
   "name": "julia-1.8"
  },
  "language_info": {
   "file_extension": ".jl",
   "mimetype": "application/julia",
   "name": "julia",
   "version": "1.8.0"
  }
 },
 "nbformat": 4,
 "nbformat_minor": 4
}
