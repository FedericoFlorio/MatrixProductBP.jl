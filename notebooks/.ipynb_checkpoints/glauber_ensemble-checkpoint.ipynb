{
 "cells": [
  {
   "cell_type": "markdown",
   "metadata": {},
   "source": [
    "# Glauber - ensamble calculations\n",
    "Compute magnetization in the thermodynamic limit $N\\to\\infty$.\n",
    "\n",
    "Reproduce the results in https://doi.org/10.1103/PhysRevE.97.010104 for $k=3$."
   ]
  },
  {
   "cell_type": "code",
   "execution_count": null,
   "metadata": {},
   "outputs": [],
   "source": [
    "import Pkg; Pkg.activate(\"..\")"
   ]
  },
  {
   "cell_type": "code",
   "execution_count": null,
   "metadata": {},
   "outputs": [],
   "source": [
    "using MatrixProductBP, MatrixProductBP.Models\n",
    "using Graphs, IndexedGraphs, Plots\n",
    "import ProgressMeter; ProgressMeter.ijulia_behavior(:clear);"
   ]
  },
  {
   "cell_type": "code",
   "execution_count": 12,
   "metadata": {},
   "outputs": [],
   "source": [
    "T = 50\n",
    "k = 3\n",
    "N = k + 1\n",
    "gg = random_regular_graph(N, k)\n",
    "g = IndexedGraph(gg)\n",
    "J = 1.0\n",
    "β = 1.0\n",
    "h = 0.0\n",
    "ising = Ising(J .* adjacency_matrix(g), fill(h, N), β)\n",
    "p⁰ = fill([0.75, 0.25], N)\n",
    "gl = Glauber(ising, T; p⁰);"
   ]
  },
  {
   "cell_type": "code",
   "execution_count": null,
   "metadata": {},
   "outputs": [],
   "source": [
    "bp = mpbp(gl)\n",
    "cb = CB_BP(bp)\n",
    "svd_trunc = TruncBond(10)\n",
    "iterate!(bp; svd_trunc, cb, maxiter=100, tol=1e-3);"
   ]
  },
  {
   "cell_type": "code",
   "execution_count": null,
   "metadata": {},
   "outputs": [],
   "source": [
    "plot(cb.Δs, ylabel=\"convergence error\", xlabel=\"iters\", yaxis=:log10, \n",
    "    size=(300,200), label=\"\")"
   ]
  },
  {
   "cell_type": "code",
   "execution_count": null,
   "metadata": {},
   "outputs": [],
   "source": [
    "b_bp = beliefs(bp)\n",
    "magnetiz = [bbb[1] - bbb[2] for bbb in b_bp[1]];"
   ]
  },
  {
   "cell_type": "code",
   "execution_count": null,
   "metadata": {},
   "outputs": [],
   "source": [
    "plot(0:T, magnetiz, m=:o, xlabel=\"time\", ylabel=\"magnetization\", label=\"\",\n",
    "    size=(300,300), xticks=0:5:T)"
   ]
  },
  {
   "cell_type": "code",
   "execution_count": null,
   "metadata": {},
   "outputs": [],
   "source": []
  }
 ],
 "metadata": {
  "kernelspec": {
   "display_name": "Julia 1.8.0 (10 threads) 1.8.0",
   "language": "julia",
   "name": "julia-1.8.0-(10-threads)-1.8"
  },
  "language_info": {
   "file_extension": ".jl",
   "mimetype": "application/julia",
   "name": "julia",
   "version": "1.8.0"
  }
 },
 "nbformat": 4,
 "nbformat_minor": 4
}
