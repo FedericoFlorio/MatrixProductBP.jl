{
 "cells": [
  {
   "cell_type": "markdown",
   "metadata": {},
   "source": [
    "# SIS hyperparameters\n",
    "Generate an epidemic with some unknown \"true\" $(\\lambda, \\kappa)$, then try to infer them by doing a grid search and comparing the log-likelihood (negative Bethe free energy)"
   ]
  },
  {
   "cell_type": "code",
   "execution_count": 12,
   "metadata": {},
   "outputs": [],
   "source": [
    "using MatrixProductBP, MatrixProductBP.Models\n",
    "using Graphs, Plots, Printf, IndexedGraphs, Statistics, Random\n",
    "using Base.Threads\n",
    "import ProgressMeter; ProgressMeter.ijulia_behavior(:clear);"
   ]
  },
  {
   "cell_type": "code",
   "execution_count": 4,
   "metadata": {},
   "outputs": [
    {
     "data": {
      "text/plain": [
       "default_tg_text (generic function with 1 method)"
      ]
     },
     "execution_count": 4,
     "metadata": {},
     "output_type": "execute_result"
    }
   ],
   "source": [
    "include(\"../../telegram/notifications.jl\")"
   ]
  },
  {
   "cell_type": "code",
   "execution_count": 152,
   "metadata": {},
   "outputs": [],
   "source": [
    "T = 15\n",
    "N = 500\n",
    "k = 4\n",
    "gg = random_regular_graph(N, k)\n",
    "g = IndexedGraph(gg)\n",
    "# t = SimpleGraph(prim_mst(gg))\n",
    "# g = IndexedGraph(t)\n",
    "# @assert is_connected(g)\n",
    "# t = binary_tree(12)\n",
    "# g = IndexedGraph(t)\n",
    "# N = nv(g)\n",
    "# @show N\n",
    "λ_true = 0.4\n",
    "ρ_true = 0.2\n",
    "γ = 10/N;"
   ]
  },
  {
   "cell_type": "code",
   "execution_count": 153,
   "metadata": {},
   "outputs": [],
   "source": [
    "sis_true = SIS(g, λ_true, ρ_true, T; γ)\n",
    "X, _ = onesample(mpbp(sis_true));"
   ]
  },
  {
   "cell_type": "code",
   "execution_count": 154,
   "metadata": {},
   "outputs": [
    {
     "data": {
      "text/plain": [
       "6"
      ]
     },
     "execution_count": 154,
     "metadata": {},
     "output_type": "execute_result"
    }
   ],
   "source": [
    "sum(X[:,1] .== INFECTED)"
   ]
  },
  {
   "cell_type": "code",
   "execution_count": 155,
   "metadata": {},
   "outputs": [
    {
     "data": {
      "text/plain": [
       "0.47775"
      ]
     },
     "execution_count": 155,
     "metadata": {},
     "output_type": "execute_result"
    }
   ],
   "source": [
    "mean(X .== INFECTED)"
   ]
  },
  {
   "cell_type": "code",
   "execution_count": 156,
   "metadata": {},
   "outputs": [],
   "source": [
    "lambdas = 0.3:0.02:0.5\n",
    "rhos = 0.1:0.02:0.3\n",
    "f = fill!(lambdas*rhos', 0);"
   ]
  },
  {
   "cell_type": "code",
   "execution_count": 167,
   "metadata": {},
   "outputs": [
    {
     "data": {
      "text/plain": [
       "true"
      ]
     },
     "execution_count": 167,
     "metadata": {},
     "output_type": "execute_result"
    }
   ],
   "source": [
    "# nobs = (T*N)\n",
    "# last_time = false\n",
    "nobs = N\n",
    "last_time = true"
   ]
  },
  {
   "cell_type": "code",
   "execution_count": 168,
   "metadata": {},
   "outputs": [],
   "source": [
    "bp = mpbp(SIS(g, λ, ρ, T; γ))\n",
    "rng = MersenneTwister(0)\n",
    "draw_node_observations!(bp.ϕ, X, nobs; rng, last_time);"
   ]
  },
  {
   "cell_type": "code",
   "execution_count": 169,
   "metadata": {},
   "outputs": [],
   "source": [
    "svd_trunc=TruncBond(5);"
   ]
  },
  {
   "cell_type": "code",
   "execution_count": null,
   "metadata": {
    "scrolled": true
   },
   "outputs": [
    {
     "name": "stdout",
     "output_type": "stream",
     "text": [
      "## λ 1 of 11\n",
      "   ## ρ 1 of 11\n"
     ]
    },
    {
     "name": "stderr",
     "output_type": "stream",
     "text": [
      "┌ Warning: Assignment to `ρ` in soft scope is ambiguous because a global variable by the same name exists: `ρ` will be treated as a new local. Disambiguate by using `local ρ` to suppress this warning or `global ρ` to assign to the existing global variable.\n",
      "└ @ nothing In[171]:7\n"
     ]
    },
    {
     "name": "stdout",
     "output_type": "stream",
     "text": [
      "   ## ρ 2 of 11\n",
      "   ## ρ 3 of 11\n",
      "   ## ρ 4 of 11\n",
      "   ## ρ 5 of 11\n",
      "   ## ρ 6 of 11\n",
      "   ## ρ 7 of 11\n",
      "   ## ρ 8 of 11\n",
      "   ## ρ 9 of 11\n"
     ]
    }
   ],
   "source": [
    "@telegram \"sis hyperparams\" begin\n",
    "    \n",
    "    for (i,λ) in enumerate(lambdas)\n",
    "        println(\"## λ $i of \", length(lambdas))\n",
    "        for j in eachindex(rhos)\n",
    "            println(\"   ## ρ $j of \", length(rhos))\n",
    "            ρ = rhos[j]\n",
    "            for i in eachindex(bp.w)\n",
    "                bp.w[i] .= (SISFactor(λ, ρ),) \n",
    "            end\n",
    "#             bp = mpbp(SIS(g, λ, ρ, T; γ))\n",
    "#             rng = MersenneTwister(0)\n",
    "#             draw_node_observations!(bp.ϕ, X, nobs; rng, last_time)\n",
    "        \n",
    "            reset_messages!(bp)\n",
    "            iterate!(bp; maxiter=100, tol=1e-3, showprogress=false, svd_trunc)\n",
    "            f[i,j] = bethe_free_energy(bp)\n",
    "#             lp, ll = logprior_loglikelihood(bp, X)\n",
    "#             f[i,j] = -lp\n",
    "        end\n",
    "    end\n",
    "    \n",
    "end"
   ]
  },
  {
   "cell_type": "code",
   "execution_count": null,
   "metadata": {},
   "outputs": [],
   "source": [
    "println(\"SIS - Inference of hyperparameters for 1 realization of an epidemic with N=$N, T=$T, \n",
    "    $nobs random observations\")\n",
    "println(\"Matrix size: $(svd_trunc.mprime)\")\n",
    "plot(lambdas, rhos, -f',title=\"log-likelihood of hyperparameters\", xlabel=\"λ\", ylabel=\"ρ\", \n",
    "    fill=true, levels=30, st=:heatmap)\n",
    "scatter!([λ_true], [ρ_true], m=:plus, label=\"\", c=:black, msw=4, ms=6, margin=6Plots.mm)"
   ]
  }
 ],
 "metadata": {
  "kernelspec": {
   "display_name": "Julia 1.8.0",
   "language": "julia",
   "name": "julia-1.8"
  },
  "language_info": {
   "file_extension": ".jl",
   "mimetype": "application/julia",
   "name": "julia",
   "version": "1.8.0"
  }
 },
 "nbformat": 4,
 "nbformat_minor": 4
}
