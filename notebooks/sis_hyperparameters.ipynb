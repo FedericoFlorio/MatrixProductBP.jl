{
 "cells": [
  {
   "cell_type": "markdown",
   "metadata": {},
   "source": [
    "# SIS hyperparameters\n",
    "Generate an epidemic with some unknown \"true\" $(\\lambda, \\kappa)$, then try to infer them by doing a grid search and comparing the log-likelihood (negative Bethe free energy)"
   ]
  },
  {
   "cell_type": "code",
   "execution_count": 1,
   "metadata": {},
   "outputs": [
    {
     "name": "stderr",
     "output_type": "stream",
     "text": [
      "\u001b[32m\u001b[1m  Activating\u001b[22m\u001b[39m project at `~/MatrixProductBP`\n"
     ]
    }
   ],
   "source": [
    "import Pkg; Pkg.activate(\"..\")"
   ]
  },
  {
   "cell_type": "code",
   "execution_count": 2,
   "metadata": {},
   "outputs": [],
   "source": [
    "using MatrixProductBP, MatrixProductBP.Models\n",
    "using Graphs, Plots, Printf, IndexedGraphs, Statistics, Random\n",
    "using Base.Threads\n",
    "import ProgressMeter; ProgressMeter.ijulia_behavior(:clear);"
   ]
  },
  {
   "cell_type": "code",
   "execution_count": 33,
   "metadata": {},
   "outputs": [
    {
     "data": {
      "text/plain": [
       "default_tg_text (generic function with 1 method)"
      ]
     },
     "execution_count": 33,
     "metadata": {},
     "output_type": "execute_result"
    }
   ],
   "source": [
    "include(\"../../telegram/notifications.jl\")"
   ]
  },
  {
   "cell_type": "code",
   "execution_count": 34,
   "metadata": {},
   "outputs": [],
   "source": [
    "T = 10\n",
    "N = 1000\n",
    "k = 4\n",
    "gg = random_regular_graph(N, k)\n",
    "g = IndexedGraph(gg)\n",
    "t = SimpleGraph(prim_mst(gg))\n",
    "g = IndexedGraph(t)\n",
    "@assert is_connected(g)\n",
    "λ_true = 0.2\n",
    "κ_true = 0.1\n",
    "γ = 3/N;"
   ]
  },
  {
   "cell_type": "code",
   "execution_count": 35,
   "metadata": {},
   "outputs": [],
   "source": [
    "sis_true = SIS(g, λ_true, κ_true, T; γ)\n",
    "X, _ = onesample(mpbp(sis_true));"
   ]
  },
  {
   "cell_type": "code",
   "execution_count": 36,
   "metadata": {},
   "outputs": [],
   "source": [
    "lambdas = 0.1:0.01:0.3\n",
    "kappas = 0.01:0.01:0.2\n",
    "f = fill!(lambdas*kappas', 0);"
   ]
  },
  {
   "cell_type": "code",
   "execution_count": 37,
   "metadata": {},
   "outputs": [
    {
     "data": {
      "text/plain": [
       "10000"
      ]
     },
     "execution_count": 37,
     "metadata": {},
     "output_type": "execute_result"
    }
   ],
   "source": [
    "nobs = (T*N) ÷ 1"
   ]
  },
  {
   "cell_type": "code",
   "execution_count": null,
   "metadata": {
    "scrolled": true
   },
   "outputs": [
    {
     "name": "stdout",
     "output_type": "stream",
     "text": [
      "## λ 1 of 21\n",
      "## λ 2 of 21\n",
      "## λ 3 of 21\n",
      "## λ 4 of 21\n"
     ]
    }
   ],
   "source": [
    "@telegram begin\n",
    "    \n",
    "for (i,λ) in enumerate(lambdas)\n",
    "    println(\"## λ $i of \", length(lambdas))\n",
    "    @threads for j in eachindex(kappas)\n",
    "        κ = kappas[j]\n",
    "        bp = mpbp(SIS(g, λ, κ, T; γ))\n",
    "        rng = MersenneTwister(0)\n",
    "        draw_node_observations!(bp.ϕ, X, nobs; rng)\n",
    "        iterate!(bp; maxiter=100, tol=1e-3, showprogress=false, svd_trunc=TruncBond(6))\n",
    "        f[i,j] = bethe_free_energy(bp)\n",
    "    end\n",
    "end\n",
    "    \n",
    "end"
   ]
  },
  {
   "cell_type": "code",
   "execution_count": null,
   "metadata": {},
   "outputs": [],
   "source": [
    "heatmap(lambdas, kappas, exp.(-f)',title=\"likelihood of hyperparameters\", xlabel=\"λ\", ylabel=\"κ\")\n",
    "scatter!([λ_true], [κ_true], m=:plus, label=\"\", c=:white, msw=4, ms=6)"
   ]
  },
  {
   "cell_type": "code",
   "execution_count": null,
   "metadata": {},
   "outputs": [],
   "source": []
  }
 ],
 "metadata": {
  "kernelspec": {
   "display_name": "Julia 1.8.0",
   "language": "julia",
   "name": "julia-1.8"
  },
  "language_info": {
   "file_extension": ".jl",
   "mimetype": "application/julia",
   "name": "julia",
   "version": "1.8.0"
  }
 },
 "nbformat": 4,
 "nbformat_minor": 4
}
