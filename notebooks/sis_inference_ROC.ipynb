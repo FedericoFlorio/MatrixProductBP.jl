{
 "cells": [
  {
   "cell_type": "code",
   "execution_count": 16,
   "metadata": {},
   "outputs": [
    {
     "name": "stderr",
     "output_type": "stream",
     "text": [
      "\u001b[32m\u001b[1m  Activating\u001b[22m\u001b[39m project at `~/master_thesis`\n"
     ]
    }
   ],
   "source": [
    "using Pkg\n",
    "Pkg.activate(\"/home/fedflorio/master_thesis/\")"
   ]
  },
  {
   "cell_type": "code",
   "execution_count": 17,
   "metadata": {},
   "outputs": [],
   "source": [
    "using Revise\n",
    "using MatrixProductBP, MatrixProductBP.Models\n",
    "using Graphs, IndexedGraphs, Statistics, Random, LinearAlgebra, PyPlot\n",
    "import ProgressMeter; ProgressMeter.ijulia_behavior(:clear)\n",
    "using TensorTrains: summary_compact\n",
    "using SparseArrays\n",
    "include(\"/home/fedflorio/master_thesis/Utilities/roc.jl\");"
   ]
  },
  {
   "cell_type": "code",
   "execution_count": 18,
   "metadata": {},
   "outputs": [],
   "source": [
    "T = 100\n",
    "N = 10\n",
    "seed = 4\n",
    "\n",
    "c = 2\n",
    "gg = erdos_renyi(N, c/N; seed)\n",
    "g = IndexedGraph(gg)\n",
    "\n",
    "λ_unif = 0.4\n",
    "ρ_unif = 0.4\n",
    "λ = zeros(N,N)\n",
    "for i in CartesianIndices(λ)\n",
    "    if !iszero(g.A[i])\n",
    "        # λ[i] = rand()\n",
    "        λ[i] = λ_unif\n",
    "    end\n",
    "end\n",
    "λ = sparse(λ)\n",
    "# ρ = rand(N)\n",
    "ρ = fill(ρ_unif,N)\n",
    "γ = 0.5;\n",
    "\n",
    "# T = 7\n",
    "# N = 2\n",
    "# seed = 6\n",
    "\n",
    "# A = [0 1; 1 0]\n",
    "# g = IndexedGraph(A)\n",
    "\n",
    "# λ_unif = 0.7\n",
    "# ρ_unif = 0.6\n",
    "# λ = sparse(λ_unif .* A)\n",
    "# # λ = sparse([0 1e-12; λ_unif 0])\n",
    "# ρ = fill(ρ_unif, N)\n",
    "# γ = 0.5;\n",
    ";"
   ]
  },
  {
   "cell_type": "code",
   "execution_count": 19,
   "metadata": {},
   "outputs": [],
   "source": [
    "sis = SIS_heterogeneous(λ, ρ, T; γ);\n",
    "bp_obs = mpbp(sis);"
   ]
  },
  {
   "cell_type": "code",
   "execution_count": 20,
   "metadata": {},
   "outputs": [
    {
     "data": {
      "text/plain": [
       "10×10 SparseMatrixCSC{Int64, Int64} with 30 stored entries:\n",
       "  ⋅  ⋅   1  2  4   5   ⋅   ⋅   ⋅  14\n",
       "  ⋅  ⋅   ⋅  ⋅  ⋅   ⋅   ⋅   ⋅   9   ⋅\n",
       "  1  ⋅   ⋅  3  ⋅   ⋅   6   ⋅  10   ⋅\n",
       "  2  ⋅   3  ⋅  ⋅   ⋅   7   ⋅   ⋅   ⋅\n",
       "  4  ⋅   ⋅  ⋅  ⋅   ⋅   ⋅   ⋅   ⋅   ⋅\n",
       "  5  ⋅   ⋅  ⋅  ⋅   ⋅   8   ⋅  11   ⋅\n",
       "  ⋅  ⋅   6  7  ⋅   8   ⋅   ⋅  12   ⋅\n",
       "  ⋅  ⋅   ⋅  ⋅  ⋅   ⋅   ⋅   ⋅  13   ⋅\n",
       "  ⋅  9  10  ⋅  ⋅  11  12  13   ⋅  15\n",
       " 14  ⋅   ⋅  ⋅  ⋅   ⋅   ⋅   ⋅  15   ⋅"
      ]
     },
     "execution_count": 20,
     "metadata": {},
     "output_type": "execute_result"
    }
   ],
   "source": [
    "g.A"
   ]
  },
  {
   "cell_type": "code",
   "execution_count": 21,
   "metadata": {},
   "outputs": [],
   "source": [
    "obs_times = collect(0:T)\n",
    "nobs = floor(Int, N * length(obs_times) * 1.0)\n",
    "obs_fraction = nobs / N\n",
    "rng = MersenneTwister(seed)\n",
    "X, observed = draw_node_observations!(bp_obs, nobs, times = obs_times .+ 1, softinf=Inf; rng);"
   ]
  },
  {
   "cell_type": "code",
   "execution_count": 22,
   "metadata": {},
   "outputs": [
    {
     "data": {
      "text/plain": [
       "10×101 Matrix{Int64}:\n",
       " 2  1  2  1  2  2  2  1  2  2  2  1  1  …  2  1  2  2  2  1  2  2  1  2  2  1\n",
       " 2  2  2  1  2  2  1  2  2  2  1  1  1     1  2  2  1  1  2  2  1  1  1  1  1\n",
       " 2  2  2  1  2  2  2  2  2  2  2  2  1     1  1  2  2  1  2  1  1  2  2  2  2\n",
       " 2  2  1  2  2  2  2  2  1  2  1  2  2     2  2  2  2  2  2  1  2  2  2  1  2\n",
       " 2  2  1  2  2  2  2  2  2  2  1  2  1     1  2  1  1  2  1  1  1  1  1  1  1\n",
       " 2  2  2  2  2  2  1  2  1  2  2  2  2  …  1  2  1  1  2  2  2  1  1  1  1  1\n",
       " 1  2  2  2  2  2  2  1  2  2  2  2  2     2  1  2  1  1  2  2  2  2  2  1  2\n",
       " 2  1  1  2  2  2  1  1  1  1  1  1  1     1  2  1  1  1  1  2  1  1  1  1  1\n",
       " 1  2  2  2  2  1  2  2  1  2  1  2  2     2  2  1  1  2  2  2  1  1  1  2  2\n",
       " 2  2  2  1  2  1  2  1  2  1  2  2  1     2  1  1  1  1  2  2  2  1  1  1  2"
      ]
     },
     "execution_count": 22,
     "metadata": {},
     "output_type": "execute_result"
    }
   ],
   "source": [
    "X"
   ]
  },
  {
   "cell_type": "code",
   "execution_count": 23,
   "metadata": {},
   "outputs": [],
   "source": [
    "λinit = 0.1\n",
    "ρinit = 0.1\n",
    "\n",
    "A_complete = ones(N,N) - I\n",
    "g_complete = IndexedGraph(A_complete)\n",
    "λ_complete = sparse(λinit.*A_complete)\n",
    "ρ_complete = fill(ρinit, N)\n",
    "\n",
    "sis_inf = SIS_heterogeneous(g_complete, λ_complete, ρ_complete, T; γ, ϕ=deepcopy(bp_obs.ϕ))\n",
    "bp_inf = mpbp(sis_inf);"
   ]
  },
  {
   "cell_type": "code",
   "execution_count": 24,
   "metadata": {},
   "outputs": [
    {
     "name": "stderr",
     "output_type": "stream",
     "text": [
      "\r\u001b[32mRunning Gradient Ascent: iter 30    Time: 0:10:41\u001b[39m\r\n",
      "\u001b[34m  Δ:              0.999999\u001b[39m\r\n",
      "\u001b[34m  SVD tolerance:  1.0e-6\u001b[39m\r\u001b[A\r\u001b[A"
     ]
    }
   ],
   "source": [
    "svd_trunc = TruncBond(3)\n",
    "\n",
    "iters, cb = inference_parameters!(bp_inf, method=3, maxiter=30, λstep=0.01, ρstep=0.01, logpriorder=(x)->-0.1);\n",
    "# iters, = iterate!(bp_inf, maxiter=100; svd_trunc, tol=1e-6, damp=0.0);"
   ]
  },
  {
   "cell_type": "code",
   "execution_count": 25,
   "metadata": {},
   "outputs": [
    {
     "data": {
      "text/plain": [
       "0.845"
      ]
     },
     "execution_count": 25,
     "metadata": {},
     "output_type": "execute_result"
    }
   ],
   "source": [
    "xplot, yplot, auc = roccurve(cb.data[end].λ, λ)\n",
    "auc"
   ]
  },
  {
   "cell_type": "code",
   "execution_count": 26,
   "metadata": {},
   "outputs": [
    {
     "data": {
      "image/png": "[encoded data removed]",
      "text/plain": [
       "Figure(PyObject <Figure size 640x480 with 1 Axes>)"
      ]
     },
     "metadata": {},
     "output_type": "display_data"
    }
   ],
   "source": [
    "close(\"all\")\n",
    "plot(xplot,yplot);"
   ]
  }
 ],
 "metadata": {
  "kernelspec": {
   "display_name": "Julia 20 Threads 1.10.3",
   "language": "julia",
   "name": "julia-20-threads-1.10"
  },
  "language_info": {
   "file_extension": ".jl",
   "mimetype": "application/julia",
   "name": "julia",
   "version": "1.10.3"
  }
 },
 "nbformat": 4,
 "nbformat_minor": 2
}
