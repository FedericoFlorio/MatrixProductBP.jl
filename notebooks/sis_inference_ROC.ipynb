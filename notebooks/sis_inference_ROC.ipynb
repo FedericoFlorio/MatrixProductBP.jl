{
 "cells": [
  {
   "cell_type": "code",
   "execution_count": 92,
   "metadata": {},
   "outputs": [
    {
     "name": "stderr",
     "output_type": "stream",
     "text": [
      "\u001b[32m\u001b[1m  Activating\u001b[22m\u001b[39m project at `~/master_thesis`\n"
     ]
    }
   ],
   "source": [
    "using Pkg\n",
    "Pkg.activate(\"/home/fedflorio/master_thesis/\")"
   ]
  },
  {
   "cell_type": "code",
   "execution_count": 93,
   "metadata": {},
   "outputs": [],
   "source": [
    "using Revise\n",
    "using MatrixProductBP, MatrixProductBP.Models\n",
    "using Graphs, IndexedGraphs, Statistics, Random, LinearAlgebra, PyPlot\n",
    "import ProgressMeter; ProgressMeter.ijulia_behavior(:clear)\n",
    "using TensorTrains: summary_compact\n",
    "using SparseArrays\n",
    "include(\"/home/fedflorio/master_thesis/Utilities/roc.jl\");"
   ]
  },
  {
   "cell_type": "code",
   "execution_count": 94,
   "metadata": {},
   "outputs": [],
   "source": [
    "nsnaps = 100\n",
    "separation = 256\n",
    "T = nsnaps * separation\n",
    "N = 10\n",
    "seed = 4\n",
    "\n",
    "c = 2\n",
    "gg = erdos_renyi(N, c/N; seed)\n",
    "g = IndexedGraph(gg)\n",
    "\n",
    "λ_unif = 0.02\n",
    "ρ_unif = 0.02\n",
    "λ = zeros(N,N)\n",
    "for i in CartesianIndices(λ)\n",
    "    if !iszero(g.A[i])\n",
    "        # λ[i] = rand()\n",
    "        λ[i] = λ_unif\n",
    "    end\n",
    "end\n",
    "λ = sparse(λ)\n",
    "# ρ = rand(N)\n",
    "ρ = fill(ρ_unif,N)\n",
    "# γ = [i==4 ? 1.0 : 0.0 for i in 1:N]\n",
    "γ = 0.2\n",
    "α = fill(1e-4,N)\n",
    "\n",
    "# T = 7\n",
    "# N = 2\n",
    "# seed = 6\n",
    "\n",
    "# A = [0 1; 1 0]\n",
    "# g = IndexedGraph(A)\n",
    "\n",
    "# λ_unif = 0.7\n",
    "# ρ_unif = 0.6\n",
    "# λ = sparse(λ_unif .* A)\n",
    "# # λ = sparse([0 1e-12; λ_unif 0])\n",
    "# ρ = fill(ρ_unif, N)\n",
    "# γ = 0.5\n",
    ";"
   ]
  },
  {
   "cell_type": "code",
   "execution_count": 95,
   "metadata": {},
   "outputs": [],
   "source": [
    "sis = SIS_heterogeneous(λ, ρ, T; γ, α);\n",
    "bp_obs = mpbp(sis);"
   ]
  },
  {
   "cell_type": "code",
   "execution_count": 96,
   "metadata": {},
   "outputs": [
    {
     "data": {
      "text/plain": [
       "10×10 SparseMatrixCSC{Int64, Int64} with 30 stored entries:\n",
       "  ⋅  ⋅   1  2  4   5   ⋅   ⋅   ⋅  14\n",
       "  ⋅  ⋅   ⋅  ⋅  ⋅   ⋅   ⋅   ⋅   9   ⋅\n",
       "  1  ⋅   ⋅  3  ⋅   ⋅   6   ⋅  10   ⋅\n",
       "  2  ⋅   3  ⋅  ⋅   ⋅   7   ⋅   ⋅   ⋅\n",
       "  4  ⋅   ⋅  ⋅  ⋅   ⋅   ⋅   ⋅   ⋅   ⋅\n",
       "  5  ⋅   ⋅  ⋅  ⋅   ⋅   8   ⋅  11   ⋅\n",
       "  ⋅  ⋅   6  7  ⋅   8   ⋅   ⋅  12   ⋅\n",
       "  ⋅  ⋅   ⋅  ⋅  ⋅   ⋅   ⋅   ⋅  13   ⋅\n",
       "  ⋅  9  10  ⋅  ⋅  11  12  13   ⋅  15\n",
       " 14  ⋅   ⋅  ⋅  ⋅   ⋅   ⋅   ⋅  15   ⋅"
      ]
     },
     "execution_count": 96,
     "metadata": {},
     "output_type": "execute_result"
    }
   ],
   "source": [
    "g.A"
   ]
  },
  {
   "cell_type": "code",
   "execution_count": 97,
   "metadata": {},
   "outputs": [],
   "source": [
    "obs_times = collect(range(0, step=separation, length=nsnaps))\n",
    "nobs = floor(Int, N * length(obs_times) * 1.0)\n",
    "obs_fraction = nobs / N\n",
    "seed = 3\n",
    "rng = MersenneTwister(seed)\n",
    "X, observed = draw_node_observations!(bp_obs, nsnaps, times = obs_times .+ 1, softinf=Inf; rng);"
   ]
  },
  {
   "cell_type": "code",
   "execution_count": 98,
   "metadata": {},
   "outputs": [
    {
     "data": {
      "text/plain": [
       "10×25601 Matrix{Int64}:\n",
       " 2  2  2  2  2  2  2  2  2  2  2  2  2  …  2  2  2  2  2  2  2  2  2  2  2  2\n",
       " 2  2  2  2  2  2  2  2  2  2  2  2  2     1  1  1  1  1  1  1  1  1  1  2  2\n",
       " 2  2  2  2  2  2  2  2  2  2  2  2  2     1  2  2  2  2  2  2  2  2  2  2  2\n",
       " 2  2  2  2  2  2  2  2  2  2  2  2  2     2  2  2  2  2  2  2  2  2  1  1  1\n",
       " 1  1  2  2  2  2  2  2  2  2  2  2  2     2  2  2  2  2  2  2  2  2  2  2  2\n",
       " 1  1  1  1  1  1  2  2  2  2  2  2  2  …  1  1  1  1  1  1  1  2  2  2  2  2\n",
       " 1  1  1  1  1  1  1  2  2  2  2  2  2     1  1  1  1  1  1  2  2  2  2  2  2\n",
       " 1  2  2  2  2  2  2  2  2  2  2  2  2     2  2  2  2  2  2  2  2  2  2  2  2\n",
       " 2  2  2  2  2  2  2  2  2  2  2  2  2     2  2  2  2  2  2  2  2  2  2  2  2\n",
       " 1  1  1  1  1  1  1  1  1  1  1  1  1     2  2  2  2  2  2  2  2  2  2  2  2"
      ]
     },
     "execution_count": 98,
     "metadata": {},
     "output_type": "execute_result"
    }
   ],
   "source": [
    "X"
   ]
  },
  {
   "cell_type": "code",
   "execution_count": 371,
   "metadata": {},
   "outputs": [],
   "source": [
    "λinit = 0.1\n",
    "ρinit = 0.1\n",
    "\n",
    "A_complete = ones(N,N) - I\n",
    "g_complete = IndexedGraph(A_complete)\n",
    "λ_complete = sparse(λinit.*A_complete)\n",
    "ρ_complete = fill(ρinit, N)\n",
    "\n",
    "bp_inf = map(1:nsnaps-1) do i\n",
    "    obs_sub = [sis.ϕ[a][(i-1)*separation+1:i*separation+1] for a in eachindex(sis.ϕ)]\n",
    "    sis_inf = SIS_heterogeneous(g_complete, λ_complete, ρ_complete, separation; γ, ϕ=obs_sub)\n",
    "    bp = mpbp(sis_inf)\n",
    "end\n",
    ";"
   ]
  },
  {
   "cell_type": "code",
   "execution_count": 372,
   "metadata": {},
   "outputs": [],
   "source": [
    "svd_trunc = TruncBond(5)\n",
    "maxiter = 40\n",
    "\n",
    "nodes = vertices(bp_obs.g)\n",
    "\n",
    "λder = [zeros(length(nodes)-1) for n in nodes]\n",
    "ρder = zeros(length(nodes))\n",
    "params = []\n",
    "\n",
    "for it in 1:maxiter\n",
    "    step = 0.01 * 5^(it≤(maxiter/4))\n",
    "    for el in λder\n",
    "        el .= 0.0\n",
    "    end\n",
    "    ρder .= 0.0\n",
    "\n",
    "    cb = map(1:nsnaps-1) do k\n",
    "        Threads.@threads for i in nodes\n",
    "            onebpiter!(bp_inf[k], i, eltype(bp_inf[k].w[i]); svd_trunc, damp=0.0)\n",
    "        end\n",
    "\n",
    "        Threads.@threads for i in nodes\n",
    "            λd, ρd, = derivatives(bp_inf[k], i; svd_trunc, logpriorder=(x)->0.0)\n",
    "            λder[i] .+= λd\n",
    "            ρder[i] += ρd\n",
    "        end\n",
    "    end\n",
    "\n",
    "    for k in 1:nsnaps-1\n",
    "        for i in nodes\n",
    "            wᵢ = bp_inf[k].w[i]\n",
    "            dᵢ = length(inedges(bp_inf[k].g,i))\n",
    "            for t in eachindex(wᵢ)\n",
    "                for j in 1:dᵢ\n",
    "                    wᵢ[t].λ[j] += step*sign(λder[i][j])\n",
    "                end\n",
    "                wᵢ[t].ρ += step*sign(ρder[i])\n",
    "            end\n",
    "            for t in eachindex(wᵢ)\n",
    "                for j in 1:dᵢ\n",
    "                    wᵢ[t].λ[j] = clamp(wᵢ[1].λ[j], 1e-6, 1-1e-6)\n",
    "                end\n",
    "                wᵢ[t].ρ = clamp(wᵢ[1].ρ, 1e-6, 1-1e-6)\n",
    "            end\n",
    "        end\n",
    "    end\n",
    "\n",
    "    push!(params, [copy(bp_inf[1].w[i][1].λ) for i in eachindex(bp_inf[1].w)])\n",
    "\n",
    "end\n",
    "# iters, = iterate!(bp_inf, maxiter=100; svd_trunc, tol=1e-6, damp=0.0);"
   ]
  },
  {
   "cell_type": "code",
   "execution_count": null,
   "metadata": {},
   "outputs": [
    {
     "name": "stdout",
     "output_type": "stream",
     "text": [
      "0.5127777777777778\n",
      "0.5744444444444444\n",
      "0.6361111111111111\n",
      "0.6138888888888889\n",
      "0.6688888888888889\n",
      "0.6166666666666667\n",
      "0.6755555555555556\n",
      "0.6305555555555555\n",
      "0.6766666666666666\n",
      "0.6305555555555555\n",
      "0.6305555555555555\n",
      "0.6\n",
      "0.6294444444444445\n",
      "0.6294444444444445\n",
      "0.6283333333333333\n",
      "0.6266666666666667\n",
      "0.6494444444444445\n",
      "0.6333333333333333\n",
      "0.6394444444444445\n",
      "0.5988888888888889\n",
      "0.6022222222222222\n",
      "0.5761111111111111\n",
      "0.5594444444444444\n",
      "0.5638888888888889\n",
      "0.5577777777777778\n",
      "0.5588888888888889\n",
      "0.5533333333333333\n",
      "0.57\n",
      "0.5677777777777778\n",
      "0.5672222222222222\n",
      "0.5577777777777778\n",
      "0.5711111111111111\n",
      "0.5688888888888889\n",
      "0.5844444444444444\n",
      "0.58\n",
      "0.5605555555555556\n",
      "0.5838888888888889\n",
      "0.5661111111111111\n",
      "0.5622222222222222\n",
      "0.5711111111111111\n"
     ]
    }
   ],
   "source": [
    "auc = zeros(0)\n",
    "for data in params\n",
    "    push!(auc, roccurve(data, λ)[3])\n",
    "    println(auc[end])\n",
    "end"
   ]
  },
  {
   "cell_type": "code",
   "execution_count": null,
   "metadata": {},
   "outputs": [
    {
     "name": "stdout",
     "output_type": "stream",
     "text": [
      "auc = 0.5711111111111111\n"
     ]
    },
    {
     "data": {
      "image/png": "[encoded data removed]",
      "text/plain": [
       "Figure(PyObject <Figure size 640x480 with 1 Axes>)"
      ]
     },
     "metadata": {},
     "output_type": "display_data"
    }
   ],
   "source": [
    "xplot, yplot, auc = roccurve(params[end], λ)\n",
    "@show auc\n",
    "\n",
    "close(\"all\")\n",
    "plot(xplot,yplot);"
   ]
  }
 ],
 "metadata": {
  "kernelspec": {
   "display_name": "Julia 20 Threads 1.10.3",
   "language": "julia",
   "name": "julia-20-threads-1.10"
  },
  "language_info": {
   "file_extension": ".jl",
   "mimetype": "application/julia",
   "name": "julia",
   "version": "1.10.3"
  }
 },
 "nbformat": 4,
 "nbformat_minor": 2
}
