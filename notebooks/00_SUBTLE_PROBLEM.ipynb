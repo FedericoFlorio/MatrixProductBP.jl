{
 "cells": [
  {
   "cell_type": "code",
   "execution_count": 105,
   "metadata": {},
   "outputs": [],
   "source": [
    "using Revise\n",
    "using MatrixProductBP, MatrixProductBP.Models\n",
    "using Graphs, Plots, Printf, IndexedGraphs, Statistics, Random\n",
    "import ProgressMeter; ProgressMeter.ijulia_behavior(:clear)\n",
    "using JLD2\n",
    "using TensorTrains: summary_compact\n",
    "using SparseArrays;"
   ]
  },
  {
   "cell_type": "code",
   "execution_count": 106,
   "metadata": {},
   "outputs": [],
   "source": [
    "T = 5\n",
    "N = 10\n",
    "seed = 2\n",
    "\n",
    "c = 2\n",
    "gg = erdos_renyi(N, c/N; seed)\n",
    "g = IndexedGraph(gg)\n",
    "\n",
    "λ_unif = 0.5\n",
    "ρ_unif = 0.2\n",
    "λ = zeros(N,N)\n",
    "for i in CartesianIndices(λ)\n",
    "    if !iszero(g.A[i])\n",
    "        λ[i] = λ_unif\n",
    "    end\n",
    "end\n",
    "λ = sparse(λ)\n",
    "ρ = fill(ρ_unif,N)\n",
    "γ = 0.5\n",
    "\n",
    "# T = 3\n",
    "# N = 2\n",
    "# seed = 6\n",
    "\n",
    "# A = [0 1; 1 0]\n",
    "# g = IndexedGraph(A)\n",
    "\n",
    "# λ_unif = 0.7\n",
    "# ρ_unif = 0.1\n",
    "# λ = sparse(λ_unif .* A)\n",
    "# # λ = sparse([0 0; λ_unif 0])\n",
    "# ρ = fill(ρ_unif, N)\n",
    "# γ = 0.5\n",
    "\n",
    "sis = SIS_heterogeneous(λ, ρ, T; γ);\n",
    "bp = mpbp(sis);"
   ]
  },
  {
   "cell_type": "code",
   "execution_count": 107,
   "metadata": {},
   "outputs": [
    {
     "data": {
      "text/plain": [
       "10×10 SparseMatrixCSC{Int64, Int64} with 20 stored entries:\n",
       " ⋅  ⋅  ⋅  ⋅   2  5  ⋅  ⋅  9   ⋅\n",
       " ⋅  ⋅  1  ⋅   ⋅  6  ⋅  ⋅  ⋅   ⋅\n",
       " ⋅  1  ⋅  ⋅   3  ⋅  ⋅  ⋅  ⋅   ⋅\n",
       " ⋅  ⋅  ⋅  ⋅   4  ⋅  ⋅  8  ⋅   ⋅\n",
       " 2  ⋅  3  4   ⋅  ⋅  7  ⋅  ⋅  10\n",
       " 5  6  ⋅  ⋅   ⋅  ⋅  ⋅  ⋅  ⋅   ⋅\n",
       " ⋅  ⋅  ⋅  ⋅   7  ⋅  ⋅  ⋅  ⋅   ⋅\n",
       " ⋅  ⋅  ⋅  8   ⋅  ⋅  ⋅  ⋅  ⋅   ⋅\n",
       " 9  ⋅  ⋅  ⋅   ⋅  ⋅  ⋅  ⋅  ⋅   ⋅\n",
       " ⋅  ⋅  ⋅  ⋅  10  ⋅  ⋅  ⋅  ⋅   ⋅"
      ]
     },
     "metadata": {},
     "output_type": "display_data"
    }
   ],
   "source": [
    "g.A"
   ]
  },
  {
   "cell_type": "code",
   "execution_count": 108,
   "metadata": {},
   "outputs": [],
   "source": [
    "obs_times = collect(0:T)\n",
    "nobs = floor(Int, N * length(obs_times) * 1.0)\n",
    "obs_fraction = nobs / N\n",
    "rng = MersenneTwister(seed)\n",
    "X, observed = draw_node_observations!(bp, nobs, times = obs_times .+ 1, softinf=Inf; rng);"
   ]
  },
  {
   "cell_type": "code",
   "execution_count": 109,
   "metadata": {},
   "outputs": [
    {
     "data": {
      "text/plain": [
       "10×6 Matrix{Int64}:\n",
       " 1  2  1  2  1  2\n",
       " 2  2  2  2  2  2\n",
       " 1  1  2  2  1  1\n",
       " 2  2  1  1  1  2\n",
       " 2  2  1  1  2  2\n",
       " 2  2  2  1  1  2\n",
       " 2  2  1  1  1  1\n",
       " 1  1  1  1  1  1\n",
       " 2  2  2  2  2  2\n",
       " 2  1  1  1  1  1"
      ]
     },
     "metadata": {},
     "output_type": "display_data"
    }
   ],
   "source": [
    "X"
   ]
  },
  {
   "cell_type": "code",
   "execution_count": 110,
   "metadata": {},
   "outputs": [
    {
     "name": "stderr",
     "output_type": "stream",
     "text": [
      "\u001b[32mRunning MPBP: iter 2    Time: 0:00:00\u001b[39m\u001b[K"
     ]
    }
   ],
   "source": [
    "reset_messages!(bp)\n",
    "reset_beliefs!(bp)\n",
    "svd_trunc = TruncBond(10)\n",
    "\n",
    "iters, = iterate!(bp, maxiter=5; svd_trunc, tol=1e-12, damp=0.5);"
   ]
  },
  {
   "cell_type": "code",
   "execution_count": 111,
   "metadata": {},
   "outputs": [
    {
     "data": {
      "text/plain": [
       "2-element Vector{Float64}:\n",
       " -1.3337812249550263\n",
       " -0.024693010952974978"
      ]
     },
     "metadata": {},
     "output_type": "display_data"
    }
   ],
   "source": [
    "obs_node = 6\n",
    "# for t in eachindex(bp.w[obs_node])\n",
    "#     for j in eachindex(bp.w[obs_node][t].λ)\n",
    "#         bp.w[obs_node][t].λ[j] = λ[j,obs_node]\n",
    "#     end\n",
    "# end\n",
    "\n",
    "der_mpbp = der_λ(bp, obs_node, eltype(bp.w[obs_node]); svd_trunc)"
   ]
  },
  {
   "cell_type": "code",
   "execution_count": 112,
   "metadata": {},
   "outputs": [
    {
     "name": "stdout",
     "output_type": "stream",
     "text": [
      "(bp.w[obs_node])[t] = SIS_heterogeneousFactor{Float64}([0.5, 0.5], 0.2)\n",
      "(bp.w[obs_node])[t] = SIS_heterogeneousFactor{Float64}([0.5, 0.5], 0.2)\n",
      "(bp.w[obs_node])[t] = SIS_heterogeneousFactor{Float64}([0.5, 0.5], 0.2)\n",
      "(bp.w[obs_node])[t] = SIS_heterogeneousFactor{Float64}([0.5, 0.5], 0.2)\n",
      "(bp.w[obs_node])[t] = SIS_heterogeneousFactor{Float64}([0.5, 0.5], 0.2)\n",
      "(bp.w[obs_node])[t] = SIS_heterogeneousFactor{Float64}([0.5, 0.5], 0.2)\n",
      "0.50000001\n",
      "0.5000000200000001\n",
      "0.5000000300000002\n",
      "0.5000000400000002\n",
      "0.5000000500000003\n",
      "0.5000000600000003\n",
      "(bp.w[obs_node])[t] = SIS_heterogeneousFactor{Float64}([0.5000000700000004, 0.5], 0.2)\n",
      "(bp.w[obs_node])[t] = SIS_heterogeneousFactor{Float64}([0.5000000700000004, 0.5], 0.2)\n",
      "(bp.w[obs_node])[t] = SIS_heterogeneousFactor{Float64}([0.5000000700000004, 0.5], 0.2)\n",
      "(bp.w[obs_node])[t] = SIS_heterogeneousFactor{Float64}([0.5000000700000004, 0.5], 0.2)\n",
      "(bp.w[obs_node])[t] = SIS_heterogeneousFactor{Float64}([0.5000000700000004, 0.5], 0.2)\n",
      "(bp.w[obs_node])[t] = SIS_heterogeneousFactor{Float64}([0.5000000700000004, 0.5], 0.2)\n"
     ]
    },
    {
     "data": {
      "text/plain": [
       "-9.33646845817566"
      ]
     },
     "metadata": {},
     "output_type": "display_data"
    }
   ],
   "source": [
    "ϵ = 1e-8\n",
    "\n",
    "# for i in vertices(g)\n",
    "#     for t in eachindex(bp.w[i])\n",
    "#         for j in eachindex(bp.w[i][t].λ)\n",
    "#             bp.w[i][t].λ[j] = λ[j,i]\n",
    "#         end\n",
    "#     end\n",
    "# end\n",
    "\n",
    "logzᵢ0 = onebpiter!(bp, obs_node, eltype(bp.w[obs_node]); svd_trunc)\n",
    "\n",
    "for t in eachindex(bp.w[obs_node])\n",
    "    @show bp.w[obs_node][t]\n",
    "end\n",
    "\n",
    "for t in eachindex(bp.w[obs_node])\n",
    "    bp.w[obs_node][t].λ[1] = λ_unif + ϵ\n",
    "end\n",
    "\n",
    "for t in eachindex(bp.w[obs_node])\n",
    "    println(bp.w[obs_node][t].λ[1])\n",
    "    bp.w[obs_node][t].λ[1] += ϵ\n",
    "end\n",
    "\n",
    "for t in eachindex(bp.w[obs_node])\n",
    "    @show bp.w[obs_node][t]\n",
    "end\n",
    "\n",
    "logzᵢϵ = onebpiter!(bp, obs_node, eltype(bp.w[obs_node]); svd_trunc)\n",
    "\n",
    "der_num = logzᵢϵ/ϵ - logzᵢ0/ϵ "
   ]
  }
 ],
 "metadata": {
  "kernelspec": {
   "display_name": "Julia 1.8.1",
   "language": "julia",
   "name": "julia-1.8"
  },
  "language_info": {
   "file_extension": ".jl",
   "mimetype": "application/julia",
   "name": "julia",
   "version": "1.8.1"
  }
 },
 "nbformat": 4,
 "nbformat_minor": 2
}
