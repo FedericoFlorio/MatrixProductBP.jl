{
 "cells": [
  {
   "cell_type": "code",
   "execution_count": 283,
   "metadata": {},
   "outputs": [
    {
     "name": "stderr",
     "output_type": "stream",
     "text": [
      "\u001b[32m\u001b[1m  Activating\u001b[22m\u001b[39m project at `~/master_thesis`\n"
     ]
    }
   ],
   "source": [
    "using Pkg\n",
    "Pkg.activate(\"/home/fedflorio/master_thesis\")"
   ]
  },
  {
   "cell_type": "code",
   "execution_count": 284,
   "metadata": {},
   "outputs": [],
   "source": [
    "using Revise\n",
    "using MatrixProductBP, MatrixProductBP.Models\n",
    "using Graphs, Printf, IndexedGraphs, Statistics, Random\n",
    "import ProgressMeter; ProgressMeter.ijulia_behavior(:clear)\n",
    "using JLD2\n",
    "using TensorTrains: summary_compact\n",
    "using SparseArrays;"
   ]
  },
  {
   "cell_type": "code",
   "execution_count": 285,
   "metadata": {},
   "outputs": [],
   "source": [
    "T = 20\n",
    "N = 30\n",
    "seed = 2\n",
    "\n",
    "c = 2\n",
    "gg = erdos_renyi(N, c/N; seed)\n",
    "g = IndexedGraph(gg)\n",
    "\n",
    "λ_unif = 0.5\n",
    "ρ_unif = 0.2\n",
    "λ = zeros(N,N)\n",
    "for i in CartesianIndices(λ)\n",
    "    if !iszero(g.A[i])\n",
    "        λ[i] = λ_unif\n",
    "    end\n",
    "end\n",
    "λ = sparse(λ)\n",
    "ρ = fill(ρ_unif,N)\n",
    "γ = 0.5\n",
    "\n",
    "# T = 3\n",
    "# N = 2\n",
    "# seed = 6\n",
    "\n",
    "# A = [0 1; 1 0]\n",
    "# g = IndexedGraph(A)\n",
    "\n",
    "# λ_unif = 0.7\n",
    "# ρ_unif = 0.1\n",
    "# λ = sparse(λ_unif .* A)\n",
    "# # λ = sparse([0 0; λ_unif 0])\n",
    "# ρ = fill(ρ_unif, N)\n",
    "# γ = 0.5\n",
    "\n",
    "sis = SIS_heterogeneous(λ, ρ, T; γ);\n",
    "bp = mpbp(sis);"
   ]
  },
  {
   "cell_type": "code",
   "execution_count": 286,
   "metadata": {},
   "outputs": [
    {
     "data": {
      "text/plain": [
       "30×30 SparseMatrixCSC{Int64, Int64} with 52 stored entries:\n",
       "⎡⠀⠀⠀⠀⠈⠀⠈⠀⠈⠀⠈⠀⠠⠀⠀⎤\n",
       "⎢⠀⠀⢀⠐⠐⠀⢀⠬⠀⠀⢀⠀⠠⠀⠀⎥\n",
       "⎢⠂⠀⠐⠀⠠⠂⠰⠀⠈⠀⠁⡀⠀⠀⠀⎥\n",
       "⎢⠂⠀⡀⡔⠐⠂⠀⠀⠀⠄⠁⠀⠀⢐⠀⎥\n",
       "⎢⠂⠀⠀⠀⠂⠀⠀⠄⠀⠀⠀⠈⠀⠀⠀⎥\n",
       "⎢⠂⠀⠀⠐⠁⠠⠁⠀⡀⠀⠀⠀⠀⠄⡀⎥\n",
       "⎢⠀⠂⠀⠂⠀⠀⢀⢀⠀⠀⠀⠄⠀⠀⠀⎥\n",
       "⎣⠀⠀⠀⠀⠀⠀⠀⠀⠀⠀⠀⠈⠀⠀⠀⎦"
      ]
     },
     "execution_count": 286,
     "metadata": {},
     "output_type": "execute_result"
    }
   ],
   "source": [
    "g.A"
   ]
  },
  {
   "cell_type": "code",
   "execution_count": 287,
   "metadata": {},
   "outputs": [],
   "source": [
    "obs_times = collect(0:T)\n",
    "nobs = floor(Int, N * length(obs_times) * 1.0)\n",
    "obs_fraction = nobs / N\n",
    "rng = MersenneTwister(seed)\n",
    "X, observed = draw_node_observations!(bp, nobs, times = obs_times .+ 1, softinf=Inf; rng);"
   ]
  },
  {
   "cell_type": "code",
   "execution_count": 288,
   "metadata": {},
   "outputs": [
    {
     "data": {
      "text/plain": [
       "30×21 Matrix{Int64}:\n",
       " 1  2  2  1  2  2  2  1  2  1  2  2  2  2  2  2  2  2  2  2  1\n",
       " 2  2  1  1  1  1  1  1  1  1  1  1  1  1  1  1  1  1  1  1  1\n",
       " 1  2  1  2  2  2  2  2  2  2  2  2  2  1  1  2  2  2  2  2  2\n",
       " 2  2  2  2  1  1  1  1  1  1  1  1  1  1  1  1  1  1  1  1  1\n",
       " 2  2  2  2  2  1  2  2  2  1  2  1  1  1  1  1  2  2  2  2  1\n",
       " 2  1  2  2  1  2  2  2  2  2  1  1  1  1  2  1  2  2  2  2  1\n",
       " 2  1  2  2  2  2  1  2  2  1  2  2  1  1  2  2  2  2  2  2  2\n",
       " 1  2  2  1  2  2  2  2  1  2  2  1  1  2  2  2  2  2  2  2  2\n",
       " 2  2  2  2  1  2  2  2  2  2  2  2  2  2  2  2  2  2  2  2  2\n",
       " 2  1  2  2  2  2  2  2  2  2  1  2  2  2  2  1  2  2  2  1  2\n",
       " 1  1  1  2  2  2  2  2  2  1  1  2  2  2  2  2  2  2  2  2  2\n",
       " 2  2  2  2  2  1  1  1  1  2  2  2  2  1  2  2  2  2  2  2  2\n",
       " 1  1  1  1  2  2  2  2  2  2  1  2  1  1  1  1  1  1  1  1  2\n",
       " ⋮              ⋮              ⋮              ⋮              ⋮\n",
       " 2  2  2  2  2  2  2  2  2  1  1  2  1  2  2  2  2  1  1  2  2\n",
       " 1  1  1  1  1  1  1  1  1  1  1  1  1  1  1  1  1  1  1  1  1\n",
       " 1  2  2  2  2  2  2  2  2  2  2  2  2  2  1  1  1  2  2  2  2\n",
       " 1  1  1  2  2  2  2  2  2  2  2  2  1  1  2  2  2  2  2  2  1\n",
       " 2  1  1  1  2  2  1  2  2  1  2  2  2  2  2  2  2  1  2  1  2\n",
       " 1  2  2  2  1  2  2  2  2  2  2  2  2  2  2  1  2  2  2  2  2\n",
       " 1  1  1  1  1  1  1  1  1  1  1  1  1  1  1  1  1  1  1  1  1\n",
       " 2  2  2  1  2  2  1  1  2  2  2  1  2  2  2  1  2  1  2  2  1\n",
       " 1  1  1  1  1  2  2  1  1  2  2  2  2  2  2  2  2  2  2  2  2\n",
       " 1  1  2  2  2  2  2  2  2  2  2  2  2  1  2  1  2  2  1  2  2\n",
       " 2  2  2  2  2  2  1  2  2  1  1  2  2  1  2  2  2  2  2  2  2\n",
       " 1  1  1  1  1  1  1  1  1  1  1  1  1  1  1  1  1  1  1  1  1"
      ]
     },
     "execution_count": 288,
     "metadata": {},
     "output_type": "execute_result"
    }
   ],
   "source": [
    "X"
   ]
  },
  {
   "cell_type": "code",
   "execution_count": 289,
   "metadata": {},
   "outputs": [
    {
     "name": "stderr",
     "output_type": "stream",
     "text": [
      "\u001b[32mRunning MPBP: iter 2    Time: 0:00:28\u001b[39m\n",
      "\u001b[34m  Δ:                6.661338147750939e-16\u001b[39m\n",
      "\u001b[A4m  SVD Matrix size:  10\u001b[39m"
     ]
    }
   ],
   "source": [
    "reset_messages!(bp)\n",
    "reset_beliefs!(bp)\n",
    "svd_trunc = TruncBond(10)\n",
    "\n",
    "iters, = iterate!(bp, maxiter=5; svd_trunc, tol=1e-12, damp=0.5);"
   ]
  },
  {
   "cell_type": "code",
   "execution_count": 290,
   "metadata": {},
   "outputs": [
    {
     "name": "stdout",
     "output_type": "stream",
     "text": [
      "logzᵢ = -68.83836207488855\n"
     ]
    },
    {
     "data": {
      "text/plain": [
       "4-element Vector{Float64}:\n",
       " 1.4719390751113826\n",
       " 1.013943623546333\n",
       " 0.5346554576117222\n",
       " 0.8191381563717754"
      ]
     },
     "execution_count": 290,
     "metadata": {},
     "output_type": "execute_result"
    }
   ],
   "source": [
    "obs_node = 1\n",
    "# for t in eachindex(bp.w[obs_node])\n",
    "#     bp.w[obs_node][t].λ .= nonzeros(λ)[nzrange(λ,obs_node)]\n",
    "# end\n",
    "\n",
    "der_mpbp = der_λ(bp, obs_node, eltype(bp.w[obs_node]); svd_trunc)"
   ]
  },
  {
   "cell_type": "code",
   "execution_count": 291,
   "metadata": {},
   "outputs": [
    {
     "name": "stdout",
     "output_type": "stream",
     "text": [
      "logzᵢ0 = -68.83836207488855\n"
     ]
    },
    {
     "data": {
      "text/plain": [
       "1.4823541505393223"
      ]
     },
     "execution_count": 291,
     "metadata": {},
     "output_type": "execute_result"
    }
   ],
   "source": [
    "ϵ = 1e-8\n",
    "\n",
    "for i in vertices(g)\n",
    "    for t in eachindex(bp.w[i])\n",
    "        bp.w[i][t].λ .= nonzeros(λ)[nzrange(λ,i)]\n",
    "    end\n",
    "end\n",
    "\n",
    "logzᵢ0 = onebpiter!(bp, obs_node, eltype(bp.w[obs_node]); svd_trunc)\n",
    "\n",
    "for t in eachindex(bp.w[obs_node])\n",
    "    bp.w[obs_node][t].λ[1] += ϵ\n",
    "end\n",
    "\n",
    "logzᵢϵ = onebpiter!(bp, obs_node, eltype(bp.w[obs_node]); svd_trunc)\n",
    "\n",
    "der_num = (logzᵢϵ - logzᵢ0)/ϵ "
   ]
  }
 ],
 "metadata": {
  "kernelspec": {
   "display_name": "Julia 20 Threads 1.10.3",
   "language": "julia",
   "name": "julia-20-threads-1.10"
  },
  "language_info": {
   "file_extension": ".jl",
   "mimetype": "application/julia",
   "name": "julia",
   "version": "1.10.3"
  }
 },
 "nbformat": 4,
 "nbformat_minor": 2
}
