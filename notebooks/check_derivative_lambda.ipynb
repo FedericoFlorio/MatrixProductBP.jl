{
 "cells": [
  {
   "cell_type": "code",
<<<<<<< HEAD
<<<<<<< HEAD
<<<<<<< HEAD
<<<<<<< HEAD
<<<<<<< HEAD
   "execution_count": 153,
   "metadata": {},
   "outputs": [
    {
     "name": "stderr",
     "output_type": "stream",
     "text": [
      "\u001b[32m\u001b[1m  Activating\u001b[22m\u001b[39m project at `~/master_thesis`\n"
     ]
    }
   ],
   "source": [
    "using Pkg\n",
    "Pkg.activate(\"/home/fedflorio/master_thesis\")"
   ]
  },
  {
   "cell_type": "code",
   "execution_count": 154,
=======
   "execution_count": 1,
>>>>>>> c52a487... Add functions to compute derivatives
=======
   "execution_count": 48,
>>>>>>> 89aa3a4... Fixed errors
=======
   "execution_count": 1,
>>>>>>> 2bd24cd... Changed the way to construct SIS objects
=======
   "execution_count": 14,
>>>>>>> 315ced7... Moved on the server
=======
   "execution_count": 38,
>>>>>>> 23765fd... Fixed error in derivaive
   "metadata": {},
   "outputs": [],
   "source": [
    "using Revise\n",
    "using MatrixProductBP, MatrixProductBP.Models\n",
<<<<<<< HEAD
    "using Graphs, Printf, IndexedGraphs, Statistics, Random\n",
=======
    "using Graphs, Plots, Printf, IndexedGraphs, Statistics, Random\n",
>>>>>>> c52a487... Add functions to compute derivatives
    "import ProgressMeter; ProgressMeter.ijulia_behavior(:clear)\n",
    "using JLD2\n",
    "using TensorTrains: summary_compact\n",
    "using SparseArrays;"
   ]
  },
  {
   "cell_type": "code",
<<<<<<< HEAD
<<<<<<< HEAD
<<<<<<< HEAD
<<<<<<< HEAD
<<<<<<< HEAD
   "execution_count": 155,
   "metadata": {},
   "outputs": [],
   "source": [
    "T = 20\n",
    "N = 30\n",
=======
   "execution_count": 34,
   "metadata": {},
   "outputs": [],
   "source": [
    "T = 5\n",
    "N = 10\n",
>>>>>>> c52a487... Add functions to compute derivatives
=======
   "execution_count": 49,
=======
   "execution_count": 2,
>>>>>>> 2bd24cd... Changed the way to construct SIS objects
=======
   "execution_count": 15,
>>>>>>> 315ced7... Moved on the server
=======
   "execution_count": 39,
>>>>>>> 23765fd... Fixed error in derivaive
   "metadata": {},
   "outputs": [],
   "source": [
    "T = 20\n",
    "N = 30\n",
>>>>>>> 89aa3a4... Fixed errors
    "seed = 2\n",
    "\n",
    "c = 2\n",
    "gg = erdos_renyi(N, c/N; seed)\n",
    "g = IndexedGraph(gg)\n",
    "\n",
    "λ_unif = 0.5\n",
    "ρ_unif = 0.2\n",
    "λ = zeros(N,N)\n",
    "for i in CartesianIndices(λ)\n",
    "    if !iszero(g.A[i])\n",
    "        λ[i] = λ_unif\n",
    "    end\n",
    "end\n",
    "λ = sparse(λ)\n",
    "ρ = fill(ρ_unif,N)\n",
    "γ = 0.5\n",
    "\n",
    "# T = 3\n",
    "# N = 2\n",
    "# seed = 6\n",
    "\n",
    "# A = [0 1; 1 0]\n",
    "# g = IndexedGraph(A)\n",
    "\n",
    "# λ_unif = 0.7\n",
    "# ρ_unif = 0.1\n",
    "# λ = sparse(λ_unif .* A)\n",
    "# # λ = sparse([0 0; λ_unif 0])\n",
    "# ρ = fill(ρ_unif, N)\n",
    "# γ = 0.5\n",
    "\n",
    "sis = SIS_heterogeneous(λ, ρ, T; γ);\n",
    "bp = mpbp(sis);"
   ]
  },
  {
   "cell_type": "code",
<<<<<<< HEAD
<<<<<<< HEAD
<<<<<<< HEAD
<<<<<<< HEAD
<<<<<<< HEAD
   "execution_count": 156,
=======
   "execution_count": 35,
>>>>>>> c52a487... Add functions to compute derivatives
=======
   "execution_count": 50,
>>>>>>> 89aa3a4... Fixed errors
=======
   "execution_count": 3,
>>>>>>> 2bd24cd... Changed the way to construct SIS objects
=======
   "execution_count": 16,
>>>>>>> 315ced7... Moved on the server
=======
   "execution_count": 40,
>>>>>>> 23765fd... Fixed error in derivaive
   "metadata": {},
   "outputs": [
    {
     "data": {
      "text/plain": [
<<<<<<< HEAD
<<<<<<< HEAD
       "30×30 SparseMatrixCSC{Int64, Int64} with 52 stored entries:\n",
       "⎡⠀⠀⠀⠀⠈⠀⠈⠀⠈⠀⠈⠀⠠⠀⠀⎤\n",
       "⎢⠀⠀⢀⠐⠐⠀⢀⠬⠀⠀⢀⠀⠠⠀⠀⎥\n",
       "⎢⠂⠀⠐⠀⠠⠂⠰⠀⠈⠀⠁⡀⠀⠀⠀⎥\n",
       "⎢⠂⠀⡀⡔⠐⠂⠀⠀⠀⠄⠁⠀⠀⢐⠀⎥\n",
       "⎢⠂⠀⠀⠀⠂⠀⠀⠄⠀⠀⠀⠈⠀⠀⠀⎥\n",
       "⎢⠂⠀⠀⠐⠁⠠⠁⠀⡀⠀⠀⠀⠀⠄⡀⎥\n",
       "⎢⠀⠂⠀⠂⠀⠀⢀⢀⠀⠀⠀⠄⠀⠀⠀⎥\n",
       "⎣⠀⠀⠀⠀⠀⠀⠀⠀⠀⠀⠀⠈⠀⠀⠀⎦"
      ]
     },
     "execution_count": 156,
     "metadata": {},
     "output_type": "execute_result"
=======
       "10×10 SparseMatrixCSC{Int64, Int64} with 20 stored entries:\n",
       " ⋅  ⋅  ⋅  ⋅   2  5  ⋅  ⋅  9   ⋅\n",
       " ⋅  ⋅  1  ⋅   ⋅  6  ⋅  ⋅  ⋅   ⋅\n",
       " ⋅  1  ⋅  ⋅   3  ⋅  ⋅  ⋅  ⋅   ⋅\n",
       " ⋅  ⋅  ⋅  ⋅   4  ⋅  ⋅  8  ⋅   ⋅\n",
       " 2  ⋅  3  4   ⋅  ⋅  7  ⋅  ⋅  10\n",
       " 5  6  ⋅  ⋅   ⋅  ⋅  ⋅  ⋅  ⋅   ⋅\n",
       " ⋅  ⋅  ⋅  ⋅   7  ⋅  ⋅  ⋅  ⋅   ⋅\n",
       " ⋅  ⋅  ⋅  8   ⋅  ⋅  ⋅  ⋅  ⋅   ⋅\n",
       " 9  ⋅  ⋅  ⋅   ⋅  ⋅  ⋅  ⋅  ⋅   ⋅\n",
       " ⋅  ⋅  ⋅  ⋅  10  ⋅  ⋅  ⋅  ⋅   ⋅"
=======
       "30×30 SparseMatrixCSC{Int64, Int64} with 52 stored entries:\n",
<<<<<<< HEAD
       "⠀⠀⠀⠀⠈⠀⠈⠀⠈⠀⠈⠀⠠⠀⠀\n",
       "⠀⠀⢀⠐⠐⠀⢀⠬⠀⠀⢀⠀⠠⠀⠀\n",
       "⠂⠀⠐⠀⠠⠂⠰⠀⠈⠀⠁⡀⠀⠀⠀\n",
       "⠂⠀⡀⡔⠐⠂⠀⠀⠀⠄⠁⠀⠀⢐⠀\n",
       "⠂⠀⠀⠀⠂⠀⠀⠄⠀⠀⠀⠈⠀⠀⠀\n",
       "⠂⠀⠀⠐⠁⠠⠁⠀⡀⠀⠀⠀⠀⠄⡀\n",
       "⠀⠂⠀⠂⠀⠀⢀⢀⠀⠀⠀⠄⠀⠀⠀\n",
       "⠀⠀⠀⠀⠀⠀⠀⠀⠀⠀⠀⠈⠀⠀⠀"
>>>>>>> 89aa3a4... Fixed errors
=======
       "⎡⠀⠀⠀⠀⠈⠀⠈⠀⠈⠀⠈⠀⠠⠀⠀⎤\n",
       "⎢⠀⠀⢀⠐⠐⠀⢀⠬⠀⠀⢀⠀⠠⠀⠀⎥\n",
       "⎢⠂⠀⠐⠀⠠⠂⠰⠀⠈⠀⠁⡀⠀⠀⠀⎥\n",
       "⎢⠂⠀⡀⡔⠐⠂⠀⠀⠀⠄⠁⠀⠀⢐⠀⎥\n",
       "⎢⠂⠀⠀⠀⠂⠀⠀⠄⠀⠀⠀⠈⠀⠀⠀⎥\n",
       "⎢⠂⠀⠀⠐⠁⠠⠁⠀⡀⠀⠀⠀⠀⠄⡀⎥\n",
       "⎢⠀⠂⠀⠂⠀⠀⢀⢀⠀⠀⠀⠄⠀⠀⠀⎥\n",
       "⎣⠀⠀⠀⠀⠀⠀⠀⠀⠀⠀⠀⠈⠀⠀⠀⎦"
>>>>>>> 315ced7... Moved on the server
      ]
     },
     "execution_count": 40,
     "metadata": {},
<<<<<<< HEAD
     "output_type": "display_data"
>>>>>>> c52a487... Add functions to compute derivatives
=======
     "output_type": "execute_result"
>>>>>>> 315ced7... Moved on the server
    }
   ],
   "source": [
    "g.A"
   ]
  },
  {
   "cell_type": "code",
<<<<<<< HEAD
<<<<<<< HEAD
<<<<<<< HEAD
<<<<<<< HEAD
<<<<<<< HEAD
   "execution_count": 158,
=======
   "execution_count": 36,
>>>>>>> c52a487... Add functions to compute derivatives
=======
   "execution_count": 51,
>>>>>>> 89aa3a4... Fixed errors
=======
   "execution_count": 4,
>>>>>>> 2bd24cd... Changed the way to construct SIS objects
=======
   "execution_count": 17,
>>>>>>> 315ced7... Moved on the server
=======
   "execution_count": 41,
>>>>>>> 23765fd... Fixed error in derivaive
   "metadata": {},
   "outputs": [],
   "source": [
    "obs_times = collect(0:T)\n",
    "nobs = floor(Int, N * length(obs_times) * 1.0)\n",
    "obs_fraction = nobs / N\n",
    "rng = MersenneTwister(seed)\n",
    "X, observed = draw_node_observations!(bp, nobs, times = obs_times .+ 1, softinf=Inf; rng);"
   ]
  },
  {
   "cell_type": "code",
<<<<<<< HEAD
<<<<<<< HEAD
<<<<<<< HEAD
<<<<<<< HEAD
<<<<<<< HEAD
   "execution_count": 159,
=======
   "execution_count": 37,
>>>>>>> c52a487... Add functions to compute derivatives
=======
   "execution_count": 52,
>>>>>>> 89aa3a4... Fixed errors
=======
   "execution_count": 5,
>>>>>>> 2bd24cd... Changed the way to construct SIS objects
=======
   "execution_count": 18,
>>>>>>> 315ced7... Moved on the server
=======
   "execution_count": 42,
>>>>>>> 23765fd... Fixed error in derivaive
   "metadata": {},
   "outputs": [
    {
     "data": {
      "text/plain": [
<<<<<<< HEAD
<<<<<<< HEAD
=======
>>>>>>> 89aa3a4... Fixed errors
       "30×21 Matrix{Int64}:\n",
       " 1  2  2  1  2  2  2  1  2  1  2  2  2  2  2  2  2  2  2  2  1\n",
       " 2  2  1  1  1  1  1  1  1  1  1  1  1  1  1  1  1  1  1  1  1\n",
       " 1  2  1  2  2  2  2  2  2  2  2  2  2  1  1  2  2  2  2  2  2\n",
       " 2  2  2  2  1  1  1  1  1  1  1  1  1  1  1  1  1  1  1  1  1\n",
       " 2  2  2  2  2  1  2  2  2  1  2  1  1  1  1  1  2  2  2  2  1\n",
       " 2  1  2  2  1  2  2  2  2  2  1  1  1  1  2  1  2  2  2  2  1\n",
       " 2  1  2  2  2  2  1  2  2  1  2  2  1  1  2  2  2  2  2  2  2\n",
       " 1  2  2  1  2  2  2  2  1  2  2  1  1  2  2  2  2  2  2  2  2\n",
       " 2  2  2  2  1  2  2  2  2  2  2  2  2  2  2  2  2  2  2  2  2\n",
       " 2  1  2  2  2  2  2  2  2  2  1  2  2  2  2  1  2  2  2  1  2\n",
<<<<<<< HEAD
<<<<<<< HEAD
=======
>>>>>>> 315ced7... Moved on the server
       " 1  1  1  2  2  2  2  2  2  1  1  2  2  2  2  2  2  2  2  2  2\n",
       " 2  2  2  2  2  1  1  1  1  2  2  2  2  1  2  2  2  2  2  2  2\n",
       " 1  1  1  1  2  2  2  2  2  2  1  2  1  1  1  1  1  1  1  1  2\n",
       " ⋮              ⋮              ⋮              ⋮              ⋮\n",
       " 2  2  2  2  2  2  2  2  2  1  1  2  1  2  2  2  2  1  1  2  2\n",
       " 1  1  1  1  1  1  1  1  1  1  1  1  1  1  1  1  1  1  1  1  1\n",
       " 1  2  2  2  2  2  2  2  2  2  2  2  2  2  1  1  1  2  2  2  2\n",
<<<<<<< HEAD
=======
       " ⋮              ⋮              ⋮              ⋮              ⋮\n",
>>>>>>> 89aa3a4... Fixed errors
=======
>>>>>>> 315ced7... Moved on the server
       " 1  1  1  2  2  2  2  2  2  2  2  2  1  1  2  2  2  2  2  2  1\n",
       " 2  1  1  1  2  2  1  2  2  1  2  2  2  2  2  2  2  1  2  1  2\n",
       " 1  2  2  2  1  2  2  2  2  2  2  2  2  2  2  1  2  2  2  2  2\n",
       " 1  1  1  1  1  1  1  1  1  1  1  1  1  1  1  1  1  1  1  1  1\n",
       " 2  2  2  1  2  2  1  1  2  2  2  1  2  2  2  1  2  1  2  2  1\n",
       " 1  1  1  1  1  2  2  1  1  2  2  2  2  2  2  2  2  2  2  2  2\n",
       " 1  1  2  2  2  2  2  2  2  2  2  2  2  1  2  1  2  2  1  2  2\n",
       " 2  2  2  2  2  2  1  2  2  1  1  2  2  1  2  2  2  2  2  2  2\n",
       " 1  1  1  1  1  1  1  1  1  1  1  1  1  1  1  1  1  1  1  1  1"
<<<<<<< HEAD
      ]
     },
     "execution_count": 159,
     "metadata": {},
     "output_type": "execute_result"
=======
       "10×6 Matrix{Int64}:\n",
       " 1  1  1  1  1  1\n",
       " 2  2  2  2  2  2\n",
       " 1  1  2  2  1  1\n",
       " 2  2  1  1  1  1\n",
       " 2  2  1  1  1  1\n",
       " 2  2  2  1  1  2\n",
       " 2  2  1  1  1  1\n",
       " 1  1  1  1  1  1\n",
       " 2  2  2  2  2  2\n",
       " 2  1  1  1  1  1"
=======
>>>>>>> 89aa3a4... Fixed errors
      ]
     },
     "execution_count": 42,
     "metadata": {},
<<<<<<< HEAD
     "output_type": "display_data"
>>>>>>> c52a487... Add functions to compute derivatives
=======
     "output_type": "execute_result"
>>>>>>> 315ced7... Moved on the server
    }
   ],
   "source": [
    "X"
   ]
  },
  {
   "cell_type": "code",
<<<<<<< HEAD
<<<<<<< HEAD
<<<<<<< HEAD
<<<<<<< HEAD
<<<<<<< HEAD
   "execution_count": 160,
   "metadata": {},
   "outputs": [
    {
     "name": "stderr",
     "output_type": "stream",
     "text": [
      "\u001b[32mRunning MPBP: iter 2    Time: 0:00:00\u001b[39m\n",
      "\u001b[34m  Δ:                4.440892098500626e-16\u001b[39m\n",
      "\u001b[A4m  SVD Matrix size:  5\u001b[39m"
     ]
    }
   ],
   "source": [
    "reset_messages!(bp)\n",
    "reset_beliefs!(bp)\n",
    "svd_trunc = TruncBond(5)\n",
    "\n",
    "iters, = iterate!(bp, maxiter=10; svd_trunc, tol=1e-12);"
=======
   "execution_count": 38,
=======
   "execution_count": 53,
>>>>>>> 89aa3a4... Fixed errors
=======
   "execution_count": 6,
>>>>>>> 2bd24cd... Changed the way to construct SIS objects
=======
   "execution_count": 25,
>>>>>>> 315ced7... Moved on the server
=======
   "execution_count": 43,
>>>>>>> 23765fd... Fixed error in derivaive
   "metadata": {},
   "outputs": [
    {
     "name": "stderr",
     "output_type": "stream",
     "text": [
      "\u001b[32mRunning MPBP: iter 2    Time: 0:00:08\u001b[39m\n",
      "\u001b[34m  Δ:                4.440892098500626e-16\u001b[39m\n",
      "\u001b[A4m  SVD Matrix size:  10\u001b[39m"
     ]
    }
   ],
   "source": [
    "reset_messages!(bp)\n",
    "reset_beliefs!(bp)\n",
    "svd_trunc = TruncBond(10)\n",
    "\n",
    "iters, = iterate!(bp, maxiter=5; svd_trunc, tol=1e-12, damp=0.5);"
>>>>>>> c52a487... Add functions to compute derivatives
   ]
  },
  {
   "cell_type": "code",
<<<<<<< HEAD
<<<<<<< HEAD
<<<<<<< HEAD
<<<<<<< HEAD
<<<<<<< HEAD
   "execution_count": 161,
=======
   "execution_count": 39,
>>>>>>> c52a487... Add functions to compute derivatives
=======
   "execution_count": 54,
>>>>>>> 89aa3a4... Fixed errors
=======
   "execution_count": 7,
>>>>>>> 2bd24cd... Changed the way to construct SIS objects
=======
   "execution_count": 26,
>>>>>>> 315ced7... Moved on the server
=======
   "execution_count": 44,
>>>>>>> 23765fd... Fixed error in derivaive
   "metadata": {},
   "outputs": [
    {
     "data": {
      "text/plain": [
<<<<<<< HEAD
<<<<<<< HEAD
<<<<<<< HEAD
       "4-element Vector{Float64}:\n",
       " 1.3714285714286012\n",
       " 1.0857142857142843\n",
       " 0.4190476190476085\n",
       " 0.7047619047618903"
      ]
     },
     "execution_count": 161,
     "metadata": {},
     "output_type": "execute_result"
    }
   ],
   "source": [
    "obs_node = 1\n",
    "# for t in eachindex(bp.w[obs_node])\n",
    "#     bp.w[obs_node][t].λ .= nonzeros(λ)[nzrange(λ,obs_node)]\n",
    "# end\n",
=======
       "2-element Vector{Float64}:\n",
       " -0.03738317757009529\n",
       "  0.062305295950132615"
=======
       "4-element Vector{Float64}:\n",
       " 1.4719390751118162\n",
       " 1.0139436235466681\n",
       " 0.5346554576118976\n",
       " 0.8191381563715693"
>>>>>>> 89aa3a4... Fixed errors
=======
       "1-element Vector{Float64}:\n",
<<<<<<< HEAD
       " 4.197608531914553"
>>>>>>> 315ced7... Moved on the server
=======
       " 4.041941161343172"
>>>>>>> 23765fd... Fixed error in derivaive
      ]
     },
     "execution_count": 44,
     "metadata": {},
     "output_type": "execute_result"
    }
   ],
   "source": [
<<<<<<< HEAD
<<<<<<< HEAD
    "obs_node = 6\n",
    "for t in eachindex(bp.w[obs_node])\n",
    "    for j in eachindex(bp.w[obs_node][t].λ)\n",
    "        bp.w[obs_node][t].λ[j] = λ[j,obs_node]\n",
    "    end\n",
    "end\n",
>>>>>>> c52a487... Add functions to compute derivatives
=======
    "obs_node = 1\n",
=======
    "obs_node = 3\n",
>>>>>>> 315ced7... Moved on the server
    "# for t in eachindex(bp.w[obs_node])\n",
    "#     bp.w[obs_node][t].λ .= nonzeros(λ)[nzrange(λ,obs_node)]\n",
    "# end\n",
>>>>>>> 89aa3a4... Fixed errors
    "\n",
    "der_mpbp = der_λ(bp, obs_node, eltype(bp.w[obs_node]); svd_trunc)"
   ]
  },
  {
   "cell_type": "code",
<<<<<<< HEAD
<<<<<<< HEAD
<<<<<<< HEAD
<<<<<<< HEAD
<<<<<<< HEAD
   "execution_count": 162,
=======
   "execution_count": 40,
>>>>>>> c52a487... Add functions to compute derivatives
=======
   "execution_count": 55,
>>>>>>> 89aa3a4... Fixed errors
=======
   "execution_count": 8,
>>>>>>> 2bd24cd... Changed the way to construct SIS objects
=======
   "execution_count": 27,
>>>>>>> 315ced7... Moved on the server
=======
   "execution_count": 45,
>>>>>>> 23765fd... Fixed error in derivaive
   "metadata": {},
   "outputs": [
    {
     "data": {
      "text/plain": [
<<<<<<< HEAD
<<<<<<< HEAD
<<<<<<< HEAD
<<<<<<< HEAD
       "1.3714270608033985"
      ]
     },
     "execution_count": 162,
     "metadata": {},
     "output_type": "execute_result"
=======
       "-0.0373835563659668"
=======
       "1.4823683613940375"
>>>>>>> 89aa3a4... Fixed errors
=======
       "4.031239342339177"
>>>>>>> 315ced7... Moved on the server
=======
       "4.041940471211092"
>>>>>>> 23765fd... Fixed error in derivaive
      ]
     },
     "execution_count": 45,
     "metadata": {},
<<<<<<< HEAD
     "output_type": "display_data"
>>>>>>> c52a487... Add functions to compute derivatives
=======
     "output_type": "execute_result"
>>>>>>> 315ced7... Moved on the server
    }
   ],
   "source": [
    "ϵ = 1e-8\n",
    "\n",
    "for i in vertices(g)\n",
<<<<<<< HEAD
<<<<<<< HEAD
    "    for t in eachindex(bp.w[i])\n",
<<<<<<< HEAD
    "        bp.w[i][t].λ .= nonzeros(λ)[nzrange(λ,i)]\n",
=======
    "        for j in eachindex(bp.w[i][t].λ)\n",
    "            bp.w[i][t].λ[j] = λ[j,i]\n",
    "        end\n",
>>>>>>> c52a487... Add functions to compute derivatives
    "    end\n",
=======
    "    bp.w[i][1].λ .= nonzeros(λ)[nzrange(λ,i)]\n",
>>>>>>> 89aa3a4... Fixed errors
=======
    "    for t in eachindex(bp.w[i])\n",
    "        bp.w[i][t].λ .= nonzeros(λ)[nzrange(λ,i)]\n",
    "    end\n",
>>>>>>> 2bd24cd... Changed the way to construct SIS objects
    "end\n",
    "\n",
    "logzᵢ0 = onebpiter!(bp, obs_node, eltype(bp.w[obs_node]); svd_trunc)\n",
    "\n",
<<<<<<< HEAD
<<<<<<< HEAD
    "for t in eachindex(bp.w[obs_node])\n",
<<<<<<< HEAD
    "    bp.w[obs_node][t].λ[1] += ϵ\n",
=======
    "    bp.w[obs_node][t].λ[1] = λ[1,obs_node] + ϵ\n",
>>>>>>> c52a487... Add functions to compute derivatives
    "end\n",
    "\n",
    "logzᵢϵ = onebpiter!(bp, obs_node, eltype(bp.w[obs_node]); svd_trunc)\n",
    "\n",
<<<<<<< HEAD
    "der_num = (logzᵢϵ - logzᵢ0)/ϵ\n",
    "\n",
    "for i in vertices(g)\n",
    "    for t in eachindex(bp.w[i])\n",
    "        bp.w[i][t].λ .= nonzeros(λ)[nzrange(λ,i)]\n",
    "    end\n",
    "end\n",
    "\n",
    "der_num"
=======
    "der_num = logzᵢϵ/ϵ - logzᵢ0/ϵ "
>>>>>>> c52a487... Add functions to compute derivatives
=======
    "bp.w[obs_node][1].λ[1] += ϵ\n",
=======
    "for t in eachindex(bp.w[obs_node])\n",
    "    bp.w[obs_node][t].λ[1] += ϵ\n",
    "end\n",
>>>>>>> 2bd24cd... Changed the way to construct SIS objects
    "\n",
    "logzᵢϵ = onebpiter!(bp, obs_node, eltype(bp.w[obs_node]); svd_trunc)\n",
    "\n",
    "der_num = (logzᵢϵ - logzᵢ0)/ϵ "
>>>>>>> 89aa3a4... Fixed errors
   ]
  }
 ],
 "metadata": {
  "kernelspec": {
<<<<<<< HEAD
<<<<<<< HEAD
   "display_name": "Julia 20 Threads 1.10.3",
   "language": "julia",
   "name": "julia-20-threads-1.10"
=======
   "display_name": "Julia 1.8.1",
   "language": "julia",
   "name": "julia-1.8"
>>>>>>> c52a487... Add functions to compute derivatives
=======
   "display_name": "Julia 20 Threads 1.10.3",
   "language": "julia",
   "name": "julia-20-threads-1.10"
>>>>>>> 315ced7... Moved on the server
  },
  "language_info": {
   "file_extension": ".jl",
   "mimetype": "application/julia",
   "name": "julia",
<<<<<<< HEAD
<<<<<<< HEAD
   "version": "1.10.3"
=======
   "version": "1.8.1"
>>>>>>> c52a487... Add functions to compute derivatives
=======
   "version": "1.10.3"
>>>>>>> 315ced7... Moved on the server
  }
 },
 "nbformat": 4,
 "nbformat_minor": 2
}
