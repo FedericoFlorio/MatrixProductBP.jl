{
 "cells": [
  {
   "cell_type": "markdown",
   "metadata": {},
   "source": [
    "Compare BP marginals with montecarlo on a tree"
   ]
  },
  {
   "cell_type": "code",
   "execution_count": 1,
   "metadata": {},
   "outputs": [
    {
     "name": "stderr",
     "output_type": "stream",
     "text": [
      "\u001b[32m\u001b[1m  Activating\u001b[22m\u001b[39m project at `~/MatrixProductBP`\n"
     ]
    }
   ],
   "source": [
    "import Pkg; Pkg.activate(\"..\")"
   ]
  },
  {
   "cell_type": "code",
   "execution_count": null,
   "metadata": {},
   "outputs": [
    {
     "name": "stderr",
     "output_type": "stream",
     "text": [
      "┌ Info: Precompiling MatrixProductBP [3d39929c-b583-45fa-b331-3f50b693a38a]\n",
      "└ @ Base loading.jl:1662\n"
     ]
    }
   ],
   "source": [
    "using MatrixProductBP, MatrixProductBP.Models\n",
    "using Graphs, Plots, Printf, IndexedGraphs, Statistics\n",
    "using Base.Threads\n",
    "import ProgressMeter; ProgressMeter.ijulia_behavior(:clear);"
   ]
  },
  {
   "cell_type": "code",
   "execution_count": null,
   "metadata": {},
   "outputs": [],
   "source": [
    "include(\"../../telegram/notifications.jl\");"
   ]
  },
  {
   "cell_type": "code",
   "execution_count": null,
   "metadata": {},
   "outputs": [],
   "source": [
    "T = 10\n",
    "N = 20\n",
    "k = 4\n",
    "gg = random_regular_graph(N, k)\n",
    "t = SimpleGraph(prim_mst(gg))\n",
    "g = IndexedGraph(t)\n",
    "@assert !is_cyclic(g)\n",
    "@assert is_connected(g)\n",
    "λ = 0.2\n",
    "ρ = 0.15\n",
    "γ = 3/N\n",
    "nobs = N÷2;"
   ]
  },
  {
   "cell_type": "code",
   "execution_count": null,
   "metadata": {},
   "outputs": [],
   "source": [
    "function l1_marginals_bp_bondsize(T::Integer, N::Integer, k::Integer, λ::Real, ρ::Real, γ::Real, \n",
    "        nobs::Integer, bonddims::AbstractVector{Int}; \n",
    "        ns_mc = 5*10^6, require_convergence=true, maxiter=100, tol=1e-3, \n",
    "        showprogress::Bool=false)\n",
    "    \n",
    "    b_bp = [Vector{Vector{Float64}}[] for _ in bonddims]\n",
    "    \n",
    "    gg = random_regular_graph(N, k)\n",
    "    t = SimpleGraph(prim_mst(gg))\n",
    "    g = IndexedGraph(t)\n",
    "    @assert !is_cyclic(g)\n",
    "    \n",
    "    sis = SIS(g, λ, ρ, T; γ)\n",
    "    bp = mpbp(deepcopy(sis), d=1)\n",
    "    cb = CB_BP(bp)\n",
    "    x = draw_node_observations!(bp, nobs; last_time=true, softinf=1e2)\n",
    "    sms = sample(bp, ns_mc; showprogress)\n",
    "    b_mc_ = marginals(sms)\n",
    "    b_mc = [[getproperty.(p, :val) for p in bi] for bi in b_mc_]\n",
    "    \n",
    "    for j in eachindex(bonddims)\n",
    "        svd_trunc = TruncBond(bonddims[j])\n",
    "        reset_messages!(bp)\n",
    "        cb = CB_BP(bp; showprogress=false)\n",
    "        iters, ε = iterate!(bp; maxiter, svd_trunc, cb, tol)\n",
    "        if require_convergence\n",
    "            iters == maxiter && error(\"BP did not converge\")\n",
    "        end\n",
    "        b_bp[j] = beliefs(bp)\n",
    "    end\n",
    "    l1s = [l1_marginals(b, b_mc) for b in b_bp]\n",
    "end"
   ]
  },
  {
   "cell_type": "code",
   "execution_count": null,
   "metadata": {},
   "outputs": [],
   "source": [
    "bonddims = [2, 3, 6, 10];"
   ]
  },
  {
   "cell_type": "code",
   "execution_count": null,
   "metadata": {},
   "outputs": [],
   "source": [
    "l1s_bp = Vector{Vector{Float64}}[];"
   ]
  },
  {
   "cell_type": "code",
   "execution_count": null,
   "metadata": {
    "scrolled": true
   },
   "outputs": [],
   "source": [
    "ninstances = 100\n",
    "l1s_bp_ = [[zeros(T+1) for _ in bonddims] for _ in 1:ninstances]\n",
    "@telegram \"bond_size_marginals_copy\" begin\n",
    "    for n in 1:ninstances\n",
    "        println(\"### instance $n of $ninstances\")\n",
    "        l1s_bp_[n] = l1_marginals_bp_bondsize(T, N, k, λ, ρ, γ, nobs, bonddims, ns_mc=10^6)\n",
    "        flush(stdout)\n",
    "        GC.gc()\n",
    "    end\n",
    "    append!(l1s_bp, l1s_bp_)\n",
    "end;"
   ]
  },
  {
   "cell_type": "code",
   "execution_count": null,
   "metadata": {},
   "outputs": [],
   "source": [
    "l1s_bp_avg = map(eachindex(bonddims)) do i\n",
    "    mean([a[i] for a in l1s_bp])\n",
    "end\n",
    "l1s_bp_std = map(eachindex(bonddims)) do i\n",
    "    std([a[i] for a in l1s_bp]) ./ sqrt(length(l1s_bp))\n",
    "end; "
   ]
  },
  {
   "cell_type": "code",
   "execution_count": null,
   "metadata": {},
   "outputs": [],
   "source": [
    "println(\"SIS with: P(S→I)=λ=$λ, P(I→S)=ρ=$ρ. P(zero patient)=γ=$γ\")\n",
    "println(\"Random regular N=$N, k=$k. T=$T, $nobs random observations from the prior at final time\")\n",
    "println(\"Average over \", length(l1s_bp), \" random instances.\")\n",
    "using ColorSchemes\n",
    "cg = cgrad(:matter, length(bonddims), categorical=true) |> reverse\n",
    "pl = plot(xlabel=\"time\", ylabel=\"L₁ error\", xticks=0:T, legend=:bottomright)\n",
    "for i in eachindex(bonddims)\n",
    "    plot!(pl, 0:T, l1s_bp_avg[i], ribbon=l1s_bp_std[i], c=cg[i],\n",
    "        label=\"matrix size = $(bonddims[i])\", m=:o)\n",
    "end\n",
    "plot(pl, title=\"Lᵢ error between BP and true (montecarlo) marginals\", titlefontsize=10, \n",
    "    legend=:outertopright, size=(800,400), margin=5Plots.mm)"
   ]
  }
 ],
 "metadata": {
  "kernelspec": {
   "display_name": "Julia 1.8.0",
   "language": "julia",
   "name": "julia-1.8"
  },
  "language_info": {
   "file_extension": ".jl",
   "mimetype": "application/julia",
   "name": "julia",
   "version": "1.8.0"
  }
 },
 "nbformat": 4,
 "nbformat_minor": 4
}
