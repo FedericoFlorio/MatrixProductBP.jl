{
 "cells": [
  {
   "cell_type": "code",
   "execution_count": 38,
   "metadata": {},
   "outputs": [],
   "source": [
    "using Revise\n",
    "using MatrixProductBP, MatrixProductBP.Models\n",
    "using Graphs, IndexedGraphs, Statistics, Random, LinearAlgebra\n",
    "import ProgressMeter; ProgressMeter.ijulia_behavior(:clear)\n",
    "using TensorTrains: summary_compact\n",
    "using SparseArrays;"
   ]
  },
  {
   "cell_type": "code",
   "execution_count": 39,
   "metadata": {},
   "outputs": [],
   "source": [
    "# T = 5\n",
    "# N = 10\n",
    "# seed = 1\n",
    "\n",
    "# c = 4\n",
    "# gg = erdos_renyi(N, c/N; seed)\n",
    "# g = IndexedGraph(gg)\n",
    "\n",
    "# λ_unif = 0.5\n",
    "# ρ_unif = 0.2\n",
    "# λ = zeros(N,N)\n",
    "# for i in CartesianIndices(λ)\n",
    "#     if !iszero(g.A[i])\n",
    "#         λ[i] = rand()\n",
    "#     end\n",
    "# end\n",
    "# λ = sparse(λ)\n",
    "# ρ = rand(N)\n",
    "# γ = 0.8\n",
    "\n",
    "T = 7\n",
    "N = 2\n",
    "seed = 6\n",
    "\n",
    "A = [0 1; 1 0]\n",
    "g = IndexedGraph(A)\n",
    "\n",
    "λ_unif = 0.7\n",
    "ρ_unif = 0.6\n",
    "λ = sparse(λ_unif .* A)\n",
    "# λ = sparse([0 0; λ_unif 0])\n",
    "ρ = fill(ρ_unif, N)\n",
    "γ = 0.5\n",
    "\n",
    "sis = SIS_heterogeneous(λ, ρ, T; γ);\n",
    "bp_obs = mpbp(sis);"
   ]
  },
  {
   "cell_type": "code",
   "execution_count": 40,
   "metadata": {},
   "outputs": [
    {
     "data": {
      "text/plain": [
       "2×2 SparseMatrixCSC{Int64, Int64} with 2 stored entries:\n",
       " ⋅  1\n",
       " 1  ⋅"
      ]
     },
     "metadata": {},
     "output_type": "display_data"
    }
   ],
   "source": [
    "g.A"
   ]
  },
  {
   "cell_type": "code",
   "execution_count": 41,
   "metadata": {},
   "outputs": [],
   "source": [
    "obs_times = collect(0:T)\n",
    "nobs = floor(Int, N * length(obs_times) * 1.0)\n",
    "obs_fraction = nobs / N\n",
    "rng = MersenneTwister(seed)\n",
    "X, observed = draw_node_observations!(bp_obs, nobs, times = obs_times .+ 1, softinf=Inf; rng);"
   ]
  },
  {
   "cell_type": "code",
   "execution_count": 42,
   "metadata": {},
   "outputs": [
    {
     "data": {
      "text/plain": [
       "2×8 Matrix{Int64}:\n",
       " 2  2  2  2  2  1  2  1\n",
       " 1  1  2  1  2  2  2  1"
      ]
     },
     "metadata": {},
     "output_type": "display_data"
    }
   ],
   "source": [
    "X"
   ]
  },
  {
   "cell_type": "code",
   "execution_count": 43,
   "metadata": {},
   "outputs": [],
   "source": [
    "λinit = 0.3\n",
    "ρinit = 0.3\n",
    "\n",
    "A_complete = ones(N,N) - I\n",
    "g_complete = IndexedGraph(A_complete)\n",
    "λ_complete = sparse(λinit.*A_complete)\n",
    "ρ_complete = fill(ρinit, N)\n",
    "\n",
    "sis_inf = SIS_heterogeneous(g_complete, λ_complete, ρ_complete, T; γ, ϕ=deepcopy(bp_obs.ϕ))\n",
    "bp_inf = mpbp(sis_inf);"
   ]
  },
  {
   "cell_type": "code",
   "execution_count": 44,
   "metadata": {},
   "outputs": [
    {
     "data": {
      "text/plain": [
       "(1, CB_BP{ProgressMeter.ProgressUnknown, MatrixProductBP.var\"#138#141\"}(ProgressMeter.ProgressUnknown(false, false, 0, ProgressMeter.ProgressCore(:green, \"Running MPBP: iter\", 0.1, true, 0, VSCodeServer.IJuliaCore.IJuliaStdio{Base.PipeEndpoint, typeof(VSCodeServer.io_send_callback)}(IOContext(Base.PipeEndpoint(Base.Libc.WindowsRawSocket(0x0000000000000310) open, 0 bytes waiting)), VSCodeServer.io_send_callback), false, 1, 1, ReentrantLock(nothing, 0x00000000, 0x00, Base.GenericCondition{Base.Threads.SpinLock}(Base.InvasiveLinkedList{Task}(nothing, nothing), Base.Threads.SpinLock(0)), (8, 267022608, 0)), 0, 1, false, Int64[], 1.714642784843e9, 1.714642784843e9, 1.714642784843e9)), [[[1.5, 1.5, 1.5, 1.5, 1.5, 1.5, 1.5, 1.5], [1.5, 1.5, 1.5, 1.5, 1.5, 1.5, 1.5, 1.5]], [[2.0, 2.0, 2.0, 2.0, 2.0, 1.0, 2.0, 1.0], [1.0, 1.0, 2.0, 1.0, 2.0, 2.0, 2.0, 1.0]]], [0.5], MatrixProductBP.var\"#138#141\"()))"
      ]
     },
     "metadata": {},
     "output_type": "display_data"
    }
   ],
   "source": [
    "svd_trunc = TruncBond(10)\n",
    "iterate!(bp_inf, maxiter=1; svd_trunc, tol=1e-12, damp=0.5)"
   ]
  },
  {
   "cell_type": "code",
   "execution_count": 45,
   "metadata": {},
   "outputs": [
    {
     "data": {
      "text/plain": [
       "1×3×2×2 Array{Float64, 4}:\n",
       "[:, :, 1, 1] =\n",
       " -0.00177589  0.608543  0.608546\n",
       "\n",
       "[:, :, 2, 1] =\n",
       " -0.608543  -0.00177589  -8.39125e-6\n",
       "\n",
       "[:, :, 1, 2] =\n",
       " -0.00177589  0.608543  -0.608546\n",
       "\n",
       "[:, :, 2, 2] =\n",
       " -0.608543  -0.00177589  8.39125e-6"
      ]
     },
     "metadata": {},
     "output_type": "display_data"
    }
   ],
   "source": [
    "bp_inf.μ[1].tensors[1]"
   ]
  },
  {
   "cell_type": "code",
   "execution_count": 46,
   "metadata": {},
   "outputs": [
    {
     "name": "stderr",
     "output_type": "stream",
     "text": [
      "┌ Error: NaN in tensor train\n",
      "└ @ MatrixProductBP C:\\Users\\fefif\\Desktop\\PoliTO\\03 Thesis\\Code\\MatrixProductBP.jl\\src\\sis_inference.jl:23\n"
     ]
    },
    {
     "ename": "ArgumentError",
     "evalue": "ArgumentError: invalid argument #4 to LAPACK call",
     "output_type": "error",
     "traceback": [
      "ArgumentError: invalid argument #4 to LAPACK call\n",
      "\n",
      "Stacktrace:\n",
      "  [1] chklapackerror\n",
      "    @ C:\\Users\\fefif\\AppData\\Local\\Programs\\Julia-1.8.1\\share\\julia\\stdlib\\v1.8\\LinearAlgebra\\src\\lapack.jl:39 [inlined]\n",
      "  [2] gesdd!(job::Char, A::Matrix{Float64})\n",
      "    @ LinearAlgebra.LAPACK C:\\Users\\fefif\\AppData\\Local\\Programs\\Julia-1.8.1\\share\\julia\\stdlib\\v1.8\\LinearAlgebra\\src\\lapack.jl:1665\n",
      "  [3] _svd!\n",
      "    @ C:\\Users\\fefif\\AppData\\Local\\Programs\\Julia-1.8.1\\share\\julia\\stdlib\\v1.8\\LinearAlgebra\\src\\svd.jl:125 [inlined]\n",
      "  [4] svd!(A::Matrix{Float64}; full::Bool, alg::LinearAlgebra.DivideAndConquer)\n",
      "    @ LinearAlgebra C:\\Users\\fefif\\AppData\\Local\\Programs\\Julia-1.8.1\\share\\julia\\stdlib\\v1.8\\LinearAlgebra\\src\\svd.jl:105\n",
      "  [5] #svd#116\n",
      "    @ C:\\Users\\fefif\\AppData\\Local\\Programs\\Julia-1.8.1\\share\\julia\\stdlib\\v1.8\\LinearAlgebra\\src\\svd.jl:179 [inlined]\n",
      "  [6] svd\n",
      "    @ C:\\Users\\fefif\\AppData\\Local\\Programs\\Julia-1.8.1\\share\\julia\\stdlib\\v1.8\\LinearAlgebra\\src\\svd.jl:178 [inlined]\n",
      "  [7] (::TruncThresh{Float64})(M::Matrix{Float64})\n",
      "    @ TensorTrains C:\\Users\\fefif\\.julia\\packages\\TensorTrains\\Nl9Z2\\src\\svd_trunc.jl:37\n",
      "  [8] orthogonalize_right!(C::TensorTrains.TensorTrain{Float64, 4}; svd_trunc::TruncThresh{Float64})\n",
      "    @ TensorTrains C:\\Users\\fefif\\.julia\\packages\\TensorTrains\\Nl9Z2\\src\\tensor_train.jl:75\n",
      "  [9] #compress!#64\n",
      "    @ C:\\Users\\fefif\\.julia\\packages\\TensorTrains\\Nl9Z2\\src\\abstract_tensor_train.jl:208 [inlined]\n",
      " [10] (::MatrixProductBP.var\"#op#477\"{TruncThresh{Float64}, Vector{SIS_heterogeneousFactor{Float64}}, DataType})(::Tuple{TensorTrains.TensorTrain{Float64, 4}, Float64, Int64}, ::Tuple{TensorTrains.TensorTrain{Float64, 4}, Float64, Int64})\n",
      "    @ MatrixProductBP C:\\Users\\fefif\\Desktop\\PoliTO\\03 Thesis\\Code\\MatrixProductBP.jl\\src\\sis_inference.jl:24\n",
      " [11] der_λ(bp::MPBP{IndexedBiDiGraph{Int64}, Float64, Vector{SIS_heterogeneousFactor{Float64}}, TensorTrains.TensorTrain{Float64, 4}, TensorTrains.TensorTrain{Float64, 3}}, i::Int64, ::Type{SIS_heterogeneousFactor{Float64}}; svd_trunc::TruncThresh{Float64})\n",
      "    @ MatrixProductBP C:\\Users\\fefif\\Desktop\\PoliTO\\03 Thesis\\Code\\MatrixProductBP.jl\\src\\sis_inference.jl:50\n",
      " [12] stepga!(bp::MPBP{IndexedBiDiGraph{Int64}, Float64, Vector{SIS_heterogeneousFactor{Float64}}, TensorTrains.TensorTrain{Float64, 4}, TensorTrains.TensorTrain{Float64, 3}}, i::Int64, λstep::Float64, ρstep::Float64; method::Int64, svd_trunc::TruncThresh{Float64})\n",
      "    @ MatrixProductBP C:\\Users\\fefif\\Desktop\\PoliTO\\03 Thesis\\Code\\MatrixProductBP.jl\\src\\sis_inference.jl:117\n",
      " [13] inference_parameters(bp::MPBP{IndexedBiDiGraph{Int64}, Float64, Vector{SIS_heterogeneousFactor{Float64}}, TensorTrains.TensorTrain{Float64, 4}, TensorTrains.TensorTrain{Float64, 3}}; method::Int64, maxiter::Int64, λstep::Float64, ρstep::Float64, svd_trunc::TruncThresh{Float64}, showprogress::Bool, tol::Float64, nodes::Vector{Int64}, shuffle_nodes::Bool, cb_inf::CB_INF{ProgressMeter.ProgressUnknown, typeof(MatrixProductBP.save_data), Vector{PARAMS{Float64}}})\n",
      "    @ MatrixProductBP C:\\Users\\fefif\\Desktop\\PoliTO\\03 Thesis\\Code\\MatrixProductBP.jl\\src\\sis_inference.jl:227\n",
      " [14] top-level scope\n",
      "    @ c:\\Users\\fefif\\Desktop\\PoliTO\\03 Thesis\\Code\\MatrixProductBP.jl\\notebooks\\sis_inference_test.ipynb:3"
     ]
    }
   ],
   "source": [
    "svd_trunc = TruncBond(10)\n",
    "\n",
    "iters, cb = inference_parameters(bp_inf, method=2, maxiter=50, λstep=0.05, ρstep=0.05);"
   ]
  },
  {
   "cell_type": "code",
   "execution_count": 47,
   "metadata": {},
   "outputs": [
    {
     "data": {
      "text/plain": [
       "SIS_heterogeneousFactor{Float64}([0.3], 0.3)"
      ]
     },
     "metadata": {},
     "output_type": "display_data"
    }
   ],
   "source": [
    "bp_inf.w[1][1]"
   ]
  },
  {
   "cell_type": "code",
   "execution_count": 48,
   "metadata": {},
   "outputs": [
    {
     "ename": "UndefVarError",
     "evalue": "UndefVarError: cb not defined",
     "output_type": "error",
     "traceback": [
      "UndefVarError: cb not defined\n",
      "\n",
      "Stacktrace:\n",
      " [1] top-level scope\n",
      "   @ show.jl:1047"
     ]
    }
   ],
   "source": [
    "@show cb.data"
   ]
  },
  {
   "cell_type": "code",
   "execution_count": 49,
   "metadata": {},
   "outputs": [
    {
     "data": {
      "text/plain": [
       "1×1×1×2×2×2 Array{Float64, 6}:\n",
       "[:, :, 1, 1, 1, 1] =\n",
       " 0.0\n",
       "\n",
       "[:, :, 1, 2, 1, 1] =\n",
       " 0.0\n",
       "\n",
       "[:, :, 1, 1, 2, 1] =\n",
       " 0.0\n",
       "\n",
       "[:, :, 1, 2, 2, 1] =\n",
       " 0.0\n",
       "\n",
       "[:, :, 1, 1, 1, 2] =\n",
       " 0.0\n",
       "\n",
       "[:, :, 1, 2, 1, 2] =\n",
       " 0.0\n",
       "\n",
       "[:, :, 1, 1, 2, 2] =\n",
       " 0.0\n",
       "\n",
       "[:, :, 1, 2, 2, 2] =\n",
       " 0.0"
      ]
     },
     "metadata": {},
     "output_type": "display_data"
    }
   ],
   "source": [
    "B3 = [0.0;;;; 0.0;;;;; 0.0;;;; 0.0;;;;;; 0.0;;;; 0.0;;;;; 0.0;;;; 0.0]"
   ]
  }
 ],
 "metadata": {
  "kernelspec": {
   "display_name": "Julia 1.8.1",
   "language": "julia",
   "name": "julia-1.8"
  },
  "language_info": {
   "file_extension": ".jl",
   "mimetype": "application/julia",
   "name": "julia",
   "version": "1.8.1"
  }
 },
 "nbformat": 4,
 "nbformat_minor": 2
}
