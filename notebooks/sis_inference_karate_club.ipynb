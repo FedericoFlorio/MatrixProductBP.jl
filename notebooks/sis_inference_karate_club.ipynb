{
 "cells": [
  {
   "cell_type": "code",
   "execution_count": 83,
   "metadata": {},
   "outputs": [
    {
     "name": "stderr",
     "output_type": "stream",
     "text": [
      "\u001b[32m\u001b[1m  Activating\u001b[22m\u001b[39m project at `~/master_thesis`\n"
     ]
    }
   ],
   "source": [
    "using Pkg\n",
    "Pkg.activate(\"/home/fedflorio/master_thesis\")"
   ]
  },
  {
   "cell_type": "code",
   "execution_count": 84,
   "metadata": {},
   "outputs": [],
   "source": [
    "using Revise\n",
    "using MatrixProductBP, MatrixProductBP.Models\n",
    "using Graphs, IndexedGraphs, Statistics, Random, LinearAlgebra, PyPlot, DelimitedFiles\n",
    "import ProgressMeter; ProgressMeter.ijulia_behavior(:clear)\n",
    "using TensorTrains: summary_compact\n",
    "using SparseArrays\n",
    "include(\"/home/fedflorio/master_thesis/Utilities/roc.jl\");"
   ]
  },
  {
   "cell_type": "code",
   "execution_count": 85,
   "metadata": {},
   "outputs": [],
   "source": [
    "A = readdlm(\"karate.txt\", Bool)\n",
    "g = IndexedGraph(A)\n",
    "\n",
    "nsnaps = 100\n",
    "separation = 128\n",
    "T = nsnaps * separation\n",
    "N = nv(g)\n",
    "seed = 4\n",
    "\n",
    "λ_unif = 0.02\n",
    "ρ_unif = 0.02\n",
    "λ = zeros(N,N)\n",
    "for i in CartesianIndices(λ)\n",
    "    if !iszero(g.A[i])\n",
    "        # λ[i] = rand()\n",
    "        λ[i] = λ_unif\n",
    "    end\n",
    "end\n",
    "λ = sparse(λ)\n",
    "# ρ = rand(N)\n",
    "ρ = fill(ρ_unif,N)\n",
    "γ = [i==1 ? 1.0 : 0.0 for i in 1:N]\n",
    "γ = 0.1\n",
    ";"
   ]
  },
  {
   "cell_type": "code",
   "execution_count": 86,
   "metadata": {},
   "outputs": [],
   "source": [
    "sis = SIS_heterogeneous(λ, ρ, T; γ)\n",
    "bp_obs = mpbp(sis);"
   ]
  },
  {
   "cell_type": "code",
   "execution_count": 87,
   "metadata": {},
   "outputs": [],
   "source": [
    "obs_times = collect(range(separation, step=separation, length=nsnaps))\n",
    "nobs = floor(Int, N * length(obs_times) * 1.0)\n",
    "obs_fraction = nobs / N\n",
    "rng = MersenneTwister(seed)\n",
    "X, observed = draw_node_observations!(bp_obs, nobs, times = obs_times .+ 1, softinf=Inf; rng);"
   ]
  },
  {
   "cell_type": "code",
   "execution_count": 88,
   "metadata": {},
   "outputs": [
    {
     "data": {
      "text/plain": [
       "34×12801 Matrix{Int64}:\n",
       " 1  1  1  1  1  1  1  2  2  2  2  2  2  …  2  2  2  2  2  2  1  1  1  2  2  2\n",
       " 1  1  1  1  1  1  1  1  1  1  1  1  2     2  2  2  2  2  2  2  2  2  2  2  2\n",
       " 2  2  2  2  2  2  2  2  2  2  2  2  2     1  1  2  2  2  2  2  2  2  2  2  2\n",
       " 2  2  2  2  2  2  2  2  2  2  2  2  2     2  2  2  2  2  2  2  2  2  2  2  2\n",
       " 1  1  1  1  1  1  1  1  1  1  1  1  1     2  2  2  2  2  2  2  2  2  2  2  2\n",
       " 1  1  1  1  1  1  1  1  1  1  2  2  2  …  1  1  1  1  1  2  2  2  2  2  2  2\n",
       " 1  1  1  1  1  1  1  1  1  1  1  1  1     2  2  1  1  1  1  1  1  1  1  1  1\n",
       " 1  1  2  2  2  1  1  1  2  2  2  2  2     1  2  2  2  2  2  2  2  2  1  1  2\n",
       " 1  1  1  1  1  1  1  1  1  1  1  1  1     2  2  2  2  2  2  2  2  2  2  2  2\n",
       " 1  1  1  1  1  1  1  1  1  1  1  1  2     2  2  2  2  2  2  2  2  2  2  2  2\n",
       " ⋮              ⋮              ⋮        ⋱     ⋮              ⋮              ⋮\n",
       " 1  1  1  1  1  1  1  1  1  1  1  1  1  …  2  2  2  2  2  2  2  2  2  2  2  2\n",
       " 1  1  1  1  1  1  1  1  1  1  1  1  1     2  2  2  2  2  2  2  2  2  2  2  2\n",
       " 1  1  1  1  1  1  1  2  2  2  2  2  2     2  2  2  2  2  2  2  2  2  2  2  2\n",
       " 1  1  1  1  1  1  1  1  1  1  1  1  1     2  2  2  2  2  2  2  2  2  2  2  2\n",
       " 1  1  1  1  1  1  1  1  1  1  1  1  1     2  2  2  2  2  2  2  2  2  2  2  2\n",
       " 1  1  1  1  1  1  1  1  1  1  1  1  1  …  2  2  2  2  2  2  2  2  2  2  2  2\n",
       " 1  1  1  1  1  1  1  1  1  1  1  1  1     2  2  2  2  2  2  2  2  2  2  2  1\n",
       " 1  1  1  1  1  1  1  1  1  1  1  1  1     1  1  1  1  1  1  1  1  1  1  1  1\n",
       " 1  1  1  1  1  1  1  1  1  1  1  1  1     2  2  2  2  2  2  2  2  2  2  2  2"
      ]
     },
     "metadata": {},
     "output_type": "display_data"
    }
   ],
   "source": [
    "X"
   ]
  },
  {
   "cell_type": "code",
   "execution_count": 5,
   "metadata": {},
   "outputs": [],
   "source": [
    "λinit = 0.1\n",
    "ρinit = 0.1\n",
    "\n",
    "A_complete = ones(N,N) - I\n",
    "g_complete = IndexedGraph(A_complete)\n",
    "λ_complete = sparse(λinit.*A_complete)\n",
    "ρ_complete = fill(ρinit, N)\n",
    "\n",
    "sis_inf = SIS_heterogeneous(g_complete, λ_complete, ρ_complete, T; γ, ϕ=deepcopy(bp_obs.ϕ))\n",
    "bp_inf = mpbp(sis_inf);"
   ]
  },
  {
   "cell_type": "code",
   "execution_count": 6,
   "metadata": {},
   "outputs": [
    {
     "name": "stdout",
     "output_type": "stream",
     "text": [
      "auc = 0.5098343685300207\n",
      "auc = 0.5098343685300207\n",
      "auc = 0.5098343685300207\n",
      "auc = 0.5098343685300207\n",
      "auc = 0.5098343685300207\n",
      "auc = 0.5098343685300207\n",
      "auc = 0.5098343685300207\n",
      "auc = 0.5098343685300207\n",
      "auc = 0.5098343685300207\n",
      "auc = 0.5098343685300207\n",
      "auc = 0.5098343685300207\n",
      "auc = 0.5098343685300207\n",
      "auc = 0.5098343685300207\n",
      "auc = 0.5098343685300207\n",
      "auc = 0.5098343685300207\n",
      "auc = 0.5098343685300207\n",
      "auc = 0.5098343685300207\n",
      "auc = 0.5098343685300207\n",
      "auc = 0.5098343685300207\n",
      "auc = 0.5098343685300207\n",
      "auc = 0.5098343685300207\n",
      "auc = 0.5098343685300207\n"
     ]
    }
   ],
   "source": [
    "svd_trunc = TruncBond(3)\n",
    "maxiter = 40\n",
    "\n",
    "for iter in 1:maxiter\n",
    "    iters, cb = inference_parameters!(bp_inf, method=31, maxiter=1, λstep=0.01, ρstep=0.01, logpriorder=(x)->0.0);\n",
    "\n",
    "    xplot, yplot, auc = roc(cb.data[end].λ, λ)\n",
    "    @show auc\n",
    "\n",
    "    close(\"all\")\n",
    "    plot(xplot,yplot)\n",
    "    gcf()\n",
    "end"
   ]
  }
 ],
 "metadata": {
  "kernelspec": {
   "display_name": "Julia 1.10.3",
   "language": "julia",
   "name": "julia-1.10"
  },
  "language_info": {
   "file_extension": ".jl",
   "mimetype": "application/julia",
   "name": "julia",
   "version": "1.10.3"
  }
 },
 "nbformat": 4,
 "nbformat_minor": 2
}
