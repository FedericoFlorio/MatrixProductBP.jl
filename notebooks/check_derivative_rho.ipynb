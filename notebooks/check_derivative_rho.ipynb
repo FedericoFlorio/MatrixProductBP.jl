{
 "cells": [
  {
   "cell_type": "code",
<<<<<<< HEAD
<<<<<<< HEAD
<<<<<<< HEAD
   "execution_count": 172,
=======
   "execution_count": 676,
>>>>>>> ba75e7c... Sped up computation of derivatives
   "metadata": {},
   "outputs": [
    {
     "name": "stderr",
     "output_type": "stream",
     "text": [
      "\u001b[32m\u001b[1m  Activating\u001b[22m\u001b[39m project at `~/master_thesis`\n"
     ]
    }
   ],
   "source": [
    "using Pkg\n",
    "Pkg.activate(\"/home/fedflorio/master_thesis\")"
   ]
  },
  {
   "cell_type": "code",
<<<<<<< HEAD
   "execution_count": 173,
=======
   "execution_count": 1,
>>>>>>> c52a487... Add functions to compute derivatives
=======
   "execution_count": 2,
>>>>>>> 714cf42... Fixed lambda derivative
=======
   "execution_count": 677,
>>>>>>> ba75e7c... Sped up computation of derivatives
   "metadata": {},
   "outputs": [
    {
     "name": "stderr",
     "output_type": "stream",
     "text": [
      "\u001b[32m\u001b[1m  Activating\u001b[22m\u001b[39m project at `~/master_thesis`\n"
     ]
    }
   ],
   "source": [
<<<<<<< HEAD
    "using Pkg\n",
    "Pkg.activate(\"/home/fedflorio/master_thesis\")"
=======
    "using Revise\n",
    "using MatrixProductBP, MatrixProductBP.Models\n",
    "using Graphs, Printf, IndexedGraphs, Statistics, Random\n",
    "import ProgressMeter; ProgressMeter.ijulia_behavior(:clear)\n",
    "using JLD2\n",
    "using TensorTrains: summary_compact\n",
    "using SparseArrays;"
>>>>>>> ba75e7c... Sped up computation of derivatives
   ]
  },
  {
   "cell_type": "code",
<<<<<<< HEAD
   "execution_count": 3,
=======
   "execution_count": 678,
>>>>>>> ba75e7c... Sped up computation of derivatives
   "metadata": {},
   "outputs": [
    {
     "name": "stdout",
     "output_type": "stream",
     "text": [
      "\u001b[32m\u001b[1mStatus\u001b[22m\u001b[39m `~/master_thesis/Project.toml`\n",
      "  \u001b[90m[3d39929c] \u001b[39mMatrixProductBP v0.7.0 `~/master_thesis/MatrixProductBP.jl`\n"
     ]
    }
   ],
   "source": [
<<<<<<< HEAD
    "using Revise\n",
    "using MatrixProductBP, MatrixProductBP.Models\n",
<<<<<<< HEAD
    "using Graphs, Printf, IndexedGraphs, Statistics, Random\n",
=======
    "using Graphs, Plots, Printf, IndexedGraphs, Statistics, Random\n",
>>>>>>> c52a487... Add functions to compute derivatives
    "import ProgressMeter; ProgressMeter.ijulia_behavior(:clear)\n",
    "using JLD2\n",
    "using TensorTrains: summary_compact\n",
    "using SparseArrays;"
=======
    "Pkg.status(\"MatrixProductBP\")"
>>>>>>> ba75e7c... Sped up computation of derivatives
   ]
  },
  {
   "cell_type": "code",
<<<<<<< HEAD
<<<<<<< HEAD
<<<<<<< HEAD
   "execution_count": 174,
=======
   "execution_count": 679,
>>>>>>> ba75e7c... Sped up computation of derivatives
   "metadata": {},
   "outputs": [],
   "source": [
    "T = 20\n",
    "N = 30\n",
<<<<<<< HEAD
=======
   "execution_count": 2,
=======
   "execution_count": 4,
>>>>>>> 714cf42... Fixed lambda derivative
   "metadata": {},
   "outputs": [],
   "source": [
<<<<<<< HEAD
    "T = 5\n",
    "N = 10\n",
>>>>>>> c52a487... Add functions to compute derivatives
=======
    "T = 25\n",
    "N = 40\n",
>>>>>>> 89aa3a4... Fixed errors
=======
>>>>>>> ba75e7c... Sped up computation of derivatives
    "seed = 2\n",
    "\n",
    "c = 2\n",
    "gg = erdos_renyi(N, c/N; seed)\n",
    "g = IndexedGraph(gg)\n",
    "\n",
    "λ_unif = 0.5\n",
    "ρ_unif = 0.2\n",
    "λ = zeros(N,N)\n",
    "for i in CartesianIndices(λ)\n",
    "    if !iszero(g.A[i])\n",
<<<<<<< HEAD
<<<<<<< HEAD
    "        λ[i] = rand()\n",
    "    end\n",
    "end\n",
    "λ = sparse(λ)\n",
    "ρ = rand(N)\n",
=======
    "        λ[i] = λ_unif\n",
    "    end\n",
    "end\n",
    "λ = sparse(λ)\n",
    "ρ = fill(ρ_unif,N)\n",
>>>>>>> c52a487... Add functions to compute derivatives
=======
    "        λ[i] = rand()\n",
    "    end\n",
    "end\n",
    "λ = sparse(λ)\n",
    "ρ = rand(N)\n",
>>>>>>> 89aa3a4... Fixed errors
    "γ = 0.5\n",
    "\n",
    "# T = 3\n",
    "# N = 2\n",
    "# seed = 3\n",
    "\n",
    "# A = [0 1; 1 0]\n",
    "# g = IndexedGraph(A)\n",
    "\n",
    "# λ_unif = 0.5\n",
    "# ρ_unif = 0.6\n",
    "# λ = sparse(λ_unif .* A)\n",
    "# # λ = sparse([0 λ_unif; 0 0])\n",
    "# ρ = fill(ρ_unif, N)\n",
    "# γ = 0.5\n",
    "\n",
    "sis = SIS_heterogeneous(λ, ρ, T; γ);\n",
    "bp = mpbp(sis);"
   ]
  },
  {
   "cell_type": "code",
<<<<<<< HEAD
<<<<<<< HEAD
<<<<<<< HEAD
   "execution_count": 175,
=======
   "execution_count": 3,
>>>>>>> c52a487... Add functions to compute derivatives
=======
   "execution_count": 5,
>>>>>>> 714cf42... Fixed lambda derivative
=======
   "execution_count": 680,
>>>>>>> ba75e7c... Sped up computation of derivatives
   "metadata": {},
   "outputs": [
    {
     "data": {
      "text/plain": [
<<<<<<< HEAD
<<<<<<< HEAD
<<<<<<< HEAD
=======
>>>>>>> ba75e7c... Sped up computation of derivatives
       "30×30 SparseMatrixCSC{Int64, Int64} with 52 stored entries:\n",
       "⎡⠀⠀⠀⠀⠈⠀⠈⠀⠈⠀⠈⠀⠠⠀⠀⎤\n",
       "⎢⠀⠀⢀⠐⠐⠀⢀⠬⠀⠀⢀⠀⠠⠀⠀⎥\n",
       "⎢⠂⠀⠐⠀⠠⠂⠰⠀⠈⠀⠁⡀⠀⠀⠀⎥\n",
       "⎢⠂⠀⡀⡔⠐⠂⠀⠀⠀⠄⠁⠀⠀⢐⠀⎥\n",
       "⎢⠂⠀⠀⠀⠂⠀⠀⠄⠀⠀⠀⠈⠀⠀⠀⎥\n",
       "⎢⠂⠀⠀⠐⠁⠠⠁⠀⡀⠀⠀⠀⠀⠄⡀⎥\n",
       "⎢⠀⠂⠀⠂⠀⠀⢀⢀⠀⠀⠀⠄⠀⠀⠀⎥\n",
       "⎣⠀⠀⠀⠀⠀⠀⠀⠀⠀⠀⠀⠈⠀⠀⠀⎦"
      ]
     },
<<<<<<< HEAD
     "execution_count": 175,
     "metadata": {},
     "output_type": "execute_result"
=======
       "10×10 SparseMatrixCSC{Int64, Int64} with 20 stored entries:\n",
       " ⋅  ⋅  ⋅  ⋅   2  5  ⋅  ⋅  9   ⋅\n",
       " ⋅  ⋅  1  ⋅   ⋅  6  ⋅  ⋅  ⋅   ⋅\n",
       " ⋅  1  ⋅  ⋅   3  ⋅  ⋅  ⋅  ⋅   ⋅\n",
       " ⋅  ⋅  ⋅  ⋅   4  ⋅  ⋅  8  ⋅   ⋅\n",
       " 2  ⋅  3  4   ⋅  ⋅  7  ⋅  ⋅  10\n",
       " 5  6  ⋅  ⋅   ⋅  ⋅  ⋅  ⋅  ⋅   ⋅\n",
       " ⋅  ⋅  ⋅  ⋅   7  ⋅  ⋅  ⋅  ⋅   ⋅\n",
       " ⋅  ⋅  ⋅  8   ⋅  ⋅  ⋅  ⋅  ⋅   ⋅\n",
       " 9  ⋅  ⋅  ⋅   ⋅  ⋅  ⋅  ⋅  ⋅   ⋅\n",
       " ⋅  ⋅  ⋅  ⋅  10  ⋅  ⋅  ⋅  ⋅   ⋅"
=======
       "40×40 SparseMatrixCSC{Int64, Int64} with 70 stored entries:\n",
<<<<<<< HEAD
       "⠀⠀⠀⠀⠀⠀⠁⠀⠀⠁⠀⠐⠀⠀⠂⠀⢀⡀⠀⠀\n",
       "⠀⠀⠀⠀⠀⡀⢀⠀⠀⠀⠄⠀⠀⠀⠀⠀⢀⠀⠀⠀\n",
       "⠀⠀⠀⠠⠀⠀⠀⠀⠠⠈⠒⡀⠀⢀⠄⠄⠈⠀⠀⠀\n",
       "⠁⠀⠀⠐⠀⠀⠄⠁⠀⠃⢈⠀⠀⠀⠀⠄⠀⠀⠀⠀\n",
       "⠄⠀⠀⠀⡀⠂⠤⠀⠀⠀⠀⠀⡀⠔⠀⠀⠀⠀⠄⠀\n",
       "⢀⠀⠀⠁⠘⠠⠂⠐⠀⠀⠀⠀⠀⠀⠀⠐⠀⠀⠈⠀\n",
       "⠀⠀⠀⠀⠀⢀⠀⠀⢀⠌⠀⠀⠀⠀⠀⠀⠀⡀⠀⠀\n",
       "⠈⠀⠀⠀⠀⠅⠀⠄⠀⠀⢀⠀⠀⠀⠀⠀⠀⠠⢀⠠\n",
       "⠀⠰⠀⠐⠂⠀⠀⠀⠀⠀⠀⠀⠀⠠⠀⡀⠀⠀⠀⠀\n",
       "⠀⠀⠀⠀⠀⠀⠀⠀⠀⠁⠂⠀⠀⠀⠀⡐⠀⠀⠀⠀"
>>>>>>> 89aa3a4... Fixed errors
=======
       "⎡⠀⠀⠀⠀⠀⠀⠁⠀⠀⠁⠀⠐⠀⠀⠂⠀⢀⡀⠀⠀⎤\n",
       "⎢⠀⠀⠀⠀⠀⡀⢀⠀⠀⠀⠄⠀⠀⠀⠀⠀⢀⠀⠀⠀⎥\n",
       "⎢⠀⠀⠀⠠⠀⠀⠀⠀⠠⠈⠒⡀⠀⢀⠄⠄⠈⠀⠀⠀⎥\n",
       "⎢⠁⠀⠀⠐⠀⠀⠄⠁⠀⠃⢈⠀⠀⠀⠀⠄⠀⠀⠀⠀⎥\n",
       "⎢⠄⠀⠀⠀⡀⠂⠤⠀⠀⠀⠀⠀⡀⠔⠀⠀⠀⠀⠄⠀⎥\n",
       "⎢⢀⠀⠀⠁⠘⠠⠂⠐⠀⠀⠀⠀⠀⠀⠀⠐⠀⠀⠈⠀⎥\n",
       "⎢⠀⠀⠀⠀⠀⢀⠀⠀⢀⠌⠀⠀⠀⠀⠀⠀⠀⡀⠀⠀⎥\n",
       "⎢⠈⠀⠀⠀⠀⠅⠀⠄⠀⠀⢀⠀⠀⠀⠀⠀⠀⠠⢀⠠⎥\n",
       "⎢⠀⠰⠀⠐⠂⠀⠀⠀⠀⠀⠀⠀⠀⠠⠀⡀⠀⠀⠀⠀⎥\n",
       "⎣⠀⠀⠀⠀⠀⠀⠀⠀⠀⠁⠂⠀⠀⠀⠀⡐⠀⠀⠀⠀⎦"
>>>>>>> 714cf42... Fixed lambda derivative
      ]
     },
     "execution_count": 5,
=======
     "execution_count": 680,
>>>>>>> ba75e7c... Sped up computation of derivatives
     "metadata": {},
<<<<<<< HEAD
     "output_type": "display_data"
>>>>>>> c52a487... Add functions to compute derivatives
=======
     "output_type": "execute_result"
>>>>>>> 714cf42... Fixed lambda derivative
    }
   ],
   "source": [
    "g.A"
   ]
  },
  {
   "cell_type": "code",
<<<<<<< HEAD
<<<<<<< HEAD
<<<<<<< HEAD
   "execution_count": 176,
=======
   "execution_count": 4,
>>>>>>> c52a487... Add functions to compute derivatives
=======
   "execution_count": 6,
>>>>>>> 714cf42... Fixed lambda derivative
=======
   "execution_count": 681,
>>>>>>> ba75e7c... Sped up computation of derivatives
   "metadata": {},
   "outputs": [],
   "source": [
    "obs_times = collect(0:T)\n",
    "nobs = floor(Int, N * length(obs_times) * 1.0)\n",
    "obs_fraction = nobs / N\n",
    "rng = MersenneTwister(seed)\n",
    "X, observed = draw_node_observations!(bp, nobs, times = obs_times .+ 1, softinf=Inf; rng);"
   ]
  },
  {
   "cell_type": "code",
<<<<<<< HEAD
<<<<<<< HEAD
<<<<<<< HEAD
   "execution_count": 177,
=======
   "execution_count": 5,
>>>>>>> c52a487... Add functions to compute derivatives
=======
   "execution_count": 7,
>>>>>>> 714cf42... Fixed lambda derivative
=======
   "execution_count": 682,
>>>>>>> ba75e7c... Sped up computation of derivatives
   "metadata": {},
   "outputs": [
    {
     "data": {
      "text/plain": [
<<<<<<< HEAD
<<<<<<< HEAD
<<<<<<< HEAD
=======
>>>>>>> ba75e7c... Sped up computation of derivatives
       "30×21 Matrix{Int64}:\n",
       " 1  2  2  1  2  1  2  1  2  1  1  2  2  1  2  2  2  2  2  2  1\n",
       " 2  1  1  1  1  1  1  1  1  1  1  1  1  1  1  1  1  1  1  1  1\n",
       " 1  2  1  2  1  1  1  1  1  1  1  1  1  1  1  2  2  2  1  1  2\n",
       " 2  1  1  1  1  1  1  1  1  1  1  1  1  1  1  1  1  1  1  1  1\n",
       " 2  2  2  2  2  1  2  1  1  1  1  1  1  1  1  1  1  1  1  1  1\n",
       " 2  1  1  2  1  2  1  2  1  1  1  1  2  1  2  1  1  2  1  2  1\n",
       " 2  1  2  1  2  1  1  2  1  1  1  2  1  1  1  1  2  1  2  1  2\n",
       " 1  2  2  1  2  2  2  2  1  2  2  1  1  2  2  2  2  1  2  2  1\n",
       " 2  2  2  2  1  2  2  2  2  2  2  2  2  2  2  2  2  2  2  2  2\n",
       " 2  1  2  1  2  2  2  2  2  1  1  2  1  2  2  1  2  1  2  1  1\n",
       " 1  1  1  2  2  1  2  1  2  1  1  1  2  1  2  1  1  2  2  1  1\n",
       " 2  2  2  2  2  2  2  2  2  2  2  2  2  2  2  2  2  2  2  2  2\n",
       " 1  1  1  1  1  1  1  1  1  2  1  2  1  2  1  1  1  1  1  1  1\n",
       " ⋮              ⋮              ⋮              ⋮              ⋮\n",
       " 2  2  2  2  2  2  2  2  2  1  1  1  1  1  1  1  1  1  1  1  2\n",
       " 1  1  1  1  1  1  1  1  1  1  1  1  1  1  1  1  1  1  1  1  1\n",
       " 1  1  1  1  1  1  1  1  2  1  2  1  2  1  1  1  1  1  1  1  1\n",
       " 1  1  1  2  2  2  1  2  2  1  1  2  1  1  2  1  2  1  1  1  1\n",
       " 2  2  2  2  2  2  2  2  2  2  2  2  2  2  2  2  2  2  2  2  2\n",
       " 1  2  2  2  1  2  2  2  2  2  2  2  2  2  2  1  2  2  2  2  2\n",
       " 1  1  1  1  1  1  1  1  1  1  1  1  1  1  1  1  1  1  1  1  1\n",
       " 2  2  2  1  2  2  1  1  1  1  1  1  2  2  2  1  2  1  1  2  1\n",
       " 1  2  2  1  2  1  2  1  2  1  2  1  2  1  2  1  2  1  2  1  2\n",
       " 1  1  2  2  1  2  1  2  1  2  1  1  1  1  2  1  2  2  1  2  1\n",
       " 2  2  2  2  2  2  1  1  1  1  1  1  1  1  2  1  1  2  1  1  1\n",
       " 1  1  1  1  1  1  1  1  1  1  1  1  1  1  1  1  1  1  1  1  1"
      ]
     },
<<<<<<< HEAD
     "execution_count": 177,
     "metadata": {},
     "output_type": "execute_result"
=======
       "10×6 Matrix{Int64}:\n",
       " 1  1  1  1  1  1\n",
       " 2  2  2  2  2  2\n",
       " 1  1  2  2  1  1\n",
       " 2  2  1  1  1  1\n",
       " 2  2  1  1  1  1\n",
       " 2  2  2  1  1  2\n",
       " 2  2  1  1  1  1\n",
       " 1  1  1  1  1  1\n",
       " 2  2  2  2  2  2\n",
       " 2  1  1  1  1  1"
=======
       "40×26 Matrix{Int64}:\n",
       " 1  1  2  1  1  1  1  1  1  2  1  1  1  2  1  1  1  1  1  2  1  2  2  1  1  1\n",
       " 2  2  1  1  1  1  1  2  2  2  1  2  1  2  2  1  1  1  1  1  1  1  1  2  1  1\n",
       " 1  1  1  1  1  1  1  1  1  1  1  1  1  1  1  1  1  1  1  1  1  1  1  1  1  1\n",
       " 2  1  2  1  2  2  1  2  1  2  1  2  2  1  2  1  2  2  1  2  1  2  1  2  2  1\n",
       " 2  2  1  1  1  1  1  1  1  1  1  1  1  1  1  1  1  1  1  1  1  1  1  1  1  1\n",
       " 2  1  1  1  1  1  1  1  1  1  1  1  1  1  1  1  1  1  1  1  1  1  1  1  1  1\n",
       " 2  2  2  2  1  2  1  1  1  1  2  2  2  1  2  1  1  2  2  1  2  1  2  2  2  1\n",
       " 1  2  2  2  2  2  1  2  2  1  2  2  1  2  1  1  2  1  2  2  2  2  1  1  1  1\n",
       " 2  2  1  1  1  1  1  1  1  1  1  1  1  1  1  1  1  1  1  1  2  2  1  1  1  1\n",
       " 2  1  2  1  2  1  2  1  2  1  2  1  2  1  2  1  2  1  2  1  1  2  1  2  1  2\n",
       " 1  1  2  2  1  2  1  2  1  2  1  2  1  2  2  2  1  2  1  2  1  2  2  1  1  2\n",
       " 2  2  1  1  2  1  2  2  2  2  1  2  1  2  1  2  2  2  1  2  2  2  1  1  2  1\n",
       " 1  2  2  1  2  2  2  1  2  1  2  1  2  1  2  1  2  1  2  2  2  1  2  1  2  1\n",
       " ⋮              ⋮              ⋮              ⋮              ⋮              ⋮\n",
       " 2  2  2  2  2  2  2  2  2  2  2  2  2  2  2  2  2  1  1  1  2  1  2  1  1  1\n",
       " 1  1  1  1  1  1  1  1  1  1  1  1  1  1  1  1  1  1  1  1  1  1  1  1  1  1\n",
       " 1  2  2  2  2  2  2  2  2  2  2  2  2  2  2  2  2  1  2  2  2  2  2  1  1  2\n",
       " 2  2  2  2  1  2  2  2  2  2  2  2  1  1  1  1  1  1  1  1  1  1  1  1  2  2\n",
       " 2  1  1  1  1  1  1  1  1  1  1  1  1  1  1  1  1  1  1  1  1  1  1  1  1  1\n",
       " 1  2  2  2  2  2  2  2  2  2  2  1  2  2  2  2  2  2  2  2  2  2  2  1  1  2\n",
       " 1  2  2  1  2  1  2  2  1  2  1  2  1  2  1  2  1  2  2  1  2  1  2  2  2  1\n",
       " 1  1  1  1  1  1  1  1  1  1  1  1  2  1  1  1  1  1  1  1  1  1  1  1  1  1\n",
       " 1  2  1  1  1  1  1  2  2  1  1  1  1  1  1  1  1  1  1  1  2  2  2  2  2  2\n",
       " 2  1  1  1  1  1  1  1  1  2  1  1  1  1  1  1  1  1  1  1  1  1  1  2  1  1\n",
       " 1  1  1  1  1  1  1  1  1  1  1  1  1  1  1  1  1  1  1  1  1  1  1  1  1  1\n",
<<<<<<< HEAD
       " 1  1  1  1  1  2  1  1  1  2  2  2  2  2  2  2  2  2  2  2  2  1  1  1  1  1"
>>>>>>> 89aa3a4... Fixed errors
=======
       " 1  1  1  1  1  1  1  1  1  1  1  1  1  1  1  1  1  1  1  1  2  1  1  1  1  1"
>>>>>>> 714cf42... Fixed lambda derivative
      ]
     },
     "execution_count": 7,
=======
     "execution_count": 682,
>>>>>>> ba75e7c... Sped up computation of derivatives
     "metadata": {},
<<<<<<< HEAD
     "output_type": "display_data"
>>>>>>> c52a487... Add functions to compute derivatives
=======
     "output_type": "execute_result"
>>>>>>> 714cf42... Fixed lambda derivative
    }
   ],
   "source": [
    "X"
   ]
  },
  {
   "cell_type": "code",
<<<<<<< HEAD
<<<<<<< HEAD
<<<<<<< HEAD
   "execution_count": 178,
=======
   "execution_count": 6,
>>>>>>> c52a487... Add functions to compute derivatives
=======
   "execution_count": 8,
>>>>>>> 714cf42... Fixed lambda derivative
=======
   "execution_count": 683,
>>>>>>> ba75e7c... Sped up computation of derivatives
   "metadata": {},
   "outputs": [
    {
     "name": "stderr",
     "output_type": "stream",
     "text": [
<<<<<<< HEAD
<<<<<<< HEAD
<<<<<<< HEAD
<<<<<<< HEAD
      "\u001b[32mRunning MPBP: iter 2    Time: 0:00:11\u001b[39m\n",
      "\u001b[34m  Δ:                4.440892098500626e-16\u001b[39m\n",
      "\u001b[A4m  SVD Matrix size:  10\u001b[39m"
=======
      "\u001b[32mRunning MPBP: iter 2    Time: 0:00:50\u001b[39m\u001b[K"
>>>>>>> c52a487... Add functions to compute derivatives
=======
      "\u001b[32mRunning MPBP: iter 2    Time: 0:01:32\u001b[39m\u001b[K"
>>>>>>> 89aa3a4... Fixed errors
=======
      "\u001b[32mRunning MPBP: iter 2    Time: 0:01:40\u001b[39m\n",
      "\u001b[34m  Δ:                4.440892098500626e-16\u001b[39m\n",
      "\u001b[A4m  SVD Matrix size:  10\u001b[39m"
>>>>>>> 714cf42... Fixed lambda derivative
=======
      "\u001b[32mRunning MPBP: iter 2    Time: 0:00:00\u001b[39m\n",
      "\u001b[34m  Δ:                4.440892098500626e-16\u001b[39m\n",
      "\u001b[A4m  SVD Matrix size:  5\u001b[39m"
>>>>>>> ba75e7c... Sped up computation of derivatives
     ]
    }
   ],
   "source": [
    "reset_messages!(bp)\n",
    "reset_beliefs!(bp)\n",
    "svd_trunc = TruncBond(5)\n",
    "\n",
    "iters, = iterate!(bp, maxiter=5; svd_trunc, tol=1e-12);"
<<<<<<< HEAD
=======
    "iters, = iterate!(bp, maxiter=5; svd_trunc, tol=1e-12, damp=0.5);"
>>>>>>> c52a487... Add functions to compute derivatives
=======
>>>>>>> ba75e7c... Sped up computation of derivatives
   ]
  },
  {
   "cell_type": "code",
<<<<<<< HEAD
<<<<<<< HEAD
<<<<<<< HEAD
   "execution_count": 179,
=======
   "execution_count": 7,
>>>>>>> c52a487... Add functions to compute derivatives
=======
   "execution_count": 9,
>>>>>>> 714cf42... Fixed lambda derivative
=======
   "execution_count": 684,
>>>>>>> ba75e7c... Sped up computation of derivatives
   "metadata": {},
   "outputs": [
    {
     "data": {
      "text/plain": [
<<<<<<< HEAD
<<<<<<< HEAD
<<<<<<< HEAD
<<<<<<< HEAD
       "1.4919723988505225"
      ]
     },
     "execution_count": 179,
     "metadata": {},
     "output_type": "execute_result"
    }
   ],
   "source": [
    "obs_node = 4\n",
=======
       "2.4999999999999996"
=======
       "3.6195641682129613"
>>>>>>> 89aa3a4... Fixed errors
=======
       "+exp(-0.6931471805599454)"
>>>>>>> 714cf42... Fixed lambda derivative
      ]
     },
     "execution_count": 9,
=======
       "0.8240916189837758"
      ]
     },
     "execution_count": 684,
>>>>>>> ba75e7c... Sped up computation of derivatives
     "metadata": {},
     "output_type": "execute_result"
    }
   ],
   "source": [
<<<<<<< HEAD
    "obs_node = 6\n",
>>>>>>> c52a487... Add functions to compute derivatives
=======
    "obs_node = 1\n",
>>>>>>> ba75e7c... Sped up computation of derivatives
    "for t in eachindex(bp.w[obs_node])\n",
    "    bp.w[obs_node][t].ρ = ρ[obs_node]\n",
    "end\n",
    "\n",
    "der_mpbp = der_ρ(bp, obs_node, eltype(bp.w[obs_node]); svd_trunc)"
<<<<<<< HEAD
>>>>>>> c52a487... Add functions to compute derivatives
=======
>>>>>>> ba75e7c... Sped up computation of derivatives
   ]
  },
  {
   "cell_type": "code",
<<<<<<< HEAD
<<<<<<< HEAD
<<<<<<< HEAD
   "execution_count": 180,
=======
   "execution_count": 8,
>>>>>>> c52a487... Add functions to compute derivatives
=======
   "execution_count": 10,
>>>>>>> 714cf42... Fixed lambda derivative
=======
   "execution_count": 685,
>>>>>>> ba75e7c... Sped up computation of derivatives
   "metadata": {},
   "outputs": [
    {
     "data": {
      "text/plain": [
<<<<<<< HEAD
<<<<<<< HEAD
<<<<<<< HEAD
<<<<<<< HEAD
       "1.4919723900774784"
      ]
     },
     "execution_count": 180,
     "metadata": {},
     "output_type": "execute_result"
=======
       "2.499999761581421"
=======
       "3.6201171875"
>>>>>>> 89aa3a4... Fixed errors
=======
       "3.79296875"
>>>>>>> 714cf42... Fixed lambda derivative
      ]
     },
     "execution_count": 10,
=======
       "0.824091911315918"
      ]
     },
     "execution_count": 685,
>>>>>>> ba75e7c... Sped up computation of derivatives
     "metadata": {},
<<<<<<< HEAD
     "output_type": "display_data"
>>>>>>> c52a487... Add functions to compute derivatives
=======
     "output_type": "execute_result"
>>>>>>> 714cf42... Fixed lambda derivative
    }
   ],
   "source": [
<<<<<<< HEAD
    "ϵ = 1e-12\n",
=======
    "ϵ = 1e-8\n",
>>>>>>> ba75e7c... Sped up computation of derivatives
    "\n",
    "for i in vertices(g)\n",
<<<<<<< HEAD
    "    for t in eachindex(bp.w[i])\n",
<<<<<<< HEAD
<<<<<<< HEAD
    "        bp.w[i][t].ρ = ρ[i]\n",
=======
    "        bp.w[i][t].ρ = ρ[obs_node]\n",
>>>>>>> c52a487... Add functions to compute derivatives
    "    end\n",
=======
    "    bp.w[i][1].ρ = ρ[obs_node]\n",
>>>>>>> 89aa3a4... Fixed errors
=======
    "        bp.w[i][t].ρ = ρ[obs_node]\n",
    "    end\n",
>>>>>>> ba75e7c... Sped up computation of derivatives
    "end\n",
    "\n",
    "logzᵢ0 = onebpiter!(bp, obs_node, eltype(bp.w[obs_node]); svd_trunc)\n",
    "\n",
    "for t in eachindex(bp.w[obs_node])\n",
<<<<<<< HEAD
    "    bp.w[obs_node][t].ρ += ϵ\n",
=======
    "    bp.w[obs_node][t].ρ = ρ[obs_node] + ϵ\n",
>>>>>>> c52a487... Add functions to compute derivatives
    "end\n",
<<<<<<< HEAD
=======
    "bp.w[obs_node][1].ρ += ϵ\n",
>>>>>>> 89aa3a4... Fixed errors
    "\n",
    "logzᵢϵ = onebpiter!(bp, obs_node, eltype(bp.w[obs_node]); svd_trunc)\n",
    "\n",
<<<<<<< HEAD
    "der_num = (logzᵢϵ - logzᵢ0) / ϵ "
=======
    "der_num = logzᵢϵ/ϵ - logzᵢ0/ϵ "
>>>>>>> c52a487... Add functions to compute derivatives
=======
    "\n",
    "logzᵢϵ = onebpiter!(bp, obs_node, eltype(bp.w[obs_node]); svd_trunc)\n",
    "\n",
    "der_num = logzᵢϵ/ϵ - logzᵢ0/ϵ "
>>>>>>> ba75e7c... Sped up computation of derivatives
   ]
  }
 ],
 "metadata": {
  "kernelspec": {
<<<<<<< HEAD
<<<<<<< HEAD
   "display_name": "Julia 20 Threads 1.10.3",
   "language": "julia",
   "name": "julia-20-threads-1.10"
=======
   "display_name": "Julia 1.8.1",
   "language": "julia",
   "name": "julia-1.8"
>>>>>>> c52a487... Add functions to compute derivatives
=======
   "display_name": "Julia 20 Threads 1.10.3",
   "language": "julia",
   "name": "julia-20-threads-1.10"
>>>>>>> 714cf42... Fixed lambda derivative
  },
  "language_info": {
   "file_extension": ".jl",
   "mimetype": "application/julia",
   "name": "julia",
<<<<<<< HEAD
<<<<<<< HEAD
   "version": "1.10.3"
=======
   "version": "1.8.1"
>>>>>>> c52a487... Add functions to compute derivatives
=======
   "version": "1.10.3"
>>>>>>> 714cf42... Fixed lambda derivative
  }
 },
 "nbformat": 4,
 "nbformat_minor": 2
}
