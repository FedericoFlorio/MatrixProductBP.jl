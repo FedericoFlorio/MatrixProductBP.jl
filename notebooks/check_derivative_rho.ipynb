{
 "cells": [
  {
   "cell_type": "code",
   "execution_count": 1,
   "metadata": {},
   "outputs": [
    {
     "name": "stderr",
     "output_type": "stream",
     "text": [
      "\u001b[32m\u001b[1m  Activating\u001b[22m\u001b[39m project at `~/master_thesis`\n"
     ]
    }
   ],
   "source": [
    "using Pkg\n",
    "Pkg.activate(\"/home/fedflorio/master_thesis\")"
   ]
  },
  {
   "cell_type": "code",
   "execution_count": 2,
   "metadata": {},
   "outputs": [],
   "source": [
    "using Revise\n",
    "using MatrixProductBP, MatrixProductBP.Models\n",
    "using Graphs, Plots, Printf, IndexedGraphs, Statistics, Random\n",
    "import ProgressMeter; ProgressMeter.ijulia_behavior(:clear)\n",
    "using JLD2\n",
    "using TensorTrains: summary_compact\n",
    "using SparseArrays;"
   ]
  },
  {
   "cell_type": "code",
   "execution_count": 3,
   "metadata": {},
   "outputs": [],
   "source": [
    "T = 25\n",
    "N = 40\n",
    "seed = 2\n",
    "\n",
    "c = 2\n",
    "gg = erdos_renyi(N, c/N; seed)\n",
    "g = IndexedGraph(gg)\n",
    "\n",
    "λ_unif = 0.5\n",
    "ρ_unif = 0.2\n",
    "λ = zeros(N,N)\n",
    "for i in CartesianIndices(λ)\n",
    "    if !iszero(g.A[i])\n",
    "        λ[i] = rand()\n",
    "    end\n",
    "end\n",
    "λ = sparse(λ)\n",
    "ρ = rand(N)\n",
    "γ = 0.5\n",
    "\n",
    "# T = 3\n",
    "# N = 2\n",
    "# seed = 3\n",
    "\n",
    "# A = [0 1; 1 0]\n",
    "# g = IndexedGraph(A)\n",
    "\n",
    "# λ_unif = 0.5\n",
    "# ρ_unif = 0.6\n",
    "# λ = sparse(λ_unif .* A)\n",
    "# # λ = sparse([0 λ_unif; 0 0])\n",
    "# ρ = fill(ρ_unif, N)\n",
    "# γ = 0.5\n",
    "\n",
    "sis = SIS_heterogeneous(λ, ρ, T; γ);\n",
    "bp = mpbp(sis);"
   ]
  },
  {
   "cell_type": "code",
   "execution_count": 4,
   "metadata": {},
   "outputs": [
    {
     "data": {
      "text/plain": [
       "40×40 SparseMatrixCSC{Int64, Int64} with 70 stored entries:\n",
       "⎡⠀⠀⠀⠀⠀⠀⠁⠀⠀⠁⠀⠐⠀⠀⠂⠀⢀⡀⠀⠀⎤\n",
       "⎢⠀⠀⠀⠀⠀⡀⢀⠀⠀⠀⠄⠀⠀⠀⠀⠀⢀⠀⠀⠀⎥\n",
       "⎢⠀⠀⠀⠠⠀⠀⠀⠀⠠⠈⠒⡀⠀⢀⠄⠄⠈⠀⠀⠀⎥\n",
       "⎢⠁⠀⠀⠐⠀⠀⠄⠁⠀⠃⢈⠀⠀⠀⠀⠄⠀⠀⠀⠀⎥\n",
       "⎢⠄⠀⠀⠀⡀⠂⠤⠀⠀⠀⠀⠀⡀⠔⠀⠀⠀⠀⠄⠀⎥\n",
       "⎢⢀⠀⠀⠁⠘⠠⠂⠐⠀⠀⠀⠀⠀⠀⠀⠐⠀⠀⠈⠀⎥\n",
       "⎢⠀⠀⠀⠀⠀⢀⠀⠀⢀⠌⠀⠀⠀⠀⠀⠀⠀⡀⠀⠀⎥\n",
       "⎢⠈⠀⠀⠀⠀⠅⠀⠄⠀⠀⢀⠀⠀⠀⠀⠀⠀⠠⢀⠠⎥\n",
       "⎢⠀⠰⠀⠐⠂⠀⠀⠀⠀⠀⠀⠀⠀⠠⠀⡀⠀⠀⠀⠀⎥\n",
       "⎣⠀⠀⠀⠀⠀⠀⠀⠀⠀⠁⠂⠀⠀⠀⠀⡐⠀⠀⠀⠀⎦"
      ]
     },
     "execution_count": 4,
     "metadata": {},
     "output_type": "execute_result"
    }
   ],
   "source": [
    "g.A"
   ]
  },
  {
   "cell_type": "code",
   "execution_count": 5,
   "metadata": {},
   "outputs": [],
   "source": [
    "obs_times = collect(0:T)\n",
    "nobs = floor(Int, N * length(obs_times) * 1.0)\n",
    "obs_fraction = nobs / N\n",
    "rng = MersenneTwister(seed)\n",
    "X, observed = draw_node_observations!(bp, nobs, times = obs_times .+ 1, softinf=Inf; rng);"
   ]
  },
  {
   "cell_type": "code",
   "execution_count": 6,
   "metadata": {},
   "outputs": [
    {
     "data": {
      "text/plain": [
       "40×26 Matrix{Int64}:\n",
       " 1  1  2  1  1  1  1  1  1  2  1  1  1  2  1  1  2  1  2  1  2  1  2  1  2  1\n",
       " 2  2  1  1  1  1  1  2  1  2  1  2  1  2  2  1  1  1  1  1  1  1  1  1  1  1\n",
       " 1  1  1  1  1  1  1  1  1  1  1  1  1  1  1  1  1  1  1  1  1  1  1  1  1  1\n",
       " 2  2  2  1  1  1  1  1  1  1  2  2  2  1  2  2  2  2  2  2  2  2  2  1  2  1\n",
       " 2  2  2  2  2  2  2  2  2  2  2  2  2  2  2  2  2  2  1  1  1  1  1  1  1  1\n",
       " 2  2  2  2  2  2  2  2  2  2  2  2  2  2  2  2  2  2  2  2  2  2  2  2  2  2\n",
       " 2  1  2  1  1  2  1  1  1  1  1  1  1  1  1  1  1  1  1  1  1  1  1  1  1  1\n",
       " 1  2  1  1  2  1  2  2  1  1  2  2  1  2  1  2  1  2  1  2  1  2  1  2  1  2\n",
       " 2  2  1  1  2  1  2  1  1  2  2  2  1  1  1  2  1  2  1  1  2  1  1  2  1  2\n",
       " 2  2  2  2  2  2  2  2  2  2  2  2  2  2  2  2  2  2  2  2  2  2  2  2  2  2\n",
       " 1  1  1  2  2  1  2  1  2  2  2  2  1  2  2  2  2  2  2  2  2  2  2  2  1  1\n",
       " 2  2  1  1  1  1  2  2  2  2  2  2  2  2  2  2  2  2  1  2  2  2  2  2  2  1\n",
       " 1  2  2  2  2  2  2  1  2  1  2  2  1  2  2  2  1  2  1  2  2  2  1  2  1  2\n",
       " ⋮              ⋮              ⋮              ⋮              ⋮              ⋮\n",
       " 2  2  2  2  2  2  2  2  2  2  2  2  2  2  2  2  2  1  1  1  1  1  1  1  1  1\n",
       " 1  1  1  1  1  1  1  1  1  1  1  1  1  1  1  1  1  1  1  1  1  1  1  1  1  1\n",
       " 1  1  1  1  1  1  1  1  1  1  1  1  2  2  2  2  2  1  2  1  1  2  2  1  1  1\n",
       " 2  1  2  1  1  1  2  2  1  1  2  1  1  1  1  1  1  1  1  1  1  1  1  1  1  1\n",
       " 2  1  1  1  1  1  1  1  1  1  1  1  1  1  1  1  1  1  1  1  1  1  1  1  1  1\n",
       " 1  2  1  1  1  2  1  2  1  1  2  1  2  1  2  1  2  1  2  1  2  1  2  1  2  1\n",
       " 1  1  1  1  1  1  1  1  1  2  1  2  1  2  1  2  1  2  1  2  1  1  1  2  1  1\n",
       " 1  1  1  1  1  1  1  1  1  1  1  1  1  2  2  2  2  2  2  1  1  1  2  1  1  1\n",
       " 1  2  1  1  1  1  1  2  2  2  2  2  2  2  2  2  2  2  1  1  2  2  2  2  2  2\n",
       " 2  2  2  2  1  2  2  2  2  2  2  1  1  1  1  1  1  1  1  1  1  1  1  1  1  1\n",
       " 1  1  1  1  1  1  1  1  1  1  1  1  1  1  1  1  1  1  1  1  1  1  1  1  1  1\n",
       " 1  1  1  1  1  1  1  1  1  1  1  1  1  2  1  2  1  2  2  2  2  1  2  1  1  1"
      ]
     },
     "execution_count": 6,
     "metadata": {},
     "output_type": "execute_result"
    }
   ],
   "source": [
    "X"
   ]
  },
  {
   "cell_type": "code",
   "execution_count": 7,
   "metadata": {},
   "outputs": [
    {
     "name": "stderr",
     "output_type": "stream",
     "text": [
      "\u001b[32mRunning MPBP: iter 2    Time: 0:01:42\u001b[39m\n",
      "\u001b[34m  Δ:                6.661338147750939e-16\u001b[39m\n",
      "\u001b[A4m  SVD Matrix size:  10\u001b[39m"
     ]
    }
   ],
   "source": [
    "reset_messages!(bp)\n",
    "reset_beliefs!(bp)\n",
    "svd_trunc = TruncBond(10)\n",
    "\n",
    "iters, = iterate!(bp, maxiter=5; svd_trunc, tol=1e-12, damp=0.5);"
   ]
  },
  {
   "cell_type": "code",
   "execution_count": 8,
   "metadata": {},
   "outputs": [
    {
     "data": {
      "text/plain": [
       "-12.10614233160723"
      ]
     },
     "execution_count": 8,
     "metadata": {},
     "output_type": "execute_result"
    }
   ],
   "source": [
    "obs_node = 6\n",
    "for t in eachindex(bp.w[obs_node])\n",
    "    bp.w[obs_node][t].ρ = ρ[obs_node]\n",
    "end\n",
    "\n",
    "der_mpbp = der_ρ(bp, obs_node, eltype(bp.w[obs_node]); svd_trunc)"
   ]
  },
  {
   "cell_type": "code",
   "execution_count": 9,
   "metadata": {},
   "outputs": [
    {
     "data": {
      "text/plain": [
       "-1.001220703125"
      ]
     },
     "execution_count": 9,
     "metadata": {},
     "output_type": "execute_result"
    }
   ],
   "source": [
    "ϵ = 1e-12\n",
    "\n",
    "for i in vertices(g)\n",
    "    bp.w[i][1].ρ = ρ[obs_node]\n",
    "end\n",
    "\n",
    "logzᵢ0 = onebpiter!(bp, obs_node, eltype(bp.w[obs_node]); svd_trunc)\n",
    "\n",
    "bp.w[obs_node][1].ρ += ϵ\n",
    "\n",
    "logzᵢϵ = onebpiter!(bp, obs_node, eltype(bp.w[obs_node]); svd_trunc)\n",
    "\n",
    "der_num = logzᵢϵ/ϵ - logzᵢ0/ϵ "
   ]
  }
 ],
 "metadata": {
  "kernelspec": {
   "display_name": "Julia 20 Threads 1.10.3",
   "language": "julia",
   "name": "julia-20-threads-1.10"
  },
  "language_info": {
   "file_extension": ".jl",
   "mimetype": "application/julia",
   "name": "julia",
   "version": "1.10.3"
  }
 },
 "nbformat": 4,
 "nbformat_minor": 2
}
