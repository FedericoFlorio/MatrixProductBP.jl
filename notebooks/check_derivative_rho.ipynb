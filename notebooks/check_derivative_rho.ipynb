{
 "cells": [
  {
   "cell_type": "code",
<<<<<<< HEAD
   "execution_count": 172,
=======
   "execution_count": 2,
>>>>>>> 714cf42340275aaab7bc3b384f6d509690d40799
   "metadata": {},
   "outputs": [
    {
     "name": "stderr",
     "output_type": "stream",
     "text": [
      "\u001b[32m\u001b[1m  Activating\u001b[22m\u001b[39m project at `~/master_thesis`\n"
     ]
    }
   ],
   "source": [
    "using Pkg\n",
    "Pkg.activate(\"/home/fedflorio/master_thesis\")"
   ]
  },
  {
   "cell_type": "code",
<<<<<<< HEAD
   "execution_count": 173,
   "metadata": {},
   "outputs": [],
   "source": [
    "using Revise\n",
    "using MatrixProductBP, MatrixProductBP.Models\n",
    "using Graphs, Printf, IndexedGraphs, Statistics, Random\n",
=======
   "execution_count": 3,
   "metadata": {},
   "outputs": [
    {
     "name": "stderr",
     "output_type": "stream",
     "text": [
      "\u001b[32m\u001b[1mPrecompiling\u001b[22m\u001b[39m MatrixProductBP\n",
      "\u001b[32m  ✓ \u001b[39mMatrixProductBP\n",
      "  1 dependency successfully precompiled in 17 seconds. 119 already precompiled.\n"
     ]
    }
   ],
   "source": [
    "using Revise\n",
    "using MatrixProductBP, MatrixProductBP.Models\n",
    "using Graphs, Plots, Printf, IndexedGraphs, Statistics, Random\n",
>>>>>>> 714cf42340275aaab7bc3b384f6d509690d40799
    "import ProgressMeter; ProgressMeter.ijulia_behavior(:clear)\n",
    "using JLD2\n",
    "using TensorTrains: summary_compact\n",
    "using SparseArrays;"
   ]
  },
  {
   "cell_type": "code",
<<<<<<< HEAD
   "execution_count": 174,
   "metadata": {},
   "outputs": [],
   "source": [
    "T = 20\n",
    "N = 30\n",
=======
   "execution_count": 4,
   "metadata": {},
   "outputs": [],
   "source": [
    "T = 25\n",
    "N = 40\n",
>>>>>>> 714cf42340275aaab7bc3b384f6d509690d40799
    "seed = 2\n",
    "\n",
    "c = 2\n",
    "gg = erdos_renyi(N, c/N; seed)\n",
    "g = IndexedGraph(gg)\n",
    "\n",
    "λ_unif = 0.5\n",
    "ρ_unif = 0.2\n",
    "λ = zeros(N,N)\n",
    "for i in CartesianIndices(λ)\n",
    "    if !iszero(g.A[i])\n",
    "        λ[i] = rand()\n",
    "    end\n",
    "end\n",
    "λ = sparse(λ)\n",
    "ρ = rand(N)\n",
    "γ = 0.5\n",
    "\n",
    "# T = 3\n",
    "# N = 2\n",
    "# seed = 3\n",
    "\n",
    "# A = [0 1; 1 0]\n",
    "# g = IndexedGraph(A)\n",
    "\n",
    "# λ_unif = 0.5\n",
    "# ρ_unif = 0.6\n",
    "# λ = sparse(λ_unif .* A)\n",
    "# # λ = sparse([0 λ_unif; 0 0])\n",
    "# ρ = fill(ρ_unif, N)\n",
    "# γ = 0.5\n",
    "\n",
    "sis = SIS_heterogeneous(λ, ρ, T; γ);\n",
    "bp = mpbp(sis);"
   ]
  },
  {
   "cell_type": "code",
<<<<<<< HEAD
   "execution_count": 175,
=======
   "execution_count": 5,
>>>>>>> 714cf42340275aaab7bc3b384f6d509690d40799
   "metadata": {},
   "outputs": [
    {
     "data": {
      "text/plain": [
<<<<<<< HEAD
       "30×30 SparseMatrixCSC{Int64, Int64} with 52 stored entries:\n",
       "⎡⠀⠀⠀⠀⠈⠀⠈⠀⠈⠀⠈⠀⠠⠀⠀⎤\n",
       "⎢⠀⠀⢀⠐⠐⠀⢀⠬⠀⠀⢀⠀⠠⠀⠀⎥\n",
       "⎢⠂⠀⠐⠀⠠⠂⠰⠀⠈⠀⠁⡀⠀⠀⠀⎥\n",
       "⎢⠂⠀⡀⡔⠐⠂⠀⠀⠀⠄⠁⠀⠀⢐⠀⎥\n",
       "⎢⠂⠀⠀⠀⠂⠀⠀⠄⠀⠀⠀⠈⠀⠀⠀⎥\n",
       "⎢⠂⠀⠀⠐⠁⠠⠁⠀⡀⠀⠀⠀⠀⠄⡀⎥\n",
       "⎢⠀⠂⠀⠂⠀⠀⢀⢀⠀⠀⠀⠄⠀⠀⠀⎥\n",
       "⎣⠀⠀⠀⠀⠀⠀⠀⠀⠀⠀⠀⠈⠀⠀⠀⎦"
      ]
     },
     "execution_count": 175,
=======
       "40×40 SparseMatrixCSC{Int64, Int64} with 70 stored entries:\n",
       "⎡⠀⠀⠀⠀⠀⠀⠁⠀⠀⠁⠀⠐⠀⠀⠂⠀⢀⡀⠀⠀⎤\n",
       "⎢⠀⠀⠀⠀⠀⡀⢀⠀⠀⠀⠄⠀⠀⠀⠀⠀⢀⠀⠀⠀⎥\n",
       "⎢⠀⠀⠀⠠⠀⠀⠀⠀⠠⠈⠒⡀⠀⢀⠄⠄⠈⠀⠀⠀⎥\n",
       "⎢⠁⠀⠀⠐⠀⠀⠄⠁⠀⠃⢈⠀⠀⠀⠀⠄⠀⠀⠀⠀⎥\n",
       "⎢⠄⠀⠀⠀⡀⠂⠤⠀⠀⠀⠀⠀⡀⠔⠀⠀⠀⠀⠄⠀⎥\n",
       "⎢⢀⠀⠀⠁⠘⠠⠂⠐⠀⠀⠀⠀⠀⠀⠀⠐⠀⠀⠈⠀⎥\n",
       "⎢⠀⠀⠀⠀⠀⢀⠀⠀⢀⠌⠀⠀⠀⠀⠀⠀⠀⡀⠀⠀⎥\n",
       "⎢⠈⠀⠀⠀⠀⠅⠀⠄⠀⠀⢀⠀⠀⠀⠀⠀⠀⠠⢀⠠⎥\n",
       "⎢⠀⠰⠀⠐⠂⠀⠀⠀⠀⠀⠀⠀⠀⠠⠀⡀⠀⠀⠀⠀⎥\n",
       "⎣⠀⠀⠀⠀⠀⠀⠀⠀⠀⠁⠂⠀⠀⠀⠀⡐⠀⠀⠀⠀⎦"
      ]
     },
     "execution_count": 5,
>>>>>>> 714cf42340275aaab7bc3b384f6d509690d40799
     "metadata": {},
     "output_type": "execute_result"
    }
   ],
   "source": [
    "g.A"
   ]
  },
  {
   "cell_type": "code",
<<<<<<< HEAD
   "execution_count": 176,
=======
   "execution_count": 6,
>>>>>>> 714cf42340275aaab7bc3b384f6d509690d40799
   "metadata": {},
   "outputs": [],
   "source": [
    "obs_times = collect(0:T)\n",
    "nobs = floor(Int, N * length(obs_times) * 1.0)\n",
    "obs_fraction = nobs / N\n",
    "rng = MersenneTwister(seed)\n",
    "X, observed = draw_node_observations!(bp, nobs, times = obs_times .+ 1, softinf=Inf; rng);"
   ]
  },
  {
   "cell_type": "code",
<<<<<<< HEAD
   "execution_count": 177,
=======
   "execution_count": 7,
>>>>>>> 714cf42340275aaab7bc3b384f6d509690d40799
   "metadata": {},
   "outputs": [
    {
     "data": {
      "text/plain": [
<<<<<<< HEAD
       "30×21 Matrix{Int64}:\n",
       " 1  2  1  1  2  1  2  1  2  1  2  1  2  1  2  1  2  1  2  1  2\n",
       " 2  2  1  1  1  1  1  1  1  1  1  1  1  1  1  1  1  1  1  1  1\n",
       " 1  2  1  2  2  2  2  2  2  2  2  2  2  1  1  1  1  2  2  2  2\n",
       " 2  1  1  1  1  1  1  1  1  1  1  1  1  1  1  1  1  1  1  1  1\n",
       " 2  2  2  2  2  1  2  2  2  1  2  1  2  2  2  2  2  2  2  2  1\n",
       " 2  1  1  1  1  2  1  1  2  1  1  1  2  1  2  1  2  2  2  1  1\n",
       " 2  1  1  2  2  2  1  2  2  1  2  2  1  1  2  2  2  2  2  2  2\n",
       " 1  2  2  2  2  2  2  2  2  2  2  2  2  2  2  2  2  2  2  2  2\n",
       " 2  2  2  2  1  2  2  2  2  2  2  2  2  2  2  2  2  2  2  2  2\n",
       " 2  1  2  2  2  2  2  2  2  2  2  2  2  2  2  2  2  2  2  2  2\n",
       " 1  1  1  2  2  2  2  2  2  1  1  2  2  2  2  2  2  2  2  2  2\n",
       " 2  2  1  1  1  1  1  1  1  1  1  1  1  1  1  1  1  1  1  1  1\n",
       " 1  1  1  1  1  1  1  1  1  1  1  1  1  1  1  1  1  1  1  1  2\n",
       " ⋮              ⋮              ⋮              ⋮              ⋮\n",
       " 2  2  1  2  1  2  1  1  1  1  1  1  1  2  1  1  1  1  1  2  2\n",
       " 1  1  1  1  1  1  1  1  1  1  1  1  1  1  1  1  1  1  1  1  1\n",
       " 1  1  1  1  1  1  1  1  2  1  1  1  1  1  1  1  1  2  2  2  2\n",
       " 1  1  1  2  2  2  2  2  2  2  2  2  1  2  2  2  2  2  2  2  1\n",
       " 2  1  1  1  1  1  1  1  1  1  1  1  1  1  1  1  1  1  1  1  1\n",
       " 1  2  2  2  2  2  2  2  2  2  2  2  2  2  2  1  1  1  1  1  1\n",
       " 1  1  1  1  1  1  1  1  1  1  1  1  1  1  1  1  1  1  1  1  1\n",
       " 2  1  2  1  2  1  2  1  2  2  1  2  1  2  1  1  2  1  2  1  2\n",
       " 1  1  1  1  1  1  1  1  1  1  1  1  1  1  1  1  1  1  1  1  1\n",
       " 1  2  2  2  2  2  2  2  2  2  2  2  2  1  2  1  2  2  1  2  2\n",
       " 2  2  2  2  2  2  1  1  1  1  1  2  2  1  2  1  1  1  1  1  1\n",
       " 1  1  1  1  1  1  1  1  1  1  1  1  1  1  1  1  1  1  1  1  1"
      ]
     },
     "execution_count": 177,
=======
       "40×26 Matrix{Int64}:\n",
       " 1  1  2  1  1  1  1  1  1  2  1  1  1  2  1  1  1  1  1  2  1  2  2  1  1  1\n",
       " 2  2  1  1  1  1  1  2  2  2  1  2  1  2  2  1  1  1  1  1  1  1  1  2  1  1\n",
       " 1  1  1  1  1  1  1  1  1  1  1  1  1  1  1  1  1  1  1  1  1  1  1  1  1  1\n",
       " 2  1  2  1  2  2  1  2  1  2  1  2  2  1  2  1  2  2  1  2  1  2  1  2  2  1\n",
       " 2  2  1  1  1  1  1  1  1  1  1  1  1  1  1  1  1  1  1  1  1  1  1  1  1  1\n",
       " 2  1  1  1  1  1  1  1  1  1  1  1  1  1  1  1  1  1  1  1  1  1  1  1  1  1\n",
       " 2  2  2  2  1  2  1  1  1  1  2  2  2  1  2  1  1  2  2  1  2  1  2  2  2  1\n",
       " 1  2  2  2  2  2  1  2  2  1  2  2  1  2  1  1  2  1  2  2  2  2  1  1  1  1\n",
       " 2  2  1  1  1  1  1  1  1  1  1  1  1  1  1  1  1  1  1  1  2  2  1  1  1  1\n",
       " 2  1  2  1  2  1  2  1  2  1  2  1  2  1  2  1  2  1  2  1  1  2  1  2  1  2\n",
       " 1  1  2  2  1  2  1  2  1  2  1  2  1  2  2  2  1  2  1  2  1  2  2  1  1  2\n",
       " 2  2  1  1  2  1  2  2  2  2  1  2  1  2  1  2  2  2  1  2  2  2  1  1  2  1\n",
       " 1  2  2  1  2  2  2  1  2  1  2  1  2  1  2  1  2  1  2  2  2  1  2  1  2  1\n",
       " ⋮              ⋮              ⋮              ⋮              ⋮              ⋮\n",
       " 2  2  2  2  2  2  2  2  2  2  2  2  2  2  2  2  2  1  1  1  2  1  2  1  1  1\n",
       " 1  1  1  1  1  1  1  1  1  1  1  1  1  1  1  1  1  1  1  1  1  1  1  1  1  1\n",
       " 1  2  2  2  2  2  2  2  2  2  2  2  2  2  2  2  2  1  2  2  2  2  2  1  1  2\n",
       " 2  2  2  2  1  2  2  2  2  2  2  2  1  1  1  1  1  1  1  1  1  1  1  1  2  2\n",
       " 2  1  1  1  1  1  1  1  1  1  1  1  1  1  1  1  1  1  1  1  1  1  1  1  1  1\n",
       " 1  2  2  2  2  2  2  2  2  2  2  1  2  2  2  2  2  2  2  2  2  2  2  1  1  2\n",
       " 1  2  2  1  2  1  2  2  1  2  1  2  1  2  1  2  1  2  2  1  2  1  2  2  2  1\n",
       " 1  1  1  1  1  1  1  1  1  1  1  1  2  1  1  1  1  1  1  1  1  1  1  1  1  1\n",
       " 1  2  1  1  1  1  1  2  2  1  1  1  1  1  1  1  1  1  1  1  2  2  2  2  2  2\n",
       " 2  1  1  1  1  1  1  1  1  2  1  1  1  1  1  1  1  1  1  1  1  1  1  2  1  1\n",
       " 1  1  1  1  1  1  1  1  1  1  1  1  1  1  1  1  1  1  1  1  1  1  1  1  1  1\n",
       " 1  1  1  1  1  1  1  1  1  1  1  1  1  1  1  1  1  1  1  1  2  1  1  1  1  1"
      ]
     },
     "execution_count": 7,
>>>>>>> 714cf42340275aaab7bc3b384f6d509690d40799
     "metadata": {},
     "output_type": "execute_result"
    }
   ],
   "source": [
    "X"
   ]
  },
  {
   "cell_type": "code",
<<<<<<< HEAD
   "execution_count": 178,
=======
   "execution_count": 8,
>>>>>>> 714cf42340275aaab7bc3b384f6d509690d40799
   "metadata": {},
   "outputs": [
    {
     "name": "stderr",
     "output_type": "stream",
     "text": [
<<<<<<< HEAD
      "\u001b[32mRunning MPBP: iter 2    Time: 0:00:11\u001b[39m\n",
=======
      "\u001b[32mRunning MPBP: iter 2    Time: 0:01:40\u001b[39m\n",
>>>>>>> 714cf42340275aaab7bc3b384f6d509690d40799
      "\u001b[34m  Δ:                4.440892098500626e-16\u001b[39m\n",
      "\u001b[A4m  SVD Matrix size:  10\u001b[39m"
     ]
    }
   ],
   "source": [
    "reset_messages!(bp)\n",
    "reset_beliefs!(bp)\n",
    "svd_trunc = TruncBond(10)\n",
    "\n",
<<<<<<< HEAD
    "iters, = iterate!(bp, maxiter=5; svd_trunc, tol=1e-12);"
=======
    "iters, = iterate!(bp, maxiter=5; svd_trunc, tol=1e-12, damp=0.5);"
>>>>>>> 714cf42340275aaab7bc3b384f6d509690d40799
   ]
  },
  {
   "cell_type": "code",
<<<<<<< HEAD
   "execution_count": 179,
=======
   "execution_count": 9,
>>>>>>> 714cf42340275aaab7bc3b384f6d509690d40799
   "metadata": {},
   "outputs": [
    {
     "data": {
      "text/plain": [
<<<<<<< HEAD
       "1.4919723988505225"
      ]
     },
     "execution_count": 179,
=======
       "+exp(-0.6931471805599454)"
      ]
     },
     "execution_count": 9,
>>>>>>> 714cf42340275aaab7bc3b384f6d509690d40799
     "metadata": {},
     "output_type": "execute_result"
    }
   ],
   "source": [
<<<<<<< HEAD
    "obs_node = 4\n",
=======
    "obs_node = 6\n",
>>>>>>> 714cf42340275aaab7bc3b384f6d509690d40799
    "for t in eachindex(bp.w[obs_node])\n",
    "    bp.w[obs_node][t].ρ = ρ[obs_node]\n",
    "end\n",
    "\n",
<<<<<<< HEAD
    "der_mpbp = float(der_ρ(bp, obs_node, eltype(bp.w[obs_node]); svd_trunc))"
=======
    "der_mpbp = der_ρ(bp, obs_node, eltype(bp.w[obs_node]); svd_trunc)"
>>>>>>> 714cf42340275aaab7bc3b384f6d509690d40799
   ]
  },
  {
   "cell_type": "code",
<<<<<<< HEAD
   "execution_count": 180,
=======
   "execution_count": 10,
>>>>>>> 714cf42340275aaab7bc3b384f6d509690d40799
   "metadata": {},
   "outputs": [
    {
     "data": {
      "text/plain": [
<<<<<<< HEAD
       "1.4919723900774784"
      ]
     },
     "execution_count": 180,
=======
       "3.79296875"
      ]
     },
     "execution_count": 10,
>>>>>>> 714cf42340275aaab7bc3b384f6d509690d40799
     "metadata": {},
     "output_type": "execute_result"
    }
   ],
   "source": [
<<<<<<< HEAD
    "ϵ = 1e-8\n",
    "\n",
    "for i in vertices(g)\n",
    "    for t in eachindex(bp.w[i])\n",
    "        bp.w[i][t].ρ = ρ[i]\n",
    "    end\n",
=======
    "ϵ = 1e-12\n",
    "\n",
    "for i in vertices(g)\n",
    "    bp.w[i][1].ρ = ρ[obs_node]\n",
>>>>>>> 714cf42340275aaab7bc3b384f6d509690d40799
    "end\n",
    "\n",
    "logzᵢ0 = onebpiter!(bp, obs_node, eltype(bp.w[obs_node]); svd_trunc)\n",
    "\n",
<<<<<<< HEAD
    "for t in eachindex(bp.w[obs_node])\n",
    "    bp.w[obs_node][t].ρ += ϵ\n",
    "end\n",
    "\n",
    "logzᵢϵ = onebpiter!(bp, obs_node, eltype(bp.w[obs_node]); svd_trunc)\n",
    "\n",
    "der_num = (logzᵢϵ - logzᵢ0) / ϵ "
=======
    "bp.w[obs_node][1].ρ += ϵ\n",
    "\n",
    "logzᵢϵ = onebpiter!(bp, obs_node, eltype(bp.w[obs_node]); svd_trunc)\n",
    "\n",
    "der_num = logzᵢϵ/ϵ - logzᵢ0/ϵ "
>>>>>>> 714cf42340275aaab7bc3b384f6d509690d40799
   ]
  }
 ],
 "metadata": {
  "kernelspec": {
   "display_name": "Julia 20 Threads 1.10.3",
   "language": "julia",
   "name": "julia-20-threads-1.10"
  },
  "language_info": {
   "file_extension": ".jl",
   "mimetype": "application/julia",
   "name": "julia",
   "version": "1.10.3"
  }
 },
 "nbformat": 4,
 "nbformat_minor": 2
}
