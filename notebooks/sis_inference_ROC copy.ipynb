{
 "cells": [
  {
   "cell_type": "code",
   "execution_count": 57,
   "metadata": {},
   "outputs": [
    {
     "name": "stderr",
     "output_type": "stream",
     "text": [
      "\u001b[32m\u001b[1m  Activating\u001b[22m\u001b[39m project at `~/master_thesis`\n"
     ]
    }
   ],
   "source": [
    "using Pkg\n",
    "Pkg.activate(\"/home/fedflorio/master_thesis/\")"
   ]
  },
  {
   "cell_type": "code",
   "execution_count": 58,
   "metadata": {},
   "outputs": [],
   "source": [
    "using Revise\n",
    "using MatrixProductBP, MatrixProductBP.Models\n",
    "using Graphs, IndexedGraphs, Statistics, Random, LinearAlgebra, PyPlot\n",
    "import ProgressMeter; ProgressMeter.ijulia_behavior(:clear)\n",
    "using TensorTrains: summary_compact\n",
    "using SparseArrays\n",
    "include(\"/home/fedflorio/master_thesis/Utilities/roc.jl\");"
   ]
  },
  {
   "cell_type": "code",
   "execution_count": 59,
   "metadata": {},
   "outputs": [],
   "source": [
    "T = 100\n",
    "N = 10\n",
    "seed = 4\n",
    "\n",
    "c = 2\n",
    "gg = erdos_renyi(N, c/N; seed)\n",
    "g = IndexedGraph(gg)\n",
    "\n",
    "λ_unif = 0.4\n",
    "ρ_unif = 0.3\n",
    "λ = zeros(N,N)\n",
    "for i in CartesianIndices(λ)\n",
    "    if !iszero(g.A[i])\n",
    "        # λ[i] = rand()\n",
    "        λ[i] = λ_unif\n",
    "    end\n",
    "end\n",
    "λ = sparse(λ)\n",
    "# ρ = rand(N)\n",
    "ρ = fill(ρ_unif,N)\n",
    "γ = 0.5;\n",
    "\n",
    "# T = 7\n",
    "# N = 2\n",
    "# seed = 6\n",
    "\n",
    "# A = [0 1; 1 0]\n",
    "# g = IndexedGraph(A)\n",
    "\n",
    "# λ_unif = 0.7\n",
    "# ρ_unif = 0.6\n",
    "# λ = sparse(λ_unif .* A)\n",
    "# # λ = sparse([0 1e-12; λ_unif 0])\n",
    "# ρ = fill(ρ_unif, N)\n",
    "# γ = 0.5;\n",
    ";"
   ]
  },
  {
   "cell_type": "code",
   "execution_count": 60,
   "metadata": {},
   "outputs": [],
   "source": [
    "sis = SIS_heterogeneous(λ, ρ, T; γ);\n",
    "bp_obs = mpbp(sis);"
   ]
  },
  {
   "cell_type": "code",
   "execution_count": 61,
   "metadata": {},
   "outputs": [
    {
     "data": {
      "text/plain": [
       "10×10 SparseMatrixCSC{Int64, Int64} with 30 stored entries:\n",
       "  ⋅  ⋅   1  2  4   5   ⋅   ⋅   ⋅  14\n",
       "  ⋅  ⋅   ⋅  ⋅  ⋅   ⋅   ⋅   ⋅   9   ⋅\n",
       "  1  ⋅   ⋅  3  ⋅   ⋅   6   ⋅  10   ⋅\n",
       "  2  ⋅   3  ⋅  ⋅   ⋅   7   ⋅   ⋅   ⋅\n",
       "  4  ⋅   ⋅  ⋅  ⋅   ⋅   ⋅   ⋅   ⋅   ⋅\n",
       "  5  ⋅   ⋅  ⋅  ⋅   ⋅   8   ⋅  11   ⋅\n",
       "  ⋅  ⋅   6  7  ⋅   8   ⋅   ⋅  12   ⋅\n",
       "  ⋅  ⋅   ⋅  ⋅  ⋅   ⋅   ⋅   ⋅  13   ⋅\n",
       "  ⋅  9  10  ⋅  ⋅  11  12  13   ⋅  15\n",
       " 14  ⋅   ⋅  ⋅  ⋅   ⋅   ⋅   ⋅  15   ⋅"
      ]
     },
     "execution_count": 61,
     "metadata": {},
     "output_type": "execute_result"
    }
   ],
   "source": [
    "g.A"
   ]
  },
  {
   "cell_type": "code",
   "execution_count": 62,
   "metadata": {},
   "outputs": [],
   "source": [
    "obs_times = collect(0:T)\n",
    "nobs = floor(Int, N * length(obs_times) * 1.0)\n",
    "obs_fraction = nobs / N\n",
    "rng = MersenneTwister(seed)\n",
    "X, observed = draw_node_observations!(bp_obs, nobs, times = obs_times .+ 1, softinf=Inf; rng);"
   ]
  },
  {
   "cell_type": "code",
   "execution_count": 63,
   "metadata": {},
   "outputs": [
    {
     "data": {
      "text/plain": [
       "10×101 Matrix{Int64}:\n",
       " 2  2  1  1  2  2  2  2  2  2  2  1  1  …  2  1  2  2  2  1  2  2  1  2  2  1\n",
       " 2  2  2  1  2  2  1  2  2  2  1  1  1     1  2  2  1  1  2  2  2  1  1  1  1\n",
       " 2  2  2  1  2  2  2  2  2  2  2  2  1     1  1  2  2  1  2  1  1  2  2  2  2\n",
       " 2  2  1  2  2  2  2  2  1  2  1  2  2     2  2  2  2  2  2  1  2  2  2  1  2\n",
       " 2  2  2  2  2  2  2  2  2  2  1  2  1     1  2  1  1  2  2  2  2  2  2  1  1\n",
       " 2  2  2  2  2  2  1  2  1  2  2  2  2  …  2  2  1  1  2  2  2  2  1  1  1  1\n",
       " 1  2  2  2  2  2  2  2  2  2  2  2  2     2  1  2  2  2  2  2  2  2  2  1  2\n",
       " 2  2  2  2  2  2  2  2  2  2  2  2  2     2  2  1  1  1  1  2  1  1  1  1  1\n",
       " 1  2  2  2  2  1  2  2  1  2  1  2  2     2  2  1  1  2  2  2  1  1  1  2  2\n",
       " 2  2  2  1  2  1  2  1  2  1  2  2  1     2  1  1  1  1  2  2  2  1  1  1  2"
      ]
     },
     "execution_count": 63,
     "metadata": {},
     "output_type": "execute_result"
    }
   ],
   "source": [
    "X"
   ]
  },
  {
   "cell_type": "code",
   "execution_count": 64,
   "metadata": {},
   "outputs": [],
   "source": [
    "λinit = 0.1\n",
    "ρinit = 0.1\n",
    "\n",
    "A_complete = ones(N,N) - I\n",
    "g_complete = IndexedGraph(A_complete)\n",
    "λ_complete = sparse(λinit.*A_complete)\n",
    "ρ_complete = fill(ρinit, N)\n",
    "\n",
    "sis_inf = SIS_heterogeneous(g_complete, λ_complete, ρ_complete, T; γ, ϕ=deepcopy(bp_obs.ϕ))\n",
    "bp_inf = mpbp(sis_inf);"
   ]
  },
  {
   "cell_type": "code",
   "execution_count": 65,
   "metadata": {},
   "outputs": [
    {
     "name": "stderr",
     "output_type": "stream",
     "text": [
      "\r\u001b[32mRunning Gradient Ascent: iter 3    Time: 0:01:17\u001b[39m\r\n",
      "\u001b[34m  Δ:              0.9142625\u001b[39m\r\n",
      "\u001b[34m  SVD tolerance:  1.0e-6\u001b[39m\r\u001b[A\r\u001b[A"
     ]
    }
   ],
   "source": [
    "svd_trunc = TruncBond(5)\n",
    "\n",
    "iters, cb = inference_parameters!(bp_inf, method=21, maxiter=100, λstep=0.01, ρstep=0.01, logpriorder=(x)->-0.1);\n",
    "# iters, = iterate!(bp_inf, maxiter=100; svd_trunc, tol=1e-6, damp=0.0);"
   ]
  },
  {
   "cell_type": "code",
   "execution_count": null,
   "metadata": {},
   "outputs": [
    {
     "ename": "",
     "evalue": "",
     "output_type": "error",
     "traceback": [
      "\u001b[1;31mJupyter cannot be started. Error attempting to locate Jupyter: Select an Interpreter to start Jupyter\n",
      "\u001b[1;31mRun the following command to install 'jupyter and notebook' into the Python environment. \n",
      "\u001b[1;31mCommand: 'python -m pip install jupyter notebook -U\n",
      "\u001b[1;31mor\n",
      "\u001b[1;31mconda install jupyter notebook -U'\n",
      "\u001b[1;31mClick <a href='https://aka.ms/installJupyterForVSCode'>here</a> for more info."
     ]
    }
   ],
   "source": [
    "auc = zeros(0)\n",
    "for data in cb.data\n",
    "    push!(auc, roccurve(data.λ, λ)[3])\n",
    "    println(auc[end])\n",
    "end"
   ]
  },
  {
   "cell_type": "code",
   "execution_count": 71,
   "metadata": {},
   "outputs": [
    {
     "name": "stdout",
     "output_type": "stream",
     "text": [
      "-688.7763161251312\n",
      "-692.8230923241928\n",
      "-704.840649655034\n",
      "-703.9028701060348\n",
      "-699.4790613744331\n",
      "-689.8712915851231\n",
      "-699.874166212256\n",
      "-683.365174834019\n",
      "-688.3972655395593\n",
      "-703.857113668422\n",
      "-702.8455407047987\n",
      "-693.9842069486893\n",
      "-700.8978684304407\n",
      "-695.9637391896194\n",
      "-684.3085813536931\n",
      "-682.8371800863624\n",
      "-683.9954680024927\n",
      "-692.6465616000311\n",
      "-674.6369239454182\n",
      "-694.7952243959892\n",
      "-692.2576847267775\n",
      "-673.628246745915\n",
      "-673.4850922079515\n",
      "-681.7080019524614\n",
      "-691.9057308714613\n",
      "-689.9222752226065\n",
      "-688.535965557884\n",
      "-689.8257770613757\n",
      "-689.7794410543638\n",
      "-689.7372113377289\n",
      "-693.2848180645483\n",
      "-672.120165970788\n",
      "-691.2885579848444\n",
      "-690.5855133788243\n",
      "-687.8396074604184\n",
      "-689.5239772964011\n",
      "-691.0315139625991\n",
      "-692.4018556405888\n",
      "-689.4275698046521\n",
      "-689.3962146492769\n",
      "-687.3851528881679\n",
      "-680.9440773379971\n",
      "-683.001015954076\n",
      "-690.121592340032\n",
      "-687.1297932304373\n",
      "-682.9355272300295\n",
      "-689.1866713941821\n",
      "-669.7243516939291\n",
      "-669.5693108411087\n",
      "-689.0962380336306\n",
      "-669.2973362271811\n",
      "-688.3210003682212\n",
      "-688.2834516613559\n",
      "-682.8741427359697\n",
      "-682.8340075495689\n",
      "-686.5588289036644\n",
      "-682.7407754799249\n",
      "-668.3722403807277\n",
      "-689.753968610967\n",
      "-668.0694770946694\n",
      "-690.3377848253623\n",
      "-688.6821839542546\n",
      "-690.16101009936\n",
      "-687.9984683800095\n",
      "-682.5152341404882\n",
      "-689.5818934947438\n",
      "-682.2886692193\n",
      "-690.041433474558\n",
      "-690.0257222232359\n",
      "-682.1620201779019\n",
      "-666.597049901132\n",
      "-687.8653906530064\n",
      "-687.8627762820068\n",
      "-682.3234326833712\n",
      "-666.030523325463\n",
      "-682.2839311478118\n",
      "-688.172182105488\n",
      "-689.8977498859265\n",
      "-679.6451707315916\n",
      "-687.7606294653577\n",
      "-682.1899686431868\n",
      "-689.8328281312762\n",
      "-689.813783322162\n",
      "-689.8026914963741\n",
      "-687.7150399927631\n",
      "-684.9715681620855\n",
      "-679.4343719899083\n",
      "-687.6996831641064\n",
      "-682.0840402245466\n",
      "-684.8147874103805\n",
      "-689.7189756092719\n",
      "-684.72377752455\n",
      "-679.2854773903111\n",
      "-679.2648379204733\n",
      "-679.2419426112871\n",
      "-682.0369623873469\n",
      "-662.9827135715951\n",
      "-684.4977020623345\n",
      "-689.535157130107\n",
      "-680.9710459511182\n"
     ]
    }
   ],
   "source": [
    "for logz in cb.logz\n",
    "    println(logz)\n",
    "end"
   ]
  },
  {
   "cell_type": "code",
   "execution_count": null,
   "metadata": {},
   "outputs": [
    {
     "data": {
      "image/png": "[encoded data removed]",
      "text/plain": [
       "Figure(PyObject <Figure size 640x480 with 1 Axes>)"
      ]
     },
     "metadata": {},
     "output_type": "display_data"
    }
   ],
   "source": [
    "xplot, yplot, auc = roccurve(cb.data[end].λ, λ)\n",
    "@show auc\n",
    "\n",
    "close(\"all\")\n",
    "plot(xplot,yplot);"
   ]
  }
 ],
 "metadata": {
  "kernelspec": {
   "display_name": "Julia 20 Threads 1.10.3",
   "language": "julia",
   "name": "julia-20-threads-1.10"
  },
  "language_info": {
   "file_extension": ".jl",
   "mimetype": "application/julia",
   "name": "julia",
   "version": "1.10.3"
  }
 },
 "nbformat": 4,
 "nbformat_minor": 2
}
