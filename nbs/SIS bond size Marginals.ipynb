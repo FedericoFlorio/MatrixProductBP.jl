{
 "cells": [
  {
   "cell_type": "markdown",
   "metadata": {},
   "source": [
    "Compare BP marginals with montecarlo"
   ]
  },
  {
   "cell_type": "code",
   "execution_count": 6,
   "metadata": {},
   "outputs": [],
   "source": [
    "using Graphs\n",
    "using Plots\n",
    "using Printf\n",
    "include(\"../sis.jl\")\n",
    "include(\"../inference/inference.jl\")\n",
    "include(\"../bp_fast.jl\")\n",
    "import ProgressMeter; ProgressMeter.ijulia_behavior(:clear);"
   ]
  },
  {
   "cell_type": "code",
   "execution_count": 21,
   "metadata": {},
   "outputs": [],
   "source": [
    "q = q_sis\n",
    "T = 5\n",
    "N = 16\n",
    "k = 4\n",
    "gg = random_regular_graph(N, k)\n",
    "t = SimpleGraph(prim_mst(gg))\n",
    "g = IndexedGraph(t)\n",
    "@assert !is_cyclic(g)\n",
    "# g = IndexedGraph(gg)\n",
    "λ = 0.2\n",
    "κ = 0.1\n",
    "γ = 3/N\n",
    "nobs = N÷2;"
   ]
  },
  {
   "cell_type": "code",
   "execution_count": 22,
   "metadata": {},
   "outputs": [],
   "source": [
    "# sis = SIS(g, λ, κ, T; γ)\n",
    "# bp = mpdbp(deepcopy(sis), d=1)\n",
    "# cb = CB_BP(bp)\n",
    "# x = draw_node_observations!(bp, nobs; last_time=true, softinf=1e2)\n",
    "# ns = 10^7\n",
    "# sms = sample(bp, ns)\n",
    "# b_mc = marginals(sms)\n",
    "# p_mc = [[bbb[2] for bbb in bb] for bb in b_mc];"
   ]
  },
  {
   "cell_type": "code",
   "execution_count": 23,
   "metadata": {},
   "outputs": [
    {
     "data": {
      "text/plain": [
       "kl_marginals_bp_bondsize (generic function with 1 method)"
      ]
     },
     "execution_count": 23,
     "metadata": {},
     "output_type": "execute_result"
    }
   ],
   "source": [
    "function kl_marginals_bp_bondsize(T::Integer, N::Integer, k::Integer, λ::Real, κ::Real, γ::Real, \n",
    "        nobs::Integer, bonddims::AbstractVector{Int}; \n",
    "        ns_mc = 5*10^6, require_convergence=true, maxiter=100, tol=1e-3, kw...)\n",
    "    b_bp = [Vector{Vector{Float64}}[] for _ in bonddims]\n",
    "    \n",
    "    gg = random_regular_graph(N, k)\n",
    "    t = SimpleGraph(prim_mst(gg))\n",
    "    g = IndexedGraph(t)\n",
    "    @assert !is_cyclic(g)\n",
    "    \n",
    "    sis = SIS(g, λ, κ, T; γ)\n",
    "    bp = mpdbp(deepcopy(sis), d=1)\n",
    "    cb = CB_BP(bp)\n",
    "    x = draw_node_observations!(bp, nobs; last_time=true, softinf=1e2)\n",
    "    sms = sample(bp, ns_mc)\n",
    "    b_mc_ = marginals(sms)\n",
    "    b_mc = [[getproperty.(p, :val) for p in bi] for bi in b_mc_]\n",
    "    \n",
    "    for j in eachindex(bonddims)\n",
    "        svd_trunc = TruncBond(bonddims[j])\n",
    "        reset_messages!(bp)\n",
    "        cb = CB_BP(bp; showprogress=false)\n",
    "        iters, ε = iterate!(bp; maxiter, svd_trunc, cb, tol)\n",
    "        if require_convergence\n",
    "            iters == maxiter && error(\"BP did not converge\")\n",
    "        end\n",
    "        b_bp[j] = beliefs(bp)\n",
    "    end\n",
    "    kls = [kl_marginals(b, b_mc) for b in b_bp]\n",
    "end"
   ]
  },
  {
   "cell_type": "code",
   "execution_count": 32,
   "metadata": {},
   "outputs": [],
   "source": [
    "bonddims = 2:6;"
   ]
  },
  {
   "cell_type": "code",
   "execution_count": 33,
   "metadata": {},
   "outputs": [],
   "source": [
    "kls_bp = Vector{Vector{Float64}}[];"
   ]
  },
  {
   "cell_type": "code",
   "execution_count": null,
   "metadata": {
    "scrolled": true
   },
   "outputs": [
    {
     "name": "stdout",
     "output_type": "stream",
     "text": [
      "### instance 1 of 300\n"
     ]
    },
    {
     "name": "stderr",
     "output_type": "stream",
     "text": [
      "\u001b[32mSoftMargin sampling...   2%|▌                            |  ETA: 0:01:52\u001b[39m"
     ]
    }
   ],
   "source": [
    "ninstances = 300\n",
    "for n in 1:ninstances\n",
    "    println(\"### instance $n of $ninstances\")\n",
    "    kl_ = kl_marginals_bp_bondsize(T, N, k, λ, κ, γ, nobs, bonddims, ns_mc=10^6)\n",
    "    push!(kls_bp, kl_)\n",
    "    flush(stdout)\n",
    "end"
   ]
  },
  {
   "cell_type": "code",
   "execution_count": null,
   "metadata": {},
   "outputs": [],
   "source": [
    "kls_bp_avg = map(eachindex(bonddims)) do i\n",
    "    mean([a[i] for a in kls_bp])\n",
    "end\n",
    "kls_bp_std = map(eachindex(bonddims)) do i\n",
    "    std([a[i] for a in kls_bp]) ./ sqrt(length(kls_bp))\n",
    "end; "
   ]
  },
  {
   "cell_type": "code",
   "execution_count": null,
   "metadata": {},
   "outputs": [],
   "source": [
    "println(\"SIS with: P(S→I)=λ=$λ, P(I→S)=κ=$κ. P(zero patient)=γ=$γ\")\n",
    "println(\"Random regular N=$N, k=$k. T=$T, $nobs random observations from the prior at final time\")\n",
    "println(\"Average over \", length(kls_bp), \" random instances.\")\n",
    "using ColorSchemes\n",
    "cg = cgrad(:matter, length(bonddims), categorical=true) |> reverse\n",
    "pl = plot(xlabel=\"time\", ylabel=\"KL\", xticks=0:T, legend=:bottomright)\n",
    "for i in eachindex(bonddims)\n",
    "    plot!(pl, 0:T, kls_bp_avg[i], ribbon=kls_bp_std[i], c=cg[i],\n",
    "        label=\"matrix size = $(bonddims[i])\", m=:o)\n",
    "end\n",
    "plot(pl, title=\"KL between BP and true (montecarlo) marginals\", titlefontsize=10)"
   ]
  },
  {
   "cell_type": "code",
   "execution_count": null,
   "metadata": {},
   "outputs": [],
   "source": []
  }
 ],
 "metadata": {
  "kernelspec": {
   "display_name": "Julia 1.8.0",
   "language": "julia",
   "name": "julia-1.8"
  },
  "language_info": {
   "file_extension": ".jl",
   "mimetype": "application/julia",
   "name": "julia",
   "version": "1.8.0"
  }
 },
 "nbformat": 4,
 "nbformat_minor": 4
}
