{
 "cells": [
  {
   "cell_type": "code",
   "execution_count": 9,
   "metadata": {},
   "outputs": [],
   "source": [
    "using Graphs\n",
    "using Plots\n",
    "using LinearAlgebra\n",
    "using Statistics\n",
    "include(\"../sis.jl\")\n",
    "include(\"../mpdbp.jl\")\n",
    "include(\"../exact/montecarlo.jl\")\n",
    "include(\"../glauber.jl\")\n",
    "import ProgressMeter; ProgressMeter.ijulia_behavior(:clear);"
   ]
  },
  {
   "cell_type": "code",
   "execution_count": 2,
   "metadata": {},
   "outputs": [],
   "source": [
    "q = q_sis\n",
    "T = 30\n",
    "N = 12\n",
    "k = 3\n",
    "gg = random_regular_graph(N, k)\n",
    "g = IndexedGraph(gg)\n",
    "λ = 0.15\n",
    "κ = 0.16\n",
    "p⁰ = map(1:N) do i\n",
    "    r = 0.95\n",
    "    [r, 1-r]\n",
    "end\n",
    "ϕ = [[ones(2) for t in 1:T] for i in 1:N]\n",
    "\n",
    "# throw random observations\n",
    "nobs = 10\n",
    "its = rand(collect(Iterators.product(1:N, 1:T)), nobs)\n",
    "for (i, t) in its\n",
    "    r = rand()\n",
    "    ϕ[i][t] .= [r, 1-r]\n",
    "end\n",
    "\n",
    "sis = SIS(g, λ, κ, p⁰, ϕ);"
   ]
  },
  {
   "cell_type": "code",
   "execution_count": 10,
   "metadata": {},
   "outputs": [],
   "source": [
    "bp = mpdbp(sis, d=1)\n",
    "cb = CB_BP(bp);"
   ]
  },
  {
   "cell_type": "code",
   "execution_count": null,
   "metadata": {},
   "outputs": [
    {
     "name": "stderr",
     "output_type": "stream",
     "text": [
      "\r",
      "\u001b[32mRunning MPdBP: iter 66 \t Time: 0:14:55\u001b[39m\r\n",
      "\u001b[34m  Δ:  0.0018469925315740543\u001b[39m"
     ]
    }
   ],
   "source": [
    "svd_trunc = TruncThresh(1e-2)\n",
    "svd_trunc = TruncBond(7)\n",
    "iters, cb = iterate!(bp, maxiter=100; svd_trunc, cb, tol=1e-3);"
   ]
  },
  {
   "cell_type": "code",
   "execution_count": null,
   "metadata": {},
   "outputs": [],
   "source": [
    "pl_err = plot(cb.Δs, ylabel=\"convergence error\", xlabel=\"iters\", m=:o, yaxis=:log10, \n",
    "    size=(300,200), label=\"\")"
   ]
  },
  {
   "cell_type": "code",
   "execution_count": null,
   "metadata": {},
   "outputs": [],
   "source": [
    "b_bp = beliefs(bp; svd_trunc)\n",
    "p_bp = [[bbb[2] for bbb in bb] for bb in b_bp];"
   ]
  },
  {
   "cell_type": "code",
   "execution_count": null,
   "metadata": {},
   "outputs": [],
   "source": [
    "ns = 10^5\n",
    "sms = sample(bp, ns)\n",
    "b_mc = marginals(sms)\n",
    "p_mc = [[bbb[2] for bbb in bb] for bb in b_mc];"
   ]
  },
  {
   "cell_type": "code",
   "execution_count": null,
   "metadata": {},
   "outputs": [],
   "source": [
    "pl_mc = plot(xlabel=\"time\", ylabel=\"\\$P(x_i=I)\\$\", xticks=0:5:T, title=\"Monte Carlo $ns samples\")\n",
    "for i in 1:N\n",
    "    plot!(pl_mc, 0:T, p_mc[i], label=\"i=$i\", m=:o, ms=3, lw=1)\n",
    "end\n",
    "pl_bp = plot(xlabel=\"time\", ylabel=\"\\$P(x_i=I)\\$\", xticks=0:5:T, title=\"MPdBP\")\n",
    "for i in 1:N\n",
    "    plot!(pl_bp, 0:T, p_bp[i], label=\"i=$i\", m=:o, ms=3, lw=1)\n",
    "end\n",
    "pl_sc = scatter(reduce(vcat, p_bp), reduce(vcat, p_mc), xlabel=\"MPdBP\", ylabel=\"MonteCarlo\", \n",
    "    label=\"\\$P(x_i=I)\\$\", ms=3, c=:black, legend=:outertopright)\n",
    "plot!(identity, label=\"\", size=(300,300))\n",
    "println(\"SIS on random regular graph N=$N, k=$k. P(S→I)=$λ, P(I→S)=$κ.\")\n",
    "println(\"$nobs random observations\")\n",
    "println(\"Max matrix size: \", svd_trunc.mprime, \"x\", svd_trunc.mprime)\n",
    "plot(pl_mc, pl_bp, pl_sc, titlefontsize=10, size=(950, 300), legend=:outertopright, \n",
    "    margin=5Plots.mm, layout=(1,3))"
   ]
  },
  {
   "cell_type": "code",
   "execution_count": null,
   "metadata": {},
   "outputs": [],
   "source": []
  }
 ],
 "metadata": {
  "kernelspec": {
   "display_name": "Julia 1.8.0",
   "language": "julia",
   "name": "julia-1.8"
  },
  "language_info": {
   "file_extension": ".jl",
   "mimetype": "application/julia",
   "name": "julia",
   "version": "1.8.0"
  }
 },
 "nbformat": 4,
 "nbformat_minor": 4
}
