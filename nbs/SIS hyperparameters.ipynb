{
 "cells": [
  {
   "cell_type": "code",
   "execution_count": 1,
   "metadata": {},
   "outputs": [],
   "source": [
    "using Graphs\n",
    "using Plots\n",
    "using Base.Threads\n",
    "using Random\n",
    "include(\"../mpdbp.jl\")\n",
    "include(\"../inference/zero_patient.jl\")\n",
    "include(\"../bp_fast.jl\")\n",
    "import ProgressMeter; ProgressMeter.ijulia_behavior(:clear);"
   ]
  },
  {
   "cell_type": "code",
   "execution_count": 63,
   "metadata": {},
   "outputs": [],
   "source": [
    "T = 20\n",
    "N = 50\n",
    "k = 4\n",
    "gg = random_regular_graph(N, k)\n",
    "g = IndexedGraph(gg)\n",
    "t = SimpleGraph(prim_mst(gg))\n",
    "g = IndexedGraph(t)\n",
    "λ_true = 0.3\n",
    "κ_true = 0.2\n",
    "γ = 3/N\n",
    "p⁰ = map(1:N) do i\n",
    "    [1-γ, γ]\n",
    "end;"
   ]
  },
  {
   "cell_type": "code",
   "execution_count": 64,
   "metadata": {},
   "outputs": [],
   "source": [
    "sis_true = SIS(g, λ_true, κ_true, T; p⁰)\n",
    "X, _ = onesample(mpdbp(sis_true));"
   ]
  },
  {
   "cell_type": "code",
   "execution_count": 65,
   "metadata": {},
   "outputs": [],
   "source": [
    "lambdas = 0.01:0.01:0.5\n",
    "kappas = 0.01:0.01:0.5\n",
    "f = fill!(lambdas*kappas', 0);"
   ]
  },
  {
   "cell_type": "code",
   "execution_count": 66,
   "metadata": {},
   "outputs": [],
   "source": [
    "# λ = λ_true\n",
    "# κ = κ_true\n",
    "# bp = mpdbp(SIS(g, λ, κ, T; p⁰))\n",
    "# rng = MersenneTwister(0)\n",
    "# x = draw_node_observations!(bp.ϕ, X, (T)*N; rng, softinf=1e2)\n",
    "# iterate!(bp; maxiter=100, tol=1e-3, showprogress=false)"
   ]
  },
  {
   "cell_type": "code",
   "execution_count": 67,
   "metadata": {},
   "outputs": [
    {
     "data": {
      "text/plain": [
       "100"
      ]
     },
     "execution_count": 67,
     "metadata": {},
     "output_type": "execute_result"
    }
   ],
   "source": [
    "nobs = (T*N) ÷ 10"
   ]
  },
  {
   "cell_type": "code",
   "execution_count": null,
   "metadata": {
    "scrolled": true
   },
   "outputs": [
    {
     "name": "stdout",
     "output_type": "stream",
     "text": [
      "## λ 1 of 50\n",
      "## λ 2 of 50\n",
      "## λ 3 of 50\n",
      "## λ 4 of 50\n",
      "## λ 5 of 50\n",
      "## λ 6 of 50\n",
      "## λ 7 of 50\n",
      "## λ 8 of 50\n",
      "## λ 9 of 50\n",
      "## λ 10 of 50\n",
      "## λ 11 of 50\n",
      "## λ 12 of 50\n",
      "## λ 13 of 50\n",
      "## λ 14 of 50\n",
      "## λ 15 of 50\n",
      "## λ 16 of 50\n",
      "## λ 17 of 50\n",
      "## λ 18 of 50\n",
      "## λ 19 of 50\n",
      "## λ 20 of 50\n",
      "## λ 21 of 50\n",
      "## λ 22 of 50\n",
      "## λ 23 of 50\n",
      "## λ 24 of 50\n",
      "## λ 25 of 50\n",
      "## λ 26 of 50\n",
      "## λ 27 of 50\n",
      "## λ 28 of 50\n",
      "## λ 29 of 50\n",
      "## λ 30 of 50\n"
     ]
    }
   ],
   "source": [
    "for (i,λ) in enumerate(lambdas)\n",
    "    println(\"## λ $i of \", length(lambdas))\n",
    "    @threads for j in eachindex(kappas)\n",
    "        κ = kappas[j]\n",
    "        bp = mpdbp(SIS(g, λ, κ, T; p⁰))\n",
    "        rng = MersenneTwister(0)\n",
    "        draw_node_observations!(bp.ϕ, X, nobs; rng)\n",
    "        iterate!(bp; maxiter=100, tol=1e-3, showprogress=false)\n",
    "        f[i,j] = bethe_free_energy(bp)\n",
    "    end\n",
    "end"
   ]
  },
  {
   "cell_type": "code",
   "execution_count": null,
   "metadata": {},
   "outputs": [],
   "source": [
    "heatmap(lambdas, kappas, exp.(-f)',title=\"likelihood of hyperparameters\", xlabel=\"λ\", ylabel=\"κ\")\n",
    "scatter!([λ_true], [κ_true], m=:plus, label=\"\", c=:white, msw=4, ms=6)"
   ]
  },
  {
   "cell_type": "code",
   "execution_count": null,
   "metadata": {},
   "outputs": [],
   "source": []
  }
 ],
 "metadata": {
  "kernelspec": {
   "display_name": "Julia 1.8.0",
   "language": "julia",
   "name": "julia-1.8"
  },
  "language_info": {
   "file_extension": ".jl",
   "mimetype": "application/julia",
   "name": "julia",
   "version": "1.8.0"
  }
 },
 "nbformat": 4,
 "nbformat_minor": 4
}
