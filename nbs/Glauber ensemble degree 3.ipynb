{
 "cells": [
  {
   "cell_type": "code",
   "execution_count": 2,
   "metadata": {},
   "outputs": [],
   "source": [
    "using Plots\n",
    "include(\"../ensemble.jl\")\n",
    "include(\"../exact/random_regular.jl\")\n",
    "include(\"../exact/montecarlo.jl\")\n",
    "import ProgressMeter; ProgressMeter.ijulia_behavior(:append);"
   ]
  },
  {
   "cell_type": "markdown",
   "metadata": {},
   "source": [
    "## β=1.0\n",
    "This is above the ferromagnetic transition @ $β=\\tanh^{-1}\\left(\\frac{1}{J(k-1)}\\right)\\approx 0.5$"
   ]
  },
  {
   "cell_type": "code",
   "execution_count": 7,
   "metadata": {},
   "outputs": [],
   "source": [
    "β = 1.0\n",
    "T = 20     # final time\n",
    "ε = 1e-4  # truncation error for svd   \n",
    "pᵢ⁰ = [0.75, 0.25]   # initial condition: magnetization = +0.5\n",
    "ϕᵢ = [ones(2) for _ in 1:T]   # observations (none)\n",
    "wᵢ = fill( GlauberFactor(ones(3), 0.0, β), T )   # transition probabilities: J=1, h=0\n",
    "\n",
    "A = mpem2(2, T, d=1)   # initialize with bonds of dimension d\n",
    "Δs = zeros(0);"
   ]
  },
  {
   "cell_type": "markdown",
   "metadata": {},
   "source": [
    "Run on infinite 3-regular graph"
   ]
  },
  {
   "cell_type": "code",
   "execution_count": 8,
   "metadata": {},
   "outputs": [
    {
     "name": "stdout",
     "output_type": "stream",
     "text": [
      "\n",
      "### iter 1 of 100\n",
      "Δ: 0.5000000000000002 / 0.001\n",
      "bonds:\t[2, 2, 2, 2, 2, 2, 2, 2, 2, 2, 2, 2, 2, 2, 2, 2, 2, 2, 2, 2]\n",
      "\n",
      "\n",
      "### iter 2 of 100\n",
      "Δ: 0.43916222741062433 / 0.001\n",
      "bonds:\t[4, 4, 4, 4, 4, 4, 4, 4, 4, 4, 4, 4, 4, 4, 4, 4, 4, 4, 4, 2]\n",
      "\n",
      "\n",
      "### iter 3 of 100\n",
      "Δ: 0.3503271014150907 / 0.001\n",
      "bonds:\t[4, 12, 15, 16, 16, 16, 16, 16, 17, 17, 17, 17, 17, 17, 17, 17, 17, 17, 6, 2]\n",
      "\n",
      "\n",
      "### iter 4 of 100\n",
      "Δ: 0.27972080110806474 / 0.001\n",
      "bonds:\t[4, 14, 22, 26, 27, 27, 29, 30, 31, 31, 32, 32, 33, 33, 33, 32, 27, 18, 6, 2]\n",
      "\n",
      "\n",
      "### iter 5 of 100\n",
      "Δ: 0.2437405119970199 / 0.001\n",
      "bonds:\t[4, 14, 25, 30, 31, 33, 36, 37, 37, 37, 39, 38, 39, 40, 39, 37, 28, 17, 6, 2]\n",
      "\n",
      "\n",
      "### iter 6 of 100\n",
      "Δ: 0.22278356541893402 / 0.001\n",
      "bonds:\t[4, 13, 23, 28, 30, 31, 31, 32, 33, 36, 36, 36, 37, 36, 35, 33, 25, 16, 6, 2]\n",
      "\n",
      "\n",
      "### iter 7 of 100\n",
      "Δ: 0.17715009417164151 / 0.001\n",
      "bonds:\t[4, 12, 22, 26, 27, 29, 29, 29, 29, 30, 30, 31, 30, 31, 30, 28, 22, 15, 6, 2]\n",
      "\n",
      "\n",
      "### iter 8 of 100\n",
      "Δ: 0.11468140024507356 / 0.001\n",
      "bonds:\t[4, 13, 20, 24, 25, 25, 25, 25, 25, 25, 25, 25, 25, 24, 24, 22, 19, 14, 6, 2]\n",
      "\n",
      "\n",
      "### iter 9 of 100\n",
      "Δ: 0.06647497874463792 / 0.001\n",
      "bonds:\t[4, 13, 19, 22, 24, 23, 24, 23, 23, 22, 23, 22, 22, 20, 20, 19, 16, 11, 6, 2]\n",
      "\n",
      "\n",
      "### iter 10 of 100\n",
      "Δ: 0.03309254370852677 / 0.001\n",
      "bonds:\t[4, 13, 19, 22, 23, 23, 22, 22, 22, 20, 20, 20, 20, 19, 18, 18, 14, 10, 6, 2]\n",
      "\n",
      "\n",
      "### iter 11 of 100\n",
      "Δ: 0.016807699351393812 / 0.001\n",
      "bonds:\t[4, 13, 20, 22, 23, 23, 21, 20, 22, 18, 20, 18, 19, 17, 15, 15, 12, 10, 5, 2]\n",
      "\n",
      "\n",
      "### iter 12 of 100\n",
      "Δ: 0.008570406914280682 / 0.001\n",
      "bonds:\t[4, 13, 20, 22, 23, 23, 21, 20, 20, 18, 18, 17, 16, 15, 15, 14, 12, 8, 5, 2]\n",
      "\n",
      "\n",
      "### iter 13 of 100\n",
      "Δ: 0.004277298607240243 / 0.001\n",
      "bonds:\t[4, 13, 20, 22, 23, 22, 21, 20, 19, 18, 18, 17, 14, 15, 14, 13, 11, 8, 5, 2]\n",
      "\n",
      "\n",
      "### iter 14 of 100\n",
      "Δ: 0.002066676924313393 / 0.001\n",
      "bonds:\t[4, 13, 20, 22, 23, 22, 21, 20, 19, 18, 18, 17, 14, 14, 14, 13, 11, 8, 5, 2]\n",
      "\n",
      "\n",
      "### iter 15 of 100\n",
      "Δ: 0.0010426559996612461 / 0.001\n",
      "bonds:\t[4, 13, 20, 22, 23, 22, 21, 20, 19, 18, 18, 17, 14, 14, 14, 13, 10, 8, 5, 2]\n",
      "\n",
      "\n",
      "### iter 16 of 100\n",
      "Δ: 0.00042298860438205743 / 0.001\n",
      "bonds:\t[4, 13, 20, 22, 23, 22, 21, 20, 19, 18, 18, 17, 14, 14, 14, 13, 10, 8, 5, 2]\n",
      "\n"
     ]
    }
   ],
   "source": [
    "A, iters, Δs = iterate_rs_deg3(A, pᵢ⁰, wᵢ, ϕᵢ; ε, maxiter=100, tol=1e-3, Δs, verbose=true, showprogress=false);"
   ]
  },
  {
   "cell_type": "code",
   "execution_count": null,
   "metadata": {},
   "outputs": [
    {
     "name": "stderr",
     "output_type": "stream",
     "text": [
      "\u001b[32mComputing belief  11%|███▋                               |  ETA: 0:03:01\u001b[39m\n",
      "\u001b[A4m  t:  2/20\u001b[39m\n",
      "\u001b[32mComputing belief  16%|█████▌                             |  ETA: 0:10:28\u001b[39m\n",
      "\u001b[A4m  t:  3/20\u001b[39m\n",
      "\u001b[32mComputing belief  21%|███████▍                           |  ETA: 0:17:27\u001b[39m\n",
      "\u001b[A4m  t:  4/20\u001b[39m\n",
      "\u001b[32mComputing belief  26%|█████████▎                         |  ETA: 0:19:14\u001b[39m\n",
      "\u001b[A4m  t:  5/20\u001b[39m\n",
      "\u001b[32mComputing belief  32%|███████████                        |  ETA: 0:18:24\u001b[39m\n",
      "\u001b[A4m  t:  6/20\u001b[39m\n",
      "\u001b[32mComputing belief  37%|████████████▉                      |  ETA: 0:16:56\u001b[39m\n",
      "\u001b[A4m  t:  7/20\u001b[39m\n",
      "\u001b[32mComputing belief  42%|██████████████▊                    |  ETA: 0:14:53\u001b[39m\n",
      "\u001b[A4m  t:  8/20\u001b[39m\n",
      "\u001b[32mComputing belief  47%|████████████████▋                  |  ETA: 0:12:47\u001b[39m\n",
      "\u001b[A4m  t:  9/20\u001b[39m\n",
      "\u001b[32mComputing belief  53%|██████████████████▍                |  ETA: 0:10:52\u001b[39m\n",
      "\u001b[A4m  t:  10/20\u001b[39m\n",
      "\u001b[32mComputing belief  58%|████████████████████▎              |  ETA: 0:09:08\u001b[39m\n",
      "\u001b[A4m  t:  11/20\u001b[39m\n",
      "\u001b[32mComputing belief  63%|██████████████████████▏            |  ETA: 0:07:27\u001b[39m\n",
      "\u001b[A4m  t:  12/20\u001b[39m\n",
      "\u001b[32mComputing belief  68%|████████████████████████           |  ETA: 0:05:57\u001b[39m\n",
      "\u001b[A4m  t:  13/20\u001b[39m\n",
      "\u001b[32mComputing belief  74%|█████████████████████████▊         |  ETA: 0:04:39\u001b[39m\n",
      "\u001b[A4m  t:  14/20\u001b[39m\n",
      "\u001b[32mComputing belief  79%|███████████████████████████▋       |  ETA: 0:03:30\u001b[39m\n",
      "\u001b[A4m  t:  15/20\u001b[39m\n",
      "\u001b[32mComputing belief  84%|█████████████████████████████▌     |  ETA: 0:02:28\u001b[39m\n",
      "\u001b[A4m  t:  16/20\u001b[39m\n",
      "\u001b[32mComputing belief 100%|███████████████████████████████████| Time: 0:13:09\u001b[39m\n",
      "\u001b[34m  t:  19/20\u001b[39m\n",
      "\u001b[32mConverting B to C  10%|███▍                              |  ETA: 0:00:27\u001b[39m\n",
      "\u001b[A4m  t:  2/20\u001b[39m\n",
      "\u001b[32mConverting B to C  15%|█████▏                            |  ETA: 0:05:39\u001b[39m\n",
      "\u001b[A4m  t:  3/20\u001b[39m\n",
      "\u001b[32mConverting B to C  20%|██████▊                           |  ETA: 0:29:29\u001b[39m\n",
      "\u001b[A4m  t:  4/20\u001b[39m"
     ]
    }
   ],
   "source": [
    "mag = magnetization_rs_deg3(A, pᵢ⁰, wᵢ, ϕᵢ; ε);"
   ]
  },
  {
   "cell_type": "markdown",
   "metadata": {},
   "source": [
    "Compute RS equilibrium prediction"
   ]
  },
  {
   "cell_type": "code",
   "execution_count": null,
   "metadata": {},
   "outputs": [],
   "source": [
    "k = 3\n",
    "J = 1.0\n",
    "m_eq = rs_magnetization_fixedpoints(β, J, k) "
   ]
  },
  {
   "cell_type": "code",
   "execution_count": null,
   "metadata": {
    "scrolled": false
   },
   "outputs": [],
   "source": [
    "p1 = plot(0:T, mag, title=\"T=$T, β=$β, ε=$ε\", xlabel=\"time\", label=\"MPdBP\",\n",
    "    ylabel=\"magnetiz\", m=:o, titlefontsize=12, xticks=0:2:T)\n",
    "hline!(p1, [m_eq[3]], ls=:dash, label=\"RS @equilibrium\", legend=:bottomright)\n",
    "p2 = plot(Δs, xlabel=\"time\", ylabel=\"convergence error\", \n",
    "    m=:o, label=\"\", yaxis=:log10)\n",
    "p3 = plot(p1, p2, layout=(2,1), size=(500,500))"
   ]
  },
  {
   "cell_type": "markdown",
   "metadata": {},
   "source": [
    "As it should be:"
   ]
  },
  {
   "attachments": {
    "image.png": {
     "image/png": "[encoded data removed]"
    }
   },
   "cell_type": "markdown",
   "metadata": {},
   "source": [
    "![image.png](attachment:image.png)"
   ]
  }
 ],
 "metadata": {
  "kernelspec": {
   "display_name": "Julia 1.8.0",
   "language": "julia",
   "name": "julia-1.8"
  },
  "language_info": {
   "file_extension": ".jl",
   "mimetype": "application/julia",
   "name": "julia",
   "version": "1.8.0"
  }
 },
 "nbformat": 4,
 "nbformat_minor": 4
}
