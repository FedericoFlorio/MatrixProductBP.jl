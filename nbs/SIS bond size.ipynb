{
 "cells": [
  {
   "cell_type": "code",
   "execution_count": 1,
   "metadata": {},
   "outputs": [],
   "source": [
    "using Graphs\n",
    "using Plots\n",
    "using LinearAlgebra\n",
    "include(\"../inference/zero_patient.jl\")\n",
    "import ProgressMeter; ProgressMeter.ijulia_behavior(:clear);"
   ]
  },
  {
   "cell_type": "code",
   "execution_count": 2,
   "metadata": {},
   "outputs": [],
   "source": [
    "q = q_sis\n",
    "T = 5\n",
    "N = 10\n",
    "k = 3\n",
    "gg = random_regular_graph(N, k)\n",
    "g = IndexedGraph(gg)\n",
    "λ = 0.1\n",
    "κ = 0.08\n",
    "γ = 3/N\n",
    "p⁰ = map(1:N) do i\n",
    "    [1-γ, γ]\n",
    "end;"
   ]
  },
  {
   "cell_type": "code",
   "execution_count": 3,
   "metadata": {},
   "outputs": [
    {
     "data": {
      "text/plain": [
       "sis_zp (generic function with 1 method)"
      ]
     },
     "execution_count": 3,
     "metadata": {},
     "output_type": "execute_result"
    }
   ],
   "source": [
    "function sis_zp(T::Integer, N::Integer, λ::Real, κ::Real, γ::Real,\n",
    "        nobs::Integer; trunc_dim=2)\n",
    "    gg = random_regular_graph(N, 3)\n",
    "    g = IndexedGraph(gg)\n",
    "    p⁰ = fill([1-γ, γ], N)\n",
    "    sis = SIS(g, λ, κ, T; p⁰)\n",
    "    X, bp = simulate_sis(g, λ, κ, p⁰, T, nobs)\n",
    "    true_zp = findall(isequal(I), X[:,1]) \n",
    "    svd_trunc = TruncBond(trunc_dim)\n",
    "    id_bp, b⁰_bp = find_zero_patients_bp(bp; svd_trunc)\n",
    "    auc_bp = round(auc(id_bp, true_zp), digits=4)\n",
    "end"
   ]
  },
  {
   "cell_type": "code",
   "execution_count": 16,
   "metadata": {},
   "outputs": [],
   "source": [
    "ProgressMeter.ijulia_behavior(:append)\n",
    "bondsizes = [2, 4, 6, 8, 10]\n",
    "aucs_bp = [zeros(0) for _ in bondsizes];"
   ]
  },
  {
   "cell_type": "code",
   "execution_count": null,
   "metadata": {
    "scrolled": true
   },
   "outputs": [
    {
     "name": "stdout",
     "output_type": "stream",
     "text": [
      "### matrix size: 2 ###\n"
     ]
    },
    {
     "name": "stderr",
     "output_type": "stream",
     "text": [
      "\u001b[32mRunning MPdBP: iter 2 \t Time: 0:00:00\u001b[39m\n",
      "\u001b[32mRunning MPdBP: iter 4 \t Time: 0:00:00\u001b[39m\n",
      "\u001b[32mRunning MPdBP: iter 5 \t Time: 0:00:00\u001b[39m\n",
      "\u001b[32mRunning MPdBP: iter 7 \t Time: 0:00:00\u001b[39m\n",
      "\u001b[32mRunning MPdBP: iter 2 \t Time: 0:00:00\u001b[39m\n",
      "\u001b[32mRunning MPdBP: iter 4 \t Time: 0:00:00\u001b[39m\n",
      "\u001b[34m  Δ:  0.02629315750551231\u001b[39m"
     ]
    }
   ],
   "source": [
    "ninstances = 200\n",
    "for (i, trunc_dim) in enumerate(bondsizes)\n",
    "    println(\"### matrix size: $trunc_dim ###\")\n",
    "    for a in 1:ninstances\n",
    "        auc_bp = sis_zp(T, N, λ, κ, γ, N; trunc_dim)\n",
    "        push!(aucs_bp[i], auc_bp)\n",
    "    end\n",
    "end"
   ]
  },
  {
   "cell_type": "code",
   "execution_count": null,
   "metadata": {},
   "outputs": [],
   "source": [
    "aucs_bp_avg = mean.(aucs_bp)\n",
    "aucs_bp_std = std.(aucs_bp) ./ sqrt.(length.(aucs_bp))\n",
    "println(\"SIS with: P(S→I)=λ=$λ, P(I→S)=κ=$κ. P(zero patient)=γ=$γ\")\n",
    "println(\"Random regular N=$N, k=3. T=$T, $N random observations from the prior at final time\")\n",
    "pl = plot(bondsizes, aucs_bp_avg, m=:o, ribbon=aucs_bp_std, label=\"bp\", xlabel=\"matrix size\", \n",
    "    ylabel=\"AUC\", legend=:bottomright)"
   ]
  },
  {
   "cell_type": "code",
   "execution_count": null,
   "metadata": {},
   "outputs": [],
   "source": []
  }
 ],
 "metadata": {
  "kernelspec": {
   "display_name": "Julia 1.8.0",
   "language": "julia",
   "name": "julia-1.8"
  },
  "language_info": {
   "file_extension": ".jl",
   "mimetype": "application/julia",
   "name": "julia",
   "version": "1.8.0"
  }
 },
 "nbformat": 4,
 "nbformat_minor": 4
}
