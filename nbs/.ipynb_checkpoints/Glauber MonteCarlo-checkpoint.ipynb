{
 "cells": [
  {
   "cell_type": "code",
   "execution_count": 10,
   "metadata": {},
   "outputs": [],
   "source": [
    "using Graphs\n",
    "using Plots\n",
    "import Statistics: mean\n",
    "include(\"../mpdbp.jl\")\n",
    "include(\"../exact/montecarlo.jl\")\n",
    "import ProgressMeter; ProgressMeter.ijulia_behavior(:clear);"
   ]
  },
  {
   "cell_type": "code",
   "execution_count": 11,
   "metadata": {},
   "outputs": [],
   "source": [
    "q = q_glauber\n",
    "T = 10\n",
    "N = 16\n",
    "k = 3\n",
    "gg = random_regular_graph(N, k)\n",
    "g = IndexedGraph(gg)\n",
    "h = zeros(N)\n",
    "J = ones(ne(g))\n",
    "β = 1.0\n",
    "ising = Ising(g, J, h, β)\n",
    "p⁰ = map(1:N) do i\n",
    "    r = 0.75\n",
    "    [r, 1-r]\n",
    "end\n",
    "ϕ = [[ones(2) for t in 1:T] for i in 1:N]\n",
    "\n",
    "gl = Glauber(ising, p⁰, ϕ);"
   ]
  },
  {
   "cell_type": "markdown",
   "metadata": {},
   "source": [
    "Run BP"
   ]
  },
  {
   "cell_type": "code",
   "execution_count": 12,
   "metadata": {},
   "outputs": [
    {
     "name": "stderr",
     "output_type": "stream",
     "text": [
      "\r",
      "\u001b[32mRunning MPdBP: iter 9 \t Time: 1:24:19\u001b[39m\r\n",
      "\u001b[34m  Δ:  0.0903854786793079\u001b[39m"
     ]
    },
    {
     "ename": "LoadError",
     "evalue": "InterruptException:",
     "output_type": "error",
     "traceback": [
      "InterruptException:",
      "",
      "Stacktrace:",
      "  [1] iterate",
      "    @ ./range.jl:883 [inlined]",
      "  [2] getindex",
      "    @ ./range.jl:424 [inlined]",
      "  [3] reduced_indices(inds::NTuple{6, Base.OneTo{Int64}}, d::Int64)",
      "    @ Base ./reducedim.jl:25",
      "  [4] reduced_indices",
      "    @ ./reducedim.jl:15 [inlined]",
      "  [5] reducedim_initarray(A::Array{Float64, 6}, region::Int64, init::Float64, #unused#::Type{Float64})",
      "    @ Base ./reducedim.jl:91",
      "  [6] reducedim_initarray",
      "    @ ./reducedim.jl:92 [inlined]",
      "  [7] reducedim_init",
      "    @ ./reducedim.jl:219 [inlined]",
      "  [8] _mapreduce_dim",
      "    @ ./reducedim.jl:371 [inlined]",
      "  [9] #mapreduce#764",
      "    @ ./reducedim.jl:357 [inlined]",
      " [10] #_sum#798",
      "    @ ./reducedim.jl:1023 [inlined]",
      " [11] _sum",
      "    @ ./reducedim.jl:1023 [inlined]",
      " [12] #_sum#797",
      "    @ ./reducedim.jl:1022 [inlined]",
      " [13] _sum",
      "    @ ./reducedim.jl:1022 [inlined]",
      " [14] #sum#771",
      "    @ ./reducedim.jl:994 [inlined]",
      " [15] macro expansion",
      "    @ ~/.julia/packages/TensorCast/mQB8h/src/macro.jl:209 [inlined]",
      " [16] mpem2(B::MPEM3{2, 10, Float64}; showprogress::Bool)",
      "    @ Main ~/MPdBP/mpem3.jl:72",
      " [17] mpem2(B::MPEM3{2, 10, Float64})",
      "    @ Main ~/MPdBP/mpem3.jl:55",
      " [18] belief(bp::MPdBP{2, 10, Float64, GlauberFactor{Float64}}, i::Int64; ε::Float64)",
      "    @ Main ~/MPdBP/mpdbp.jl:97",
      " [19] (::var\"#793#794\"{Float64, MPdBP{2, 10, Float64, GlauberFactor{Float64}}})(i::Int64)",
      "    @ Main ~/MPdBP/mpdbp.jl:109",
      " [20] iterate",
      "    @ ./generator.jl:47 [inlined]",
      " [21] collect_to!(dest::Vector{Vector{Float64}}, itr::Base.Generator{UnitRange{Int64}, var\"#793#794\"{Float64, MPdBP{2, 10, Float64, GlauberFactor{Float64}}}}, offs::Int64, st::Int64)",
      "    @ Base ./array.jl:845",
      " [22] collect_to_with_first!(dest::Vector{Vector{Float64}}, v1::Vector{Float64}, itr::Base.Generator{UnitRange{Int64}, var\"#793#794\"{Float64, MPdBP{2, 10, Float64, GlauberFactor{Float64}}}}, st::Int64)",
      "    @ Base ./array.jl:823",
      " [23] _collect(c::UnitRange{Int64}, itr::Base.Generator{UnitRange{Int64}, var\"#793#794\"{Float64, MPdBP{2, 10, Float64, GlauberFactor{Float64}}}}, #unused#::Base.EltypeUnknown, isz::Base.HasShape{1})",
      "    @ Base ./array.jl:817",
      " [24] collect_similar(cont::UnitRange{Int64}, itr::Base.Generator{UnitRange{Int64}, var\"#793#794\"{Float64, MPdBP{2, 10, Float64, GlauberFactor{Float64}}}})",
      "    @ Base ./array.jl:716",
      " [25] map",
      "    @ ./abstractarray.jl:2933 [inlined]",
      " [26] #magnetizations#792",
      "    @ ~/MPdBP/mpdbp.jl:108 [inlined]",
      " [27] magnetizations",
      "    @ ~/MPdBP/mpdbp.jl:106 [inlined]",
      " [28] (::CB_BP{ProgressUnknown})(bp::MPdBP{2, 10, Float64, GlauberFactor{Float64}}, it::Int64)",
      "    @ Main ~/MPdBP/mpdbp.jl:73",
      " [29] iterate!(bp::MPdBP{2, 10, Float64, GlauberFactor{Float64}}; maxiter::Int64, ε::Float64, cb::CB_BP{ProgressUnknown}, tol::Float64)",
      "    @ Main ~/MPdBP/mpdbp.jl:87",
      " [30] top-level scope",
      "    @ In[12]:4",
      " [31] eval",
      "    @ ./boot.jl:368 [inlined]",
      " [32] include_string(mapexpr::typeof(REPL.softscope), mod::Module, code::String, filename::String)",
      "    @ Base ./loading.jl:1428"
     ]
    }
   ],
   "source": [
    "ε = 1e-2\n",
    "bp = mpdbp(gl, d=1)\n",
    "cb = CB_BP(bp)\n",
    "iterate!(bp, maxiter=50; ε, cb, tol=1e-3)"
   ]
  },
  {
   "cell_type": "code",
   "execution_count": 13,
   "metadata": {},
   "outputs": [
    {
     "ename": "LoadError",
     "evalue": "InterruptException:",
     "output_type": "error",
     "traceback": [
      "InterruptException:",
      "",
      "Stacktrace:",
      "  [1] iterate",
      "    @ ./range.jl:883 [inlined]",
      "  [2] getindex",
      "    @ ./range.jl:424 [inlined]",
      "  [3] reduced_indices(inds::NTuple{6, Base.OneTo{Int64}}, d::Int64)",
      "    @ Base ./reducedim.jl:25",
      "  [4] reduced_indices",
      "    @ ./reducedim.jl:15 [inlined]",
      "  [5] reducedim_initarray(A::Array{Float64, 6}, region::Int64, init::Float64, #unused#::Type{Float64})",
      "    @ Base ./reducedim.jl:91",
      "  [6] reducedim_initarray",
      "    @ ./reducedim.jl:92 [inlined]",
      "  [7] reducedim_init",
      "    @ ./reducedim.jl:219 [inlined]",
      "  [8] _mapreduce_dim",
      "    @ ./reducedim.jl:371 [inlined]",
      "  [9] #mapreduce#764",
      "    @ ./reducedim.jl:357 [inlined]",
      " [10] #_sum#798",
      "    @ ./reducedim.jl:1023 [inlined]",
      " [11] _sum",
      "    @ ./reducedim.jl:1023 [inlined]",
      " [12] #_sum#797",
      "    @ ./reducedim.jl:1022 [inlined]",
      " [13] _sum",
      "    @ ./reducedim.jl:1022 [inlined]",
      " [14] #sum#771",
      "    @ ./reducedim.jl:994 [inlined]",
      " [15] macro expansion",
      "    @ ~/.julia/packages/TensorCast/mQB8h/src/macro.jl:209 [inlined]",
      " [16] mpem2(B::MPEM3{2, 10, Float64}; showprogress::Bool)",
      "    @ Main ~/MPdBP/mpem3.jl:72",
      " [17] mpem2(B::MPEM3{2, 10, Float64})",
      "    @ Main ~/MPdBP/mpem3.jl:55",
      " [18] belief(bp::MPdBP{2, 10, Float64, GlauberFactor{Float64}}, i::Int64; ε::Float64)",
      "    @ Main ~/MPdBP/mpdbp.jl:97",
      " [19] (::var\"#793#794\"{Float64, MPdBP{2, 10, Float64, GlauberFactor{Float64}}})(i::Int64)",
      "    @ Main ~/MPdBP/mpdbp.jl:109",
      " [20] iterate(::Base.Generator{UnitRange{Int64}, var\"#793#794\"{Float64, MPdBP{2, 10, Float64, GlauberFactor{Float64}}}})",
      "    @ Base ./generator.jl:47",
      " [21] _collect(c::UnitRange{Int64}, itr::Base.Generator{UnitRange{Int64}, var\"#793#794\"{Float64, MPdBP{2, 10, Float64, GlauberFactor{Float64}}}}, #unused#::Base.EltypeUnknown, isz::Base.HasShape{1})",
      "    @ Base ./array.jl:807",
      " [22] collect_similar(cont::UnitRange{Int64}, itr::Base.Generator{UnitRange{Int64}, var\"#793#794\"{Float64, MPdBP{2, 10, Float64, GlauberFactor{Float64}}}})",
      "    @ Base ./array.jl:716",
      " [23] map",
      "    @ ./abstractarray.jl:2933 [inlined]",
      " [24] #magnetizations#792",
      "    @ ~/MPdBP/mpdbp.jl:108 [inlined]",
      " [25] top-level scope",
      "    @ In[13]:1",
      " [26] eval",
      "    @ ./boot.jl:368 [inlined]",
      " [27] include_string(mapexpr::typeof(REPL.softscope), mod::Module, code::String, filename::String)",
      "    @ Base ./loading.jl:1428"
     ]
    }
   ],
   "source": [
    "m_bp = magnetizations(bp; ε)\n",
    "avg_mag = mean(m_bp)\n",
    "pl = plot(0:T, avg_mag, m=:o, xlabel=\"time\", ylabel=\"average mag\", label=\"BP\")"
   ]
  },
  {
   "cell_type": "markdown",
   "metadata": {},
   "source": [
    "Run Monte Carlo"
   ]
  },
  {
   "cell_type": "code",
   "execution_count": 14,
   "metadata": {},
   "outputs": [
    {
     "ename": "LoadError",
     "evalue": "InterruptException:",
     "output_type": "error",
     "traceback": [
      "InterruptException:",
      "",
      "Stacktrace:",
      " [1] top-level scope",
      "   @ In[14]:1",
      " [2] eval",
      "   @ ./boot.jl:368 [inlined]",
      " [3] include_string(mapexpr::typeof(REPL.softscope), mod::Module, code::String, filename::String)",
      "   @ Base ./loading.jl:1428"
     ]
    }
   ],
   "source": [
    "gs = sample(gl, nsamples=10^4, showprogress=true);"
   ]
  },
  {
   "cell_type": "code",
   "execution_count": 15,
   "metadata": {},
   "outputs": [
    {
     "ename": "LoadError",
     "evalue": "UndefVarError: pl not defined",
     "output_type": "error",
     "traceback": [
      "UndefVarError: pl not defined",
      "",
      "Stacktrace:",
      " [1] top-level scope",
      "   @ In[15]:3",
      " [2] eval",
      "   @ ./boot.jl:368 [inlined]",
      " [3] include_string(mapexpr::typeof(REPL.softscope), mod::Module, code::String, filename::String)",
      "   @ Base ./loading.jl:1428"
     ]
    }
   ],
   "source": [
    "m = magnetizations(gs)\n",
    "mm = mean(m, dims=2) |> vec\n",
    "plot!(pl, 0:T, mm, label=\"Monte Carlo\", m=:square)"
   ]
  },
  {
   "cell_type": "code",
   "execution_count": null,
   "metadata": {},
   "outputs": [],
   "source": []
  }
 ],
 "metadata": {
  "kernelspec": {
   "display_name": "Julia 1.8.0",
   "language": "julia",
   "name": "julia-1.8"
  },
  "language_info": {
   "file_extension": ".jl",
   "mimetype": "application/julia",
   "name": "julia",
   "version": "1.8.0"
  }
 },
 "nbformat": 4,
 "nbformat_minor": 4
}
